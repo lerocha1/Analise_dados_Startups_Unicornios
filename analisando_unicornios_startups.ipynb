{
 "cells": [
  {
   "cell_type": "code",
   "execution_count": 1,
   "id": "7cae1421",
   "metadata": {},
   "outputs": [],
   "source": [
    "import numpy as np\n",
    "import pandas as pd\n",
    "import os\n",
    "from datetime import datetime\n",
    "import matplotlib.pyplot as plt\n",
    "import seaborn as sns\n",
    "\n",
    "%matplotlib inline\n",
    "\n",
    "plt.rcParams['figure.figsize'] = [12,6]\n",
    "plt.rcParams['figure.dpi'] = 70\n",
    "sns.set_theme(style='white')"
   ]
  },
  {
   "cell_type": "code",
   "execution_count": 9,
   "id": "d317e422",
   "metadata": {},
   "outputs": [
    {
     "data": {
      "text/html": [
       "<div>\n",
       "<style scoped>\n",
       "    .dataframe tbody tr th:only-of-type {\n",
       "        vertical-align: middle;\n",
       "    }\n",
       "\n",
       "    .dataframe tbody tr th {\n",
       "        vertical-align: top;\n",
       "    }\n",
       "\n",
       "    .dataframe thead th {\n",
       "        text-align: right;\n",
       "    }\n",
       "</style>\n",
       "<table border=\"1\" class=\"dataframe\">\n",
       "  <thead>\n",
       "    <tr style=\"text-align: right;\">\n",
       "      <th></th>\n",
       "      <th>Unnamed: 0</th>\n",
       "      <th>Company</th>\n",
       "      <th>Valuation ($B)</th>\n",
       "      <th>Date Joined</th>\n",
       "      <th>Country</th>\n",
       "      <th>City</th>\n",
       "      <th>Industry</th>\n",
       "      <th>Investor 1</th>\n",
       "      <th>Investor 2</th>\n",
       "      <th>Investor 3</th>\n",
       "      <th>Investor 4</th>\n",
       "    </tr>\n",
       "  </thead>\n",
       "  <tbody>\n",
       "    <tr>\n",
       "      <th>0</th>\n",
       "      <td>0</td>\n",
       "      <td>Bytedance</td>\n",
       "      <td>140.0</td>\n",
       "      <td>2017-04-07</td>\n",
       "      <td>China</td>\n",
       "      <td>Beijing</td>\n",
       "      <td>Artificial intelligence</td>\n",
       "      <td>Sequoia Capital China</td>\n",
       "      <td>SIG Asia Investments</td>\n",
       "      <td>Sina Weibo</td>\n",
       "      <td>Softbank Group</td>\n",
       "    </tr>\n",
       "    <tr>\n",
       "      <th>1</th>\n",
       "      <td>1</td>\n",
       "      <td>SpaceX</td>\n",
       "      <td>100.3</td>\n",
       "      <td>2012-12-01</td>\n",
       "      <td>United States</td>\n",
       "      <td>Hawthorne</td>\n",
       "      <td>Other</td>\n",
       "      <td>Founders Fund</td>\n",
       "      <td>Draper Fisher Jurvetson</td>\n",
       "      <td>Rothenberg Ventures</td>\n",
       "      <td>NaN</td>\n",
       "    </tr>\n",
       "    <tr>\n",
       "      <th>2</th>\n",
       "      <td>2</td>\n",
       "      <td>Stripe</td>\n",
       "      <td>95.0</td>\n",
       "      <td>2014-01-23</td>\n",
       "      <td>United States</td>\n",
       "      <td>San Francisco</td>\n",
       "      <td>Fintech</td>\n",
       "      <td>Khosla Ventures</td>\n",
       "      <td>LowercaseCapital</td>\n",
       "      <td>capitalG</td>\n",
       "      <td>NaN</td>\n",
       "    </tr>\n",
       "    <tr>\n",
       "      <th>3</th>\n",
       "      <td>3</td>\n",
       "      <td>Klarna</td>\n",
       "      <td>45.6</td>\n",
       "      <td>2011-12-12</td>\n",
       "      <td>Sweden</td>\n",
       "      <td>Stockholm</td>\n",
       "      <td>Fintech</td>\n",
       "      <td>Institutional Venture Partners</td>\n",
       "      <td>Sequoia Capital</td>\n",
       "      <td>General Atlantic</td>\n",
       "      <td>NaN</td>\n",
       "    </tr>\n",
       "    <tr>\n",
       "      <th>4</th>\n",
       "      <td>4</td>\n",
       "      <td>Canva</td>\n",
       "      <td>40.0</td>\n",
       "      <td>2018-01-08</td>\n",
       "      <td>Australia</td>\n",
       "      <td>Surry Hills</td>\n",
       "      <td>Internet software &amp; services</td>\n",
       "      <td>Sequoia Capital China</td>\n",
       "      <td>Blackbird Ventures</td>\n",
       "      <td>Matrix Partners</td>\n",
       "      <td>NaN</td>\n",
       "    </tr>\n",
       "  </tbody>\n",
       "</table>\n",
       "</div>"
      ],
      "text/plain": [
       "   Unnamed: 0    Company  Valuation ($B) Date Joined        Country  \\\n",
       "0           0  Bytedance           140.0  2017-04-07          China   \n",
       "1           1     SpaceX           100.3  2012-12-01  United States   \n",
       "2           2     Stripe            95.0  2014-01-23  United States   \n",
       "3           3     Klarna            45.6  2011-12-12         Sweden   \n",
       "4           4      Canva            40.0  2018-01-08      Australia   \n",
       "\n",
       "            City                      Industry  \\\n",
       "0        Beijing       Artificial intelligence   \n",
       "1      Hawthorne                         Other   \n",
       "2  San Francisco                       Fintech   \n",
       "3      Stockholm                       Fintech   \n",
       "4    Surry Hills  Internet software & services   \n",
       "\n",
       "                       Investor 1               Investor 2  \\\n",
       "0           Sequoia Capital China     SIG Asia Investments   \n",
       "1                   Founders Fund  Draper Fisher Jurvetson   \n",
       "2                 Khosla Ventures         LowercaseCapital   \n",
       "3  Institutional Venture Partners          Sequoia Capital   \n",
       "4           Sequoia Capital China       Blackbird Ventures   \n",
       "\n",
       "            Investor 3      Investor 4  \n",
       "0           Sina Weibo  Softbank Group  \n",
       "1  Rothenberg Ventures             NaN  \n",
       "2             capitalG             NaN  \n",
       "3     General Atlantic             NaN  \n",
       "4      Matrix Partners             NaN  "
      ]
     },
     "execution_count": 9,
     "metadata": {},
     "output_type": "execute_result"
    }
   ],
   "source": [
    "#Lendo a base de dados\n",
    "df = pd.read_csv(r'C:\\Users\\leandro.rocha.A1\\PycharmProjects\\Unicornios_startup\\Unicorn_Clean.csv', sep=',')\n",
    "df.head()"
   ]
  },
  {
   "cell_type": "code",
   "execution_count": 10,
   "id": "891eb48b",
   "metadata": {},
   "outputs": [
    {
     "data": {
      "text/html": [
       "<div>\n",
       "<style scoped>\n",
       "    .dataframe tbody tr th:only-of-type {\n",
       "        vertical-align: middle;\n",
       "    }\n",
       "\n",
       "    .dataframe tbody tr th {\n",
       "        vertical-align: top;\n",
       "    }\n",
       "\n",
       "    .dataframe thead th {\n",
       "        text-align: right;\n",
       "    }\n",
       "</style>\n",
       "<table border=\"1\" class=\"dataframe\">\n",
       "  <thead>\n",
       "    <tr style=\"text-align: right;\">\n",
       "      <th></th>\n",
       "      <th>Company</th>\n",
       "      <th>Valuation ($B)</th>\n",
       "      <th>Date Joined</th>\n",
       "      <th>Country</th>\n",
       "      <th>City</th>\n",
       "      <th>Industry</th>\n",
       "      <th>Investor 1</th>\n",
       "      <th>Investor 2</th>\n",
       "      <th>Investor 3</th>\n",
       "      <th>Investor 4</th>\n",
       "    </tr>\n",
       "  </thead>\n",
       "  <tbody>\n",
       "    <tr>\n",
       "      <th>0</th>\n",
       "      <td>Bytedance</td>\n",
       "      <td>140.0</td>\n",
       "      <td>2017-04-07</td>\n",
       "      <td>China</td>\n",
       "      <td>Beijing</td>\n",
       "      <td>Artificial intelligence</td>\n",
       "      <td>Sequoia Capital China</td>\n",
       "      <td>SIG Asia Investments</td>\n",
       "      <td>Sina Weibo</td>\n",
       "      <td>Softbank Group</td>\n",
       "    </tr>\n",
       "    <tr>\n",
       "      <th>1</th>\n",
       "      <td>SpaceX</td>\n",
       "      <td>100.3</td>\n",
       "      <td>2012-12-01</td>\n",
       "      <td>United States</td>\n",
       "      <td>Hawthorne</td>\n",
       "      <td>Other</td>\n",
       "      <td>Founders Fund</td>\n",
       "      <td>Draper Fisher Jurvetson</td>\n",
       "      <td>Rothenberg Ventures</td>\n",
       "      <td>NaN</td>\n",
       "    </tr>\n",
       "    <tr>\n",
       "      <th>2</th>\n",
       "      <td>Stripe</td>\n",
       "      <td>95.0</td>\n",
       "      <td>2014-01-23</td>\n",
       "      <td>United States</td>\n",
       "      <td>San Francisco</td>\n",
       "      <td>Fintech</td>\n",
       "      <td>Khosla Ventures</td>\n",
       "      <td>LowercaseCapital</td>\n",
       "      <td>capitalG</td>\n",
       "      <td>NaN</td>\n",
       "    </tr>\n",
       "    <tr>\n",
       "      <th>3</th>\n",
       "      <td>Klarna</td>\n",
       "      <td>45.6</td>\n",
       "      <td>2011-12-12</td>\n",
       "      <td>Sweden</td>\n",
       "      <td>Stockholm</td>\n",
       "      <td>Fintech</td>\n",
       "      <td>Institutional Venture Partners</td>\n",
       "      <td>Sequoia Capital</td>\n",
       "      <td>General Atlantic</td>\n",
       "      <td>NaN</td>\n",
       "    </tr>\n",
       "    <tr>\n",
       "      <th>4</th>\n",
       "      <td>Canva</td>\n",
       "      <td>40.0</td>\n",
       "      <td>2018-01-08</td>\n",
       "      <td>Australia</td>\n",
       "      <td>Surry Hills</td>\n",
       "      <td>Internet software &amp; services</td>\n",
       "      <td>Sequoia Capital China</td>\n",
       "      <td>Blackbird Ventures</td>\n",
       "      <td>Matrix Partners</td>\n",
       "      <td>NaN</td>\n",
       "    </tr>\n",
       "  </tbody>\n",
       "</table>\n",
       "</div>"
      ],
      "text/plain": [
       "     Company  Valuation ($B) Date Joined        Country           City  \\\n",
       "0  Bytedance           140.0  2017-04-07          China        Beijing   \n",
       "1     SpaceX           100.3  2012-12-01  United States      Hawthorne   \n",
       "2     Stripe            95.0  2014-01-23  United States  San Francisco   \n",
       "3     Klarna            45.6  2011-12-12         Sweden      Stockholm   \n",
       "4      Canva            40.0  2018-01-08      Australia    Surry Hills   \n",
       "\n",
       "                       Industry                      Investor 1  \\\n",
       "0       Artificial intelligence           Sequoia Capital China   \n",
       "1                         Other                   Founders Fund   \n",
       "2                       Fintech                 Khosla Ventures   \n",
       "3                       Fintech  Institutional Venture Partners   \n",
       "4  Internet software & services           Sequoia Capital China   \n",
       "\n",
       "                Investor 2           Investor 3      Investor 4  \n",
       "0     SIG Asia Investments           Sina Weibo  Softbank Group  \n",
       "1  Draper Fisher Jurvetson  Rothenberg Ventures             NaN  \n",
       "2         LowercaseCapital             capitalG             NaN  \n",
       "3          Sequoia Capital     General Atlantic             NaN  \n",
       "4       Blackbird Ventures      Matrix Partners             NaN  "
      ]
     },
     "execution_count": 10,
     "metadata": {},
     "output_type": "execute_result"
    }
   ],
   "source": [
    "df=df.drop('Unnamed: 0', axis=1)\n",
    "df.head()"
   ]
  },
  {
   "cell_type": "code",
   "execution_count": 12,
   "id": "908de697",
   "metadata": {},
   "outputs": [
    {
     "data": {
      "text/html": [
       "<div>\n",
       "<style scoped>\n",
       "    .dataframe tbody tr th:only-of-type {\n",
       "        vertical-align: middle;\n",
       "    }\n",
       "\n",
       "    .dataframe tbody tr th {\n",
       "        vertical-align: top;\n",
       "    }\n",
       "\n",
       "    .dataframe thead th {\n",
       "        text-align: right;\n",
       "    }\n",
       "</style>\n",
       "<table border=\"1\" class=\"dataframe\">\n",
       "  <thead>\n",
       "    <tr style=\"text-align: right;\">\n",
       "      <th></th>\n",
       "      <th>Valuation ($B)</th>\n",
       "    </tr>\n",
       "    <tr>\n",
       "      <th>Industry</th>\n",
       "      <th></th>\n",
       "    </tr>\n",
       "  </thead>\n",
       "  <tbody>\n",
       "    <tr>\n",
       "      <th>Fintech</th>\n",
       "      <td>744.13</td>\n",
       "    </tr>\n",
       "    <tr>\n",
       "      <th>Internet software &amp; services</th>\n",
       "      <td>483.76</td>\n",
       "    </tr>\n",
       "    <tr>\n",
       "      <th>Artificial intelligence</th>\n",
       "      <td>312.84</td>\n",
       "    </tr>\n",
       "    <tr>\n",
       "      <th>E-commerce &amp; direct-to-consumer</th>\n",
       "      <td>291.10</td>\n",
       "    </tr>\n",
       "    <tr>\n",
       "      <th>Other</th>\n",
       "      <td>245.46</td>\n",
       "    </tr>\n",
       "    <tr>\n",
       "      <th>Health</th>\n",
       "      <td>166.26</td>\n",
       "    </tr>\n",
       "    <tr>\n",
       "      <th>Supply chain logistics &amp; delivery</th>\n",
       "      <td>146.29</td>\n",
       "    </tr>\n",
       "    <tr>\n",
       "      <th>Data management &amp; analytics</th>\n",
       "      <td>121.70</td>\n",
       "    </tr>\n",
       "    <tr>\n",
       "      <th>Cybersecurity</th>\n",
       "      <td>107.54</td>\n",
       "    </tr>\n",
       "    <tr>\n",
       "      <th>Hardware</th>\n",
       "      <td>98.59</td>\n",
       "    </tr>\n",
       "    <tr>\n",
       "      <th>Auto &amp; transportation</th>\n",
       "      <td>89.30</td>\n",
       "    </tr>\n",
       "    <tr>\n",
       "      <th>Edtech</th>\n",
       "      <td>85.37</td>\n",
       "    </tr>\n",
       "    <tr>\n",
       "      <th>Mobile &amp; telecommunications</th>\n",
       "      <td>79.09</td>\n",
       "    </tr>\n",
       "    <tr>\n",
       "      <th>Consumer &amp; retail</th>\n",
       "      <td>64.13</td>\n",
       "    </tr>\n",
       "    <tr>\n",
       "      <th>Travel</th>\n",
       "      <td>35.60</td>\n",
       "    </tr>\n",
       "  </tbody>\n",
       "</table>\n",
       "</div>"
      ],
      "text/plain": [
       "                                   Valuation ($B)\n",
       "Industry                                         \n",
       "Fintech                                    744.13\n",
       "Internet software & services               483.76\n",
       "Artificial intelligence                    312.84\n",
       "E-commerce & direct-to-consumer            291.10\n",
       "Other                                      245.46\n",
       "Health                                     166.26\n",
       "Supply chain logistics & delivery          146.29\n",
       "Data management & analytics                121.70\n",
       "Cybersecurity                              107.54\n",
       "Hardware                                    98.59\n",
       "Auto & transportation                       89.30\n",
       "Edtech                                      85.37\n",
       "Mobile & telecommunications                 79.09\n",
       "Consumer & retail                           64.13\n",
       "Travel                                      35.60"
      ]
     },
     "execution_count": 12,
     "metadata": {},
     "output_type": "execute_result"
    }
   ],
   "source": [
    "industriadf = df.groupby(by='Industry').sum().sort_values(by='Valuation ($B)', ascending=False)\n",
    "industriadf"
   ]
  },
  {
   "cell_type": "code",
   "execution_count": 19,
   "id": "1fed3d23",
   "metadata": {},
   "outputs": [
    {
     "data": {
      "text/plain": [
       "Text(0.5, 1.0, 'Industrias de maior Valor')"
      ]
     },
     "execution_count": 19,
     "metadata": {},
     "output_type": "execute_result"
    },
    {
     "data": {
      "image/png": "[encoded data removed]",
      "text/plain": [
       "<Figure size 840x420 with 1 Axes>"
      ]
     },
     "metadata": {},
     "output_type": "display_data"
    }
   ],
   "source": [
    "industria = sns.barplot(data = industriadf, x=industriadf.index, y='Valuation ($B)', palette='Purples_r')\n",
    "industria.set_xticklabels(industria.get_xticklabels(), rotation=90)\n",
    "industria.set_title('Industrias de maior Valor', fontsize=16)\n"
   ]
  },
  {
   "cell_type": "code",
   "execution_count": 22,
   "id": "73f98f5d",
   "metadata": {},
   "outputs": [
    {
     "data": {
      "text/html": [
       "<div>\n",
       "<style scoped>\n",
       "    .dataframe tbody tr th:only-of-type {\n",
       "        vertical-align: middle;\n",
       "    }\n",
       "\n",
       "    .dataframe tbody tr th {\n",
       "        vertical-align: top;\n",
       "    }\n",
       "\n",
       "    .dataframe thead th {\n",
       "        text-align: right;\n",
       "    }\n",
       "</style>\n",
       "<table border=\"1\" class=\"dataframe\">\n",
       "  <thead>\n",
       "    <tr style=\"text-align: right;\">\n",
       "      <th></th>\n",
       "      <th>Valuation ($B)</th>\n",
       "    </tr>\n",
       "    <tr>\n",
       "      <th>Company</th>\n",
       "      <th></th>\n",
       "    </tr>\n",
       "  </thead>\n",
       "  <tbody>\n",
       "    <tr>\n",
       "      <th>Bytedance</th>\n",
       "      <td>140.0</td>\n",
       "    </tr>\n",
       "    <tr>\n",
       "      <th>SpaceX</th>\n",
       "      <td>100.3</td>\n",
       "    </tr>\n",
       "    <tr>\n",
       "      <th>Stripe</th>\n",
       "      <td>95.0</td>\n",
       "    </tr>\n",
       "    <tr>\n",
       "      <th>Klarna</th>\n",
       "      <td>45.6</td>\n",
       "    </tr>\n",
       "    <tr>\n",
       "      <th>Canva</th>\n",
       "      <td>40.0</td>\n",
       "    </tr>\n",
       "    <tr>\n",
       "      <th>Instacart</th>\n",
       "      <td>39.0</td>\n",
       "    </tr>\n",
       "    <tr>\n",
       "      <th>Databricks</th>\n",
       "      <td>38.0</td>\n",
       "    </tr>\n",
       "    <tr>\n",
       "      <th>Revolut</th>\n",
       "      <td>33.0</td>\n",
       "    </tr>\n",
       "    <tr>\n",
       "      <th>Nubank</th>\n",
       "      <td>30.0</td>\n",
       "    </tr>\n",
       "    <tr>\n",
       "      <th>Epic Games</th>\n",
       "      <td>28.7</td>\n",
       "    </tr>\n",
       "  </tbody>\n",
       "</table>\n",
       "</div>"
      ],
      "text/plain": [
       "            Valuation ($B)\n",
       "Company                   \n",
       "Bytedance            140.0\n",
       "SpaceX               100.3\n",
       "Stripe                95.0\n",
       "Klarna                45.6\n",
       "Canva                 40.0\n",
       "Instacart             39.0\n",
       "Databricks            38.0\n",
       "Revolut               33.0\n",
       "Nubank                30.0\n",
       "Epic Games            28.7"
      ]
     },
     "execution_count": 22,
     "metadata": {},
     "output_type": "execute_result"
    }
   ],
   "source": [
    "compania = df.groupby(by='Company').sum().sort_values(by='Valuation ($B)', ascending=False).head(20)\n",
    "compania.head(10)"
   ]
  },
  {
   "cell_type": "code",
   "execution_count": 23,
   "id": "3f44341f",
   "metadata": {},
   "outputs": [
    {
     "data": {
      "image/png": "[encoded data removed]",
      "text/plain": [
       "<Figure size 840x420 with 1 Axes>"
      ]
     },
     "metadata": {},
     "output_type": "display_data"
    }
   ],
   "source": [
    "company = sns.barplot(data=compania, x = compania.index, y = 'Valuation ($B)', palette = 'Purples_r')\n",
    "company.set_xticklabels(company.get_xticklabels(), rotation=90)\n",
    "company.set_title('Companias com maior Valor',fontsize=16);"
   ]
  },
  {
   "cell_type": "code",
   "execution_count": 24,
   "id": "a13f8c5e",
   "metadata": {},
   "outputs": [],
   "source": [
    "df['Date Joined'] = pd.to_datetime(df['Date Joined'])"
   ]
  },
  {
   "cell_type": "code",
   "execution_count": 34,
   "id": "31b639f9",
   "metadata": {},
   "outputs": [
    {
     "data": {
      "text/plain": [
       "Text(0.5, 1.0, 'Surgimento dos Unicornios')"
      ]
     },
     "execution_count": 34,
     "metadata": {},
     "output_type": "execute_result"
    },
    {
     "data": {
      "image/png": "[encoded data removed]",
      "text/plain": [
       "<Figure size 840x420 with 1 Axes>"
      ]
     },
     "metadata": {},
     "output_type": "display_data"
    }
   ],
   "source": [
    "date = sns.histplot(data=df, x = 'Date Joined', palette='Purples_r', bins=20)\n",
    "date.set_title('Surgimento dos Unicornios')"
   ]
  },
  {
   "cell_type": "code",
   "execution_count": 26,
   "id": "7e53ed57",
   "metadata": {},
   "outputs": [
    {
     "data": {
      "text/html": [
       "<div>\n",
       "<style scoped>\n",
       "    .dataframe tbody tr th:only-of-type {\n",
       "        vertical-align: middle;\n",
       "    }\n",
       "\n",
       "    .dataframe tbody tr th {\n",
       "        vertical-align: top;\n",
       "    }\n",
       "\n",
       "    .dataframe thead th {\n",
       "        text-align: right;\n",
       "    }\n",
       "</style>\n",
       "<table border=\"1\" class=\"dataframe\">\n",
       "  <thead>\n",
       "    <tr style=\"text-align: right;\">\n",
       "      <th></th>\n",
       "      <th>Date Joined</th>\n",
       "      <th>Company</th>\n",
       "      <th>Country</th>\n",
       "      <th>Industry</th>\n",
       "      <th>Valuation ($B)</th>\n",
       "    </tr>\n",
       "  </thead>\n",
       "  <tbody>\n",
       "    <tr>\n",
       "      <th>0</th>\n",
       "      <td>2007-07-31</td>\n",
       "      <td>Veepee</td>\n",
       "      <td>France</td>\n",
       "      <td>E-commerce &amp; direct-to-consumer</td>\n",
       "      <td>1.38</td>\n",
       "    </tr>\n",
       "    <tr>\n",
       "      <th>1</th>\n",
       "      <td>2010-12-31</td>\n",
       "      <td>VANCL</td>\n",
       "      <td>China</td>\n",
       "      <td>E-commerce &amp; direct-to-consumer</td>\n",
       "      <td>3.00</td>\n",
       "    </tr>\n",
       "    <tr>\n",
       "      <th>2</th>\n",
       "      <td>2011-04-30</td>\n",
       "      <td>Vice Media</td>\n",
       "      <td>United States</td>\n",
       "      <td>Internet software &amp; services</td>\n",
       "      <td>5.70</td>\n",
       "    </tr>\n",
       "    <tr>\n",
       "      <th>3</th>\n",
       "      <td>2011-12-31</td>\n",
       "      <td>Klarna</td>\n",
       "      <td>Sweden</td>\n",
       "      <td>Fintech</td>\n",
       "      <td>45.60</td>\n",
       "    </tr>\n",
       "    <tr>\n",
       "      <th>4</th>\n",
       "      <td>2012-02-29</td>\n",
       "      <td>Trendy Group International</td>\n",
       "      <td>Hong Kong</td>\n",
       "      <td>Consumer &amp; retail</td>\n",
       "      <td>2.00</td>\n",
       "    </tr>\n",
       "  </tbody>\n",
       "</table>\n",
       "</div>"
      ],
      "text/plain": [
       "  Date Joined                     Company        Country  \\\n",
       "0  2007-07-31                      Veepee         France   \n",
       "1  2010-12-31                       VANCL          China   \n",
       "2  2011-04-30                  Vice Media  United States   \n",
       "3  2011-12-31                      Klarna         Sweden   \n",
       "4  2012-02-29  Trendy Group International      Hong Kong   \n",
       "\n",
       "                          Industry  Valuation ($B)  \n",
       "0  E-commerce & direct-to-consumer            1.38  \n",
       "1  E-commerce & direct-to-consumer            3.00  \n",
       "2     Internet software & services            5.70  \n",
       "3                          Fintech           45.60  \n",
       "4                Consumer & retail            2.00  "
      ]
     },
     "execution_count": 26,
     "metadata": {},
     "output_type": "execute_result"
    }
   ],
   "source": [
    "dates = df.groupby(['Date Joined', 'Company','Country','Industry'])['Valuation ($B)'].sum()\n",
    "dates = pd.DataFrame(dates, columns = ['Valuation ($B)'])\n",
    "dates.reset_index(inplace=True)\n",
    "dates = dates.groupby([pd.Grouper(key='Date Joined',freq='M'), \"Company\", 'Country', 'Industry', 'Valuation ($B)']).sum()\n",
    "dates.reset_index(inplace=True)\n",
    "dates.head()"
   ]
  },
  {
   "cell_type": "code",
   "execution_count": 28,
   "id": "ee5cb672",
   "metadata": {},
   "outputs": [],
   "source": [
    "dates['Date Joined'] = pd.to_datetime(dates['Date Joined']).dt.date"
   ]
  },
  {
   "cell_type": "code",
   "execution_count": 40,
   "id": "74d1bbf2",
   "metadata": {},
   "outputs": [
    {
     "data": {
      "text/html": [
       "<div>\n",
       "<style scoped>\n",
       "    .dataframe tbody tr th:only-of-type {\n",
       "        vertical-align: middle;\n",
       "    }\n",
       "\n",
       "    .dataframe tbody tr th {\n",
       "        vertical-align: top;\n",
       "    }\n",
       "\n",
       "    .dataframe thead th {\n",
       "        text-align: right;\n",
       "    }\n",
       "</style>\n",
       "<table border=\"1\" class=\"dataframe\">\n",
       "  <thead>\n",
       "    <tr style=\"text-align: right;\">\n",
       "      <th></th>\n",
       "      <th>Company</th>\n",
       "      <th>Valuation ($B)</th>\n",
       "      <th>Date Joined</th>\n",
       "      <th>Country</th>\n",
       "      <th>City</th>\n",
       "      <th>Industry</th>\n",
       "      <th>Investor 1</th>\n",
       "      <th>Investor 2</th>\n",
       "      <th>Investor 3</th>\n",
       "      <th>Investor 4</th>\n",
       "    </tr>\n",
       "  </thead>\n",
       "  <tbody>\n",
       "    <tr>\n",
       "      <th>0</th>\n",
       "      <td>Bytedance</td>\n",
       "      <td>140.0</td>\n",
       "      <td>2017-04-07</td>\n",
       "      <td>China</td>\n",
       "      <td>Beijing</td>\n",
       "      <td>Artificial intelligence</td>\n",
       "      <td>Sequoia Capital China</td>\n",
       "      <td>SIG Asia Investments</td>\n",
       "      <td>Sina Weibo</td>\n",
       "      <td>Softbank Group</td>\n",
       "    </tr>\n",
       "    <tr>\n",
       "      <th>1</th>\n",
       "      <td>SpaceX</td>\n",
       "      <td>100.3</td>\n",
       "      <td>2012-12-01</td>\n",
       "      <td>United States</td>\n",
       "      <td>Hawthorne</td>\n",
       "      <td>Other</td>\n",
       "      <td>Founders Fund</td>\n",
       "      <td>Draper Fisher Jurvetson</td>\n",
       "      <td>Rothenberg Ventures</td>\n",
       "      <td>NaN</td>\n",
       "    </tr>\n",
       "    <tr>\n",
       "      <th>2</th>\n",
       "      <td>Stripe</td>\n",
       "      <td>95.0</td>\n",
       "      <td>2014-01-23</td>\n",
       "      <td>United States</td>\n",
       "      <td>San Francisco</td>\n",
       "      <td>Fintech</td>\n",
       "      <td>Khosla Ventures</td>\n",
       "      <td>LowercaseCapital</td>\n",
       "      <td>capitalG</td>\n",
       "      <td>NaN</td>\n",
       "    </tr>\n",
       "    <tr>\n",
       "      <th>3</th>\n",
       "      <td>Klarna</td>\n",
       "      <td>45.6</td>\n",
       "      <td>2011-12-12</td>\n",
       "      <td>Sweden</td>\n",
       "      <td>Stockholm</td>\n",
       "      <td>Fintech</td>\n",
       "      <td>Institutional Venture Partners</td>\n",
       "      <td>Sequoia Capital</td>\n",
       "      <td>General Atlantic</td>\n",
       "      <td>NaN</td>\n",
       "    </tr>\n",
       "    <tr>\n",
       "      <th>4</th>\n",
       "      <td>Canva</td>\n",
       "      <td>40.0</td>\n",
       "      <td>2018-01-08</td>\n",
       "      <td>Australia</td>\n",
       "      <td>Surry Hills</td>\n",
       "      <td>Internet software &amp; services</td>\n",
       "      <td>Sequoia Capital China</td>\n",
       "      <td>Blackbird Ventures</td>\n",
       "      <td>Matrix Partners</td>\n",
       "      <td>NaN</td>\n",
       "    </tr>\n",
       "  </tbody>\n",
       "</table>\n",
       "</div>"
      ],
      "text/plain": [
       "     Company  Valuation ($B) Date Joined        Country           City  \\\n",
       "0  Bytedance           140.0  2017-04-07          China        Beijing   \n",
       "1     SpaceX           100.3  2012-12-01  United States      Hawthorne   \n",
       "2     Stripe            95.0  2014-01-23  United States  San Francisco   \n",
       "3     Klarna            45.6  2011-12-12         Sweden      Stockholm   \n",
       "4      Canva            40.0  2018-01-08      Australia    Surry Hills   \n",
       "\n",
       "                       Industry                      Investor 1  \\\n",
       "0       Artificial intelligence           Sequoia Capital China   \n",
       "1                         Other                   Founders Fund   \n",
       "2                       Fintech                 Khosla Ventures   \n",
       "3                       Fintech  Institutional Venture Partners   \n",
       "4  Internet software & services           Sequoia Capital China   \n",
       "\n",
       "                Investor 2           Investor 3      Investor 4  \n",
       "0     SIG Asia Investments           Sina Weibo  Softbank Group  \n",
       "1  Draper Fisher Jurvetson  Rothenberg Ventures             NaN  \n",
       "2         LowercaseCapital             capitalG             NaN  \n",
       "3          Sequoia Capital     General Atlantic             NaN  \n",
       "4       Blackbird Ventures      Matrix Partners             NaN  "
      ]
     },
     "execution_count": 40,
     "metadata": {},
     "output_type": "execute_result"
    }
   ],
   "source": [
    "sns.scatterplot(data=df, x = 'Date Joined', y = 'Daily Value ($M)', hue='Industry', size='Valuation ($B)', palette = 'Spectral')"
   ]
  },
  {
   "cell_type": "code",
   "execution_count": 36,
   "id": "f7c42642",
   "metadata": {},
   "outputs": [
    {
     "data": {
      "application/vnd.plotly.v1+json": {
       "config": {
        "plotlyServerURL": "https://plot.ly"
       },
       "data": [
        {
         "alignmentgroup": "True",
         "customdata": [
          [
           "Veepee",
           "E-commerce & direct-to-consumer"
          ],
          [
           "VANCL",
           "E-commerce & direct-to-consumer"
          ],
          [
           "Fanatics",
           "E-commerce & direct-to-consumer"
          ],
          [
           "Snapdeal",
           "E-commerce & direct-to-consumer"
          ],
          [
           "TechStyle Fashion Group",
           "E-commerce & direct-to-consumer"
          ],
          [
           "Houzz",
           "E-commerce & direct-to-consumer"
          ],
          [
           "Koudai",
           "E-commerce & direct-to-consumer"
          ],
          [
           "BeiBei",
           "E-commerce & direct-to-consumer"
          ],
          [
           "Lamabang",
           "E-commerce & direct-to-consumer"
          ],
          [
           "Tubatu.com",
           "E-commerce & direct-to-consumer"
          ],
          [
           "Jiuxian",
           "E-commerce & direct-to-consumer"
          ],
          [
           "Mia.com",
           "E-commerce & direct-to-consumer"
          ],
          [
           "Thumbtack",
           "E-commerce & direct-to-consumer"
          ],
          [
           "WEMAKEPRICE",
           "E-commerce & direct-to-consumer"
          ],
          [
           "AppDirect",
           "E-commerce & direct-to-consumer"
          ],
          [
           "Womai",
           "E-commerce & direct-to-consumer"
          ],
          [
           "Chehaoduo",
           "E-commerce & direct-to-consumer"
          ],
          [
           "Xiaohongshu",
           "E-commerce & direct-to-consumer"
          ],
          [
           "Juanpi",
           "E-commerce & direct-to-consumer"
          ],
          [
           "Lianjia",
           "E-commerce & direct-to-consumer"
          ],
          [
           "Mofang Living",
           "E-commerce & direct-to-consumer"
          ],
          [
           "HuiMin",
           "E-commerce & direct-to-consumer"
          ],
          [
           "Zhuan Zhuan",
           "E-commerce & direct-to-consumer"
          ],
          [
           "Zhaogang",
           "E-commerce & direct-to-consumer"
          ],
          [
           "DianRong",
           "E-commerce & direct-to-consumer"
          ],
          [
           "SouChe Holdings",
           "E-commerce & direct-to-consumer"
          ],
          [
           "Huitongda",
           "E-commerce & direct-to-consumer"
          ],
          [
           "Ziroom",
           "E-commerce & direct-to-consumer"
          ],
          [
           "JOLLY Information Technology",
           "E-commerce & direct-to-consumer"
          ],
          [
           "SHEIN",
           "E-commerce & direct-to-consumer"
          ],
          [
           "Allbirds",
           "E-commerce & direct-to-consumer"
          ],
          [
           "Hosjoy",
           "E-commerce & direct-to-consumer"
          ],
          [
           "eDaili",
           "E-commerce & direct-to-consumer"
          ],
          [
           "Carzone",
           "E-commerce & direct-to-consumer"
          ],
          [
           "Yipin Shengxian",
           "E-commerce & direct-to-consumer"
          ],
          [
           "Away",
           "E-commerce & direct-to-consumer"
          ],
          [
           "Miaoshou Doctor",
           "E-commerce & direct-to-consumer"
          ],
          [
           "StockX",
           "E-commerce & direct-to-consumer"
          ],
          [
           "Grove Collaborative",
           "E-commerce & direct-to-consumer"
          ],
          [
           "QuintoAndar",
           "E-commerce & direct-to-consumer"
          ],
          [
           "KK Group",
           "E-commerce & direct-to-consumer"
          ],
          [
           "MUSINSA",
           "E-commerce & direct-to-consumer"
          ],
          [
           "Vinted",
           "E-commerce & direct-to-consumer"
          ],
          [
           "Lenskart",
           "E-commerce & direct-to-consumer"
          ],
          [
           "Loft",
           "E-commerce & direct-to-consumer"
          ],
          [
           "FirstCry",
           "E-commerce & direct-to-consumer"
          ],
          [
           "Hotmart",
           "E-commerce & direct-to-consumer"
          ],
          [
           "Newlink Group",
           "E-commerce & direct-to-consumer"
          ],
          [
           "Xingsheng Selected",
           "E-commerce & direct-to-consumer"
          ],
          [
           "Gymshark",
           "E-commerce & direct-to-consumer"
          ],
          [
           "GOAT",
           "E-commerce & direct-to-consumer"
          ],
          [
           "Mirakl",
           "E-commerce & direct-to-consumer"
          ],
          [
           "Xingyun Group",
           "E-commerce & direct-to-consumer"
          ],
          [
           "Zwift",
           "E-commerce & direct-to-consumer"
          ],
          [
           "Kavak",
           "E-commerce & direct-to-consumer"
          ],
          [
           "Whoop",
           "E-commerce & direct-to-consumer"
          ],
          [
           "goPuff",
           "E-commerce & direct-to-consumer"
          ],
          [
           "Cars24",
           "E-commerce & direct-to-consumer"
          ],
          [
           "Pharmapacks",
           "E-commerce & direct-to-consumer"
          ],
          [
           "Everly Health",
           "E-commerce & direct-to-consumer"
          ],
          [
           "MadeiraMadeira",
           "E-commerce & direct-to-consumer"
          ],
          [
           "Infra.Market",
           "E-commerce & direct-to-consumer"
          ],
          [
           "Dutchie",
           "E-commerce & direct-to-consumer"
          ],
          [
           "Fetch Rewards",
           "E-commerce & direct-to-consumer"
          ],
          [
           "Getir",
           "E-commerce & direct-to-consumer"
          ],
          [
           "Gorillas",
           "E-commerce & direct-to-consumer"
          ],
          [
           "Savage X Fenty",
           "E-commerce & direct-to-consumer"
          ],
          [
           "Tonal",
           "E-commerce & direct-to-consumer"
          ],
          [
           "Vestiaire Collective",
           "E-commerce & direct-to-consumer"
          ],
          [
           "Misfits Market",
           "E-commerce & direct-to-consumer"
          ],
          [
           "Skims",
           "E-commerce & direct-to-consumer"
          ],
          [
           "The Zebra",
           "E-commerce & direct-to-consumer"
          ],
          [
           "Urban Company",
           "E-commerce & direct-to-consumer"
          ],
          [
           "Back Market",
           "E-commerce & direct-to-consumer"
          ],
          [
           "Moglix",
           "E-commerce & direct-to-consumer"
          ],
          [
           "Carro",
           "E-commerce & direct-to-consumer"
          ],
          [
           "Oda",
           "E-commerce & direct-to-consumer"
          ],
          [
           "SSENSE",
           "E-commerce & direct-to-consumer"
          ],
          [
           "Carsome",
           "E-commerce & direct-to-consumer"
          ],
          [
           "ManoMano",
           "E-commerce & direct-to-consumer"
          ],
          [
           "OfBusiness",
           "E-commerce & direct-to-consumer"
          ],
          [
           "OpenSea",
           "E-commerce & direct-to-consumer"
          ],
          [
           "Gelato",
           "E-commerce & direct-to-consumer"
          ],
          [
           "Nuvemshop",
           "E-commerce & direct-to-consumer"
          ],
          [
           "Berlin Brands Group",
           "E-commerce & direct-to-consumer"
          ],
          [
           "Carousell",
           "E-commerce & direct-to-consumer"
          ],
          [
           "Cider",
           "E-commerce & direct-to-consumer"
          ],
          [
           "GrubMarket",
           "E-commerce & direct-to-consumer"
          ],
          [
           "Sorare",
           "E-commerce & direct-to-consumer"
          ],
          [
           "Whatnot",
           "E-commerce & direct-to-consumer"
          ],
          [
           "CarDekho",
           "E-commerce & direct-to-consumer"
          ],
          [
           "Licious",
           "E-commerce & direct-to-consumer"
          ],
          [
           "Rebel Foods",
           "E-commerce & direct-to-consumer"
          ],
          [
           "Vuori",
           "E-commerce & direct-to-consumer"
          ],
          [
           "Daily Harvest",
           "E-commerce & direct-to-consumer"
          ],
          [
           "Heyday",
           "E-commerce & direct-to-consumer"
          ],
          [
           "Motorway",
           "E-commerce & direct-to-consumer"
          ],
          [
           "MyGlamm",
           "E-commerce & direct-to-consumer"
          ],
          [
           "Spinny",
           "E-commerce & direct-to-consumer"
          ],
          [
           "Flink",
           "E-commerce & direct-to-consumer"
          ],
          [
           "Jokr",
           "E-commerce & direct-to-consumer"
          ],
          [
           "Pet Circle",
           "E-commerce & direct-to-consumer"
          ]
         ],
         "hovertemplate": "Industry=%{customdata[1]}<br>Date Joined=%{x}<br>Valuation ($B)=%{y}<br>Company=%{customdata[0]}<extra></extra>",
         "legendgroup": "E-commerce & direct-to-consumer",
         "marker": {
          "color": "#636efa",
          "pattern": {
           "shape": ""
          }
         },
         "name": "E-commerce & direct-to-consumer",
         "offsetgroup": "E-commerce & direct-to-consumer",
         "orientation": "v",
         "showlegend": true,
         "textposition": "auto",
         "type": "bar",
         "x": [
          "2007-07-31",
          "2010-12-31",
          "2012-06-30",
          "2014-05-31",
          "2014-08-31",
          "2014-09-30",
          "2014-10-31",
          "2015-01-31",
          "2015-03-31",
          "2015-03-31",
          "2015-07-31",
          "2015-09-30",
          "2015-09-30",
          "2015-09-30",
          "2015-10-31",
          "2015-10-31",
          "2016-03-31",
          "2016-03-31",
          "2016-04-30",
          "2016-04-30",
          "2016-04-30",
          "2016-09-30",
          "2017-04-30",
          "2017-06-30",
          "2017-08-31",
          "2017-11-30",
          "2017-12-31",
          "2018-01-31",
          "2018-05-31",
          "2018-07-31",
          "2018-10-31",
          "2018-10-31",
          "2019-02-28",
          "2019-03-31",
          "2019-03-31",
          "2019-05-31",
          "2019-06-30",
          "2019-06-30",
          "2019-09-30",
          "2019-09-30",
          "2019-10-31",
          "2019-11-30",
          "2019-11-30",
          "2019-12-31",
          "2020-01-31",
          "2020-02-29",
          "2020-03-31",
          "2020-07-31",
          "2020-07-31",
          "2020-08-31",
          "2020-09-30",
          "2020-09-30",
          "2020-09-30",
          "2020-09-30",
          "2020-10-31",
          "2020-10-31",
          "2020-10-31",
          "2020-11-30",
          "2020-11-30",
          "2020-12-31",
          "2021-01-31",
          "2021-02-28",
          "2021-03-31",
          "2021-03-31",
          "2021-03-31",
          "2021-03-31",
          "2021-03-31",
          "2021-03-31",
          "2021-03-31",
          "2021-04-30",
          "2021-04-30",
          "2021-04-30",
          "2021-04-30",
          "2021-05-31",
          "2021-05-31",
          "2021-06-30",
          "2021-06-30",
          "2021-06-30",
          "2021-07-31",
          "2021-07-31",
          "2021-07-31",
          "2021-07-31",
          "2021-08-31",
          "2021-08-31",
          "2021-09-30",
          "2021-09-30",
          "2021-09-30",
          "2021-09-30",
          "2021-09-30",
          "2021-09-30",
          "2021-10-31",
          "2021-10-31",
          "2021-10-31",
          "2021-10-31",
          "2021-11-30",
          "2021-11-30",
          "2021-11-30",
          "2021-11-30",
          "2021-11-30",
          "2021-12-31",
          "2021-12-31",
          "2021-12-31"
         ],
         "xaxis": "x",
         "y": [
          1.38,
          3,
          18,
          1,
          1,
          4,
          1.4,
          1,
          1,
          2,
          1.05,
          1,
          3.2,
          2.34,
          1.1,
          1,
          9,
          20,
          1.1,
          5.77,
          1.5,
          2,
          1,
          1,
          1,
          3,
          3.18,
          6.6,
          1.5,
          15,
          1.7,
          1,
          1.9,
          1.52,
          1.49,
          1.4,
          4.25,
          3.8,
          1.32,
          5.1,
          3,
          2.2,
          4.53,
          2.5,
          2.9,
          2.1,
          1,
          1,
          8,
          1.45,
          3.7,
          3.5,
          2,
          1,
          8.7,
          3.6,
          15,
          1.84,
          1.1,
          1.3,
          1,
          2.5,
          3.75,
          1,
          7.5,
          3.1,
          1.2,
          1.6,
          1.7,
          2,
          1.6,
          1,
          2.1,
          3.2,
          1,
          1,
          1.2,
          4.15,
          1.3,
          2.6,
          3,
          1.5,
          1,
          3.1,
          1,
          1.1,
          1,
          1.2,
          4.3,
          1.5,
          1.2,
          1,
          1.4,
          4,
          1.1,
          1,
          1.33,
          1.2,
          1.75,
          2.7,
          1.2,
          1
         ],
         "yaxis": "y"
        },
        {
         "alignmentgroup": "True",
         "customdata": [
          [
           "Vice Media",
           "Internet software & services"
          ],
          [
           "Automattic",
           "Internet software & services"
          ],
          [
           "Zhubajie",
           "Internet software & services"
          ],
          [
           "Flipboard",
           "Internet software & services"
          ],
          [
           "Vox Media",
           "Internet software & services"
          ],
          [
           "58 Daojia",
           "Internet software & services"
          ],
          [
           "SMS Assist",
           "Internet software & services"
          ],
          [
           "Quora",
           "Internet software & services"
          ],
          [
           "reddit",
           "Internet software & services"
          ],
          [
           "InVision",
           "Internet software & services"
          ],
          [
           "Kuaikan Manhua",
           "Internet software & services"
          ],
          [
           "Canva",
           "Internet software & services"
          ],
          [
           "Intercom",
           "Internet software & services"
          ],
          [
           "Discord",
           "Internet software & services"
          ],
          [
           "WTOIP",
           "Internet software & services"
          ],
          [
           "Xinchao Media",
           "Internet software & services"
          ],
          [
           "ThoughtSpot",
           "Internet software & services"
          ],
          [
           "OutSystems",
           "Internet software & services"
          ],
          [
           "MediaMath",
           "Internet software & services"
          ],
          [
           "Deezer",
           "Internet software & services"
          ],
          [
           "Nxin",
           "Internet software & services"
          ],
          [
           "Talkdesk",
           "Internet software & services"
          ],
          [
           "Airtable",
           "Internet software & services"
          ],
          [
           "HashiCorp",
           "Internet software & services"
          ],
          [
           "ServiceTitan",
           "Internet software & services"
          ],
          [
           "Seismic",
           "Internet software & services"
          ],
          [
           "Dream11",
           "Internet software & services"
          ],
          [
           "Outreach",
           "Internet software & services"
          ],
          [
           "VTS",
           "Internet software & services"
          ],
          [
           "Gympass",
           "Internet software & services"
          ],
          [
           "Ouyeel",
           "Internet software & services"
          ],
          [
           "OneTrust",
           "Internet software & services"
          ],
          [
           "Checkr",
           "Internet software & services"
          ],
          [
           "Workrise",
           "Internet software & services"
          ],
          [
           "Grammarly",
           "Internet software & services"
          ],
          [
           "Kujiale",
           "Internet software & services"
          ],
          [
           "Pendo",
           "Internet software & services"
          ],
          [
           "Guild Education",
           "Internet software & services"
          ],
          [
           "Dataiku",
           "Internet software & services"
          ],
          [
           "Justworks",
           "Internet software & services"
          ],
          [
           "Figma",
           "Internet software & services"
          ],
          [
           "Notion Labs",
           "Internet software & services"
          ],
          [
           "Podium",
           "Internet software & services"
          ],
          [
           "Postman",
           "Internet software & services"
          ],
          [
           "Workhuman",
           "Internet software & services"
          ],
          [
           "Rippling",
           "Internet software & services"
          ],
          [
           "Patreon",
           "Internet software & services"
          ],
          [
           "Dialpad",
           "Internet software & services"
          ],
          [
           "Eightfold.ai",
           "Internet software & services"
          ],
          [
           "Tekion",
           "Internet software & services"
          ],
          [
           "Hopin",
           "Internet software & services"
          ],
          [
           "Klaviyo",
           "Internet software & services"
          ],
          [
           "Strava",
           "Internet software & services"
          ],
          [
           "ClickUp",
           "Internet software & services"
          ],
          [
           "DailyHunt",
           "Internet software & services"
          ],
          [
           "Kong",
           "Internet software & services"
          ],
          [
           "Olive",
           "Internet software & services"
          ],
          [
           "Zenoti",
           "Internet software & services"
          ],
          [
           "Calendly",
           "Internet software & services"
          ],
          [
           "DriveNets",
           "Internet software & services"
          ],
          [
           "News Break",
           "Internet software & services"
          ],
          [
           "Personio",
           "Internet software & services"
          ],
          [
           "PointClickCare",
           "Internet software & services"
          ],
          [
           "SalesLoft",
           "Internet software & services"
          ],
          [
           "Splashtop",
           "Internet software & services"
          ],
          [
           "Webflow",
           "Internet software & services"
          ],
          [
           "Workato",
           "Internet software & services"
          ],
          [
           "Zapier",
           "Internet software & services"
          ],
          [
           "BetterUp",
           "Internet software & services"
          ],
          [
           "Highspot",
           "Internet software & services"
          ],
          [
           "Newsela",
           "Internet software & services"
          ],
          [
           "Plume",
           "Internet software & services"
          ],
          [
           "Tealium",
           "Internet software & services"
          ],
          [
           "Cameo",
           "Internet software & services"
          ],
          [
           "Clari",
           "Internet software & services"
          ],
          [
           "Epidemic Sound",
           "Internet software & services"
          ],
          [
           "Lattice",
           "Internet software & services"
          ],
          [
           "Papaya Global",
           "Internet software & services"
          ],
          [
           "PatSnap",
           "Internet software & services"
          ],
          [
           "Rec Room",
           "Internet software & services"
          ],
          [
           "Relativity",
           "Internet software & services"
          ],
          [
           "Side",
           "Internet software & services"
          ],
          [
           "Yotpo",
           "Internet software & services"
          ],
          [
           "ActiveCampaign",
           "Internet software & services"
          ],
          [
           "Benchling",
           "Internet software & services"
          ],
          [
           "Clio",
           "Internet software & services"
          ],
          [
           "GupShup",
           "Internet software & services"
          ],
          [
           "Meesho",
           "Internet software & services"
          ],
          [
           "Mux",
           "Internet software & services"
          ],
          [
           "Phenom People",
           "Internet software & services"
          ],
          [
           "ShareChat",
           "Internet software & services"
          ],
          [
           "Beisen",
           "Internet software & services"
          ],
          [
           "CircleCI",
           "Internet software & services"
          ],
          [
           "ContentSquare",
           "Internet software & services"
          ],
          [
           "Handshake",
           "Internet software & services"
          ],
          [
           "HoneyBook",
           "Internet software & services"
          ],
          [
           "Kajabi",
           "Internet software & services"
          ],
          [
           "Loom",
           "Internet software & services"
          ],
          [
           "SafetyCulture",
           "Internet software & services"
          ],
          [
           "Aircall",
           "Internet software & services"
          ],
          [
           "Alation",
           "Internet software & services"
          ],
          [
           "BrowserStack",
           "Internet software & services"
          ],
          [
           "G2",
           "Internet software & services"
          ],
          [
           "IRL",
           "Internet software & services"
          ],
          [
           "Iterable",
           "Internet software & services"
          ],
          [
           "Lucid Software",
           "Internet software & services"
          ],
          [
           "Morning Consult",
           "Internet software & services"
          ],
          [
           "Qingting FM",
           "Internet software & services"
          ],
          [
           "Vercel",
           "Internet software & services"
          ],
          [
           "Visier",
           "Internet software & services"
          ],
          [
           "XForcePlus",
           "Internet software & services"
          ],
          [
           "Algolia",
           "Internet software & services"
          ],
          [
           "Coda",
           "Internet software & services"
          ],
          [
           "Contentful",
           "Internet software & services"
          ],
          [
           "Culture Amp",
           "Internet software & services"
          ],
          [
           "GO1",
           "Internet software & services"
          ],
          [
           "Impact",
           "Internet software & services"
          ],
          [
           "LaunchDarkly",
           "Internet software & services"
          ],
          [
           "MURAL",
           "Internet software & services"
          ],
          [
           "Odoo",
           "Internet software & services"
          ],
          [
           "Pantheon Systems",
           "Internet software & services"
          ],
          [
           "SmartRecruiters",
           "Internet software & services"
          ],
          [
           "Sourcegraph",
           "Internet software & services"
          ],
          [
           "DistroKid",
           "Internet software & services"
          ],
          [
           "FullStory",
           "Internet software & services"
          ],
          [
           "Grafana Labs",
           "Internet software & services"
          ],
          [
           "MindTickle",
           "Internet software & services"
          ],
          [
           "Offchain Labs",
           "Internet software & services"
          ],
          [
           "People.ai",
           "Internet software & services"
          ],
          [
           "Zetwerk",
           "Internet software & services"
          ],
          [
           "1047 Games",
           "Internet software & services"
          ],
          [
           "Andela",
           "Internet software & services"
          ],
          [
           "Assembly",
           "Internet software & services"
          ],
          [
           "Aviatrix",
           "Internet software & services"
          ],
          [
           "Built",
           "Internet software & services"
          ],
          [
           "Commure",
           "Internet software & services"
          ],
          [
           "Gem",
           "Internet software & services"
          ],
          [
           "Mobile Premier League",
           "Internet software & services"
          ],
          [
           "Nextiva",
           "Internet software & services"
          ],
          [
           "PandaDoc",
           "Internet software & services"
          ],
          [
           "apna",
           "Internet software & services"
          ],
          [
           "Aiven",
           "Internet software & services"
          ],
          [
           "Enpal",
           "Internet software & services"
          ],
          [
           "GoodLeap",
           "Internet software & services"
          ],
          [
           "Hibob",
           "Internet software & services"
          ],
          [
           "Honor Technology",
           "Internet software & services"
          ],
          [
           "Karat",
           "Internet software & services"
          ],
          [
           "Medable",
           "Internet software & services"
          ],
          [
           "Pattern",
           "Internet software & services"
          ],
          [
           "Sky Mavis",
           "Internet software & services"
          ],
          [
           "Solo.io",
           "Internet software & services"
          ],
          [
           "VideoAmp",
           "Internet software & services"
          ],
          [
           "Everlaw",
           "Internet software & services"
          ],
          [
           "LTK",
           "Internet software & services"
          ],
          [
           "Lessen",
           "Internet software & services"
          ],
          [
           "Lusha",
           "Internet software & services"
          ],
          [
           "Mixpanel",
           "Internet software & services"
          ],
          [
           "Moka",
           "Internet software & services"
          ],
          [
           "Mythical Games",
           "Internet software & services"
          ],
          [
           "Netlify",
           "Internet software & services"
          ],
          [
           "NoBroker",
           "Internet software & services"
          ],
          [
           "OpenWeb",
           "Internet software & services"
          ],
          [
           "PLACE",
           "Internet software & services"
          ],
          [
           "Tezign",
           "Internet software & services"
          ],
          [
           "Vagaro",
           "Internet software & services"
          ],
          [
           "Jobandtalent",
           "Internet software & services"
          ],
          [
           "YipitData",
           "Internet software & services"
          ]
         ],
         "hovertemplate": "Industry=%{customdata[1]}<br>Date Joined=%{x}<br>Valuation ($B)=%{y}<br>Company=%{customdata[0]}<extra></extra>",
         "legendgroup": "Internet software & services",
         "marker": {
          "color": "#EF553B",
          "pattern": {
           "shape": ""
          }
         },
         "name": "Internet software & services",
         "offsetgroup": "Internet software & services",
         "orientation": "v",
         "showlegend": true,
         "textposition": "auto",
         "type": "bar",
         "x": [
          "2011-04-30",
          "2013-05-31",
          "2015-06-30",
          "2015-07-31",
          "2015-08-31",
          "2015-10-31",
          "2016-06-30",
          "2017-04-30",
          "2017-07-31",
          "2017-11-30",
          "2017-12-31",
          "2018-01-31",
          "2018-03-31",
          "2018-04-30",
          "2018-04-30",
          "2018-04-30",
          "2018-05-31",
          "2018-06-30",
          "2018-07-31",
          "2018-08-31",
          "2018-09-30",
          "2018-10-31",
          "2018-11-30",
          "2018-11-30",
          "2018-11-30",
          "2018-12-31",
          "2019-04-30",
          "2019-04-30",
          "2019-05-31",
          "2019-06-30",
          "2019-06-30",
          "2019-07-31",
          "2019-09-30",
          "2019-09-30",
          "2019-10-31",
          "2019-10-31",
          "2019-10-31",
          "2019-11-30",
          "2019-12-31",
          "2020-01-31",
          "2020-04-30",
          "2020-04-30",
          "2020-04-30",
          "2020-06-30",
          "2020-06-30",
          "2020-08-31",
          "2020-09-30",
          "2020-10-31",
          "2020-10-31",
          "2020-10-31",
          "2020-11-30",
          "2020-11-30",
          "2020-11-30",
          "2020-12-31",
          "2020-12-31",
          "2020-12-31",
          "2020-12-31",
          "2020-12-31",
          "2021-01-31",
          "2021-01-31",
          "2021-01-31",
          "2021-01-31",
          "2021-01-31",
          "2021-01-31",
          "2021-01-31",
          "2021-01-31",
          "2021-01-31",
          "2021-01-31",
          "2021-02-28",
          "2021-02-28",
          "2021-02-28",
          "2021-02-28",
          "2021-02-28",
          "2021-03-31",
          "2021-03-31",
          "2021-03-31",
          "2021-03-31",
          "2021-03-31",
          "2021-03-31",
          "2021-03-31",
          "2021-03-31",
          "2021-03-31",
          "2021-03-31",
          "2021-04-30",
          "2021-04-30",
          "2021-04-30",
          "2021-04-30",
          "2021-04-30",
          "2021-04-30",
          "2021-04-30",
          "2021-04-30",
          "2021-05-31",
          "2021-05-31",
          "2021-05-31",
          "2021-05-31",
          "2021-05-31",
          "2021-05-31",
          "2021-05-31",
          "2021-05-31",
          "2021-06-30",
          "2021-06-30",
          "2021-06-30",
          "2021-06-30",
          "2021-06-30",
          "2021-06-30",
          "2021-06-30",
          "2021-06-30",
          "2021-06-30",
          "2021-06-30",
          "2021-06-30",
          "2021-06-30",
          "2021-07-31",
          "2021-07-31",
          "2021-07-31",
          "2021-07-31",
          "2021-07-31",
          "2021-07-31",
          "2021-07-31",
          "2021-07-31",
          "2021-07-31",
          "2021-07-31",
          "2021-07-31",
          "2021-07-31",
          "2021-08-31",
          "2021-08-31",
          "2021-08-31",
          "2021-08-31",
          "2021-08-31",
          "2021-08-31",
          "2021-08-31",
          "2021-09-30",
          "2021-09-30",
          "2021-09-30",
          "2021-09-30",
          "2021-09-30",
          "2021-09-30",
          "2021-09-30",
          "2021-09-30",
          "2021-09-30",
          "2021-09-30",
          "2021-09-30",
          "2021-10-31",
          "2021-10-31",
          "2021-10-31",
          "2021-10-31",
          "2021-10-31",
          "2021-10-31",
          "2021-10-31",
          "2021-10-31",
          "2021-10-31",
          "2021-10-31",
          "2021-10-31",
          "2021-11-30",
          "2021-11-30",
          "2021-11-30",
          "2021-11-30",
          "2021-11-30",
          "2021-11-30",
          "2021-11-30",
          "2021-11-30",
          "2021-11-30",
          "2021-11-30",
          "2021-11-30",
          "2021-11-30",
          "2021-11-30",
          "2021-12-31",
          "2021-12-31"
         ],
         "xaxis": "x",
         "y": [
          5.7,
          1.8,
          1.61,
          1.32,
          1,
          1,
          1,
          2,
          10,
          1.9,
          1.25,
          40,
          1.28,
          7,
          1.27,
          2,
          4.2,
          9.5,
          1,
          1.4,
          1.08,
          10,
          5.77,
          5.1,
          9.5,
          3,
          8,
          4.4,
          1,
          2.2,
          1.45,
          5.1,
          4.6,
          2.9,
          13,
          2,
          2.6,
          3.75,
          4.6,
          1.43,
          10,
          10,
          3,
          5.6,
          1.2,
          6.5,
          4,
          1.2,
          2.1,
          3.5,
          7.75,
          9.2,
          1.5,
          4,
          1,
          1.4,
          4,
          1.5,
          3,
          1,
          1,
          6.3,
          4,
          1.1,
          1,
          2.1,
          5.7,
          4,
          4.7,
          2.3,
          1,
          2.6,
          1.2,
          1,
          1.6,
          1.4,
          1,
          3.7,
          1,
          1.25,
          3.6,
          2.5,
          1.4,
          3,
          6.1,
          1.6,
          1.4,
          4.9,
          1,
          1.4,
          3,
          2,
          1.7,
          2.8,
          1.5,
          1.1,
          2,
          1.53,
          1.6,
          1,
          1.2,
          4,
          1.1,
          1.17,
          2,
          3,
          1,
          1.1,
          2.5,
          1,
          1,
          2.25,
          1.4,
          3,
          1.5,
          1,
          1.5,
          3,
          2,
          2.3,
          1,
          1.5,
          2.62,
          1.3,
          1.8,
          3,
          1.2,
          1.2,
          1.1,
          1.33,
          1.5,
          1.5,
          1,
          2,
          1.5,
          3.5,
          1.2,
          2.45,
          2.7,
          1,
          1.1,
          2,
          1.1,
          12,
          1.65,
          1.25,
          1.1,
          2.1,
          2.25,
          3,
          1,
          1.4,
          2,
          2,
          1,
          1.5,
          1.05,
          1,
          1.25,
          2,
          1,
          1,
          1,
          1,
          1,
          2.35,
          1
         ],
         "yaxis": "y"
        },
        {
         "alignmentgroup": "True",
         "customdata": [
          [
           "Klarna",
           "Fintech"
          ],
          [
           "Stripe",
           "Fintech"
          ],
          [
           "JimuBox",
           "Fintech"
          ],
          [
           "Zenefits",
           "Fintech"
          ],
          [
           "Gusto",
           "Fintech"
          ],
          [
           "Cgtz",
           "Fintech"
          ],
          [
           "Symphony",
           "Fintech"
          ],
          [
           "OakNorth",
           "Fintech"
          ],
          [
           "BGL Group",
           "Fintech"
          ],
          [
           "Radius Payment Solutions",
           "Fintech"
          ],
          [
           "WeLab",
           "Fintech"
          ],
          [
           "Upgrade",
           "Fintech"
          ],
          [
           "Nubank",
           "Fintech"
          ],
          [
           "Revolut",
           "Fintech"
          ],
          [
           "Circle",
           "Fintech"
          ],
          [
           "Tradeshift",
           "Fintech"
          ],
          [
           "Greensill",
           "Fintech"
          ],
          [
           "Brex",
           "Fintech"
          ],
          [
           "Monzo",
           "Fintech"
          ],
          [
           "Tresata",
           "Fintech"
          ],
          [
           "Plaid Technologies",
           "Fintech"
          ],
          [
           "Toss",
           "Fintech"
          ],
          [
           "N26",
           "Fintech"
          ],
          [
           "Airwallex",
           "Fintech"
          ],
          [
           "Baiwang",
           "Fintech"
          ],
          [
           "Chime",
           "Fintech"
          ],
          [
           "Ovo",
           "Fintech"
          ],
          [
           "wefox",
           "Fintech"
          ],
          [
           "Liquid",
           "Fintech"
          ],
          [
           "Carta",
           "Fintech"
          ],
          [
           "Checkout.com",
           "Fintech"
          ],
          [
           "Ivalua",
           "Fintech"
          ],
          [
           "PolicyBazaar",
           "Fintech"
          ],
          [
           "Collective Health",
           "Fintech"
          ],
          [
           "Kraken",
           "Fintech"
          ],
          [
           "SumUp",
           "Fintech"
          ],
          [
           "C2FO",
           "Fintech"
          ],
          [
           "Ibotta",
           "Fintech"
          ],
          [
           "Numbrs",
           "Fintech"
          ],
          [
           "Dave",
           "Fintech"
          ],
          [
           "EBANX",
           "Fintech"
          ],
          [
           "Next Insurance",
           "Fintech"
          ],
          [
           "Rapyd",
           "Fintech"
          ],
          [
           "Ripple",
           "Fintech"
          ],
          [
           "TELD",
           "Fintech"
          ],
          [
           "HighRadius",
           "Fintech"
          ],
          [
           "Pine Labs",
           "Fintech"
          ],
          [
           "Pagaya",
           "Fintech"
          ],
          [
           "National Stock Exchange of India",
           "Fintech"
          ],
          [
           "Trumid",
           "Fintech"
          ],
          [
           "Greenlight",
           "Fintech"
          ],
          [
           "Mollie",
           "Fintech"
          ],
          [
           "Razorpay",
           "Fintech"
          ],
          [
           "Tipalti",
           "Fintech"
          ],
          [
           "Unqork",
           "Fintech"
          ],
          [
           "Better.com",
           "Fintech"
          ],
          [
           "Chainalysis",
           "Fintech"
          ],
          [
           "C6 Bank",
           "Fintech"
          ],
          [
           "Creditas",
           "Fintech"
          ],
          [
           "Qualia",
           "Fintech"
          ],
          [
           "Digit Insurance",
           "Fintech"
          ],
          [
           "MX Technologies",
           "Fintech"
          ],
          [
           "Mambu",
           "Fintech"
          ],
          [
           "Melio",
           "Fintech"
          ],
          [
           "PPRO",
           "Fintech"
          ],
          [
           "Sidecar Health",
           "Fintech"
          ],
          [
           "Blockchain.com",
           "Fintech"
          ],
          [
           "Earnix",
           "Fintech"
          ],
          [
           "Public",
           "Fintech"
          ],
          [
           "Stash",
           "Fintech"
          ],
          [
           "WeBull",
           "Fintech"
          ],
          [
           "BitPanda",
           "Fintech"
          ],
          [
           "BlockFi",
           "Fintech"
          ],
          [
           "Cedar",
           "Fintech"
          ],
          [
           "Dapper Labs",
           "Fintech"
          ],
          [
           "Flutterwave",
           "Fintech"
          ],
          [
           "Pacaso",
           "Fintech"
          ],
          [
           "Pilot.com",
           "Fintech"
          ],
          [
           "Ramp Financial",
           "Fintech"
          ],
          [
           "Starling Bank",
           "Fintech"
          ],
          [
           "Zego",
           "Fintech"
          ],
          [
           "Alan",
           "Fintech"
          ],
          [
           "CRED",
           "Fintech"
          ],
          [
           "ChargeBee Technologies",
           "Fintech"
          ],
          [
           "Clearco",
           "Fintech"
          ],
          [
           "Clearcover",
           "Fintech"
          ],
          [
           "Current",
           "Fintech"
          ],
          [
           "Deel",
           "Fintech"
          ],
          [
           "Groww",
           "Fintech"
          ],
          [
           "Hyperchain",
           "Fintech"
          ],
          [
           "Injective Protocol",
           "Fintech"
          ],
          [
           "Paxos",
           "Fintech"
          ],
          [
           "SaltPay",
           "Fintech"
          ],
          [
           "Signifyd",
           "Fintech"
          ],
          [
           "Amount",
           "Fintech"
          ],
          [
           "Bitso",
           "Fintech"
          ],
          [
           "DailyPay",
           "Fintech"
          ],
          [
           "Ethos Technologies",
           "Fintech"
          ],
          [
           "Extend",
           "Fintech"
          ],
          [
           "Forte Labs",
           "Fintech"
          ],
          [
           "Huisuanzhang",
           "Fintech"
          ],
          [
           "Pipe",
           "Fintech"
          ],
          [
           "ReCharge",
           "Fintech"
          ],
          [
           "Snapdocs",
           "Fintech"
          ],
          [
           "SpotOn",
           "Fintech"
          ],
          [
           "Sunbit",
           "Fintech"
          ],
          [
           "Trade Republic",
           "Fintech"
          ],
          [
           "Vise",
           "Fintech"
          ],
          [
           "Zeta",
           "Fintech"
          ],
          [
           "Addepar",
           "Fintech"
          ],
          [
           "Amber Group",
           "Fintech"
          ],
          [
           "Bought By Many",
           "Fintech"
          ],
          [
           "Bunq",
           "Fintech"
          ],
          [
           "Chipper Cash",
           "Fintech"
          ],
          [
           "Clip",
           "Fintech"
          ],
          [
           "Guideline",
           "Fintech"
          ],
          [
           "Matrixport",
           "Fintech"
          ],
          [
           "Scalable Capital",
           "Fintech"
          ],
          [
           "SmartAsset",
           "Fintech"
          ],
          [
           "SmartHR",
           "Fintech"
          ],
          [
           "At-Bay",
           "Fintech"
          ],
          [
           "BharatPe",
           "Fintech"
          ],
          [
           "Carson Group",
           "Fintech"
          ],
          [
           "Dunamu",
           "Fintech"
          ],
          [
           "FTX",
           "Fintech"
          ],
          [
           "Fireblocks",
           "Fintech"
          ],
          [
           "FloQast",
           "Fintech"
          ],
          [
           "Interos",
           "Fintech"
          ],
          [
           "Lunar",
           "Fintech"
          ],
          [
           "M1 Finance",
           "Fintech"
          ],
          [
           "Mercury",
           "Fintech"
          ],
          [
           "MobileCoin",
           "Fintech"
          ],
          [
           "NIUM",
           "Fintech"
          ],
          [
           "Pleo",
           "Fintech"
          ],
          [
           "Remote",
           "Fintech"
          ],
          [
           "Xiaobing",
           "Fintech"
          ],
          [
           "bolttech",
           "Fintech"
          ],
          [
           "iCapital Network",
           "Fintech"
          ],
          [
           "solarisBank",
           "Fintech"
          ],
          [
           "Blockstream",
           "Fintech"
          ],
          [
           "CoinDCX",
           "Fintech"
          ],
          [
           "Divvy Homes",
           "Fintech"
          ],
          [
           "DriveWealth",
           "Fintech"
          ],
          [
           "FalconX",
           "Fintech"
          ],
          [
           "Freshbooks",
           "Fintech"
          ],
          [
           "Human Interest",
           "Fintech"
          ],
          [
           "Opay",
           "Fintech"
          ],
          [
           "TaxBit",
           "Fintech"
          ],
          [
           "Uala",
           "Fintech"
          ],
          [
           "ZEPZ",
           "Fintech"
          ],
          [
           "1",
           "Fintech"
          ],
          [
           "Alloy",
           "Fintech"
          ],
          [
           "Ascend Money",
           "Fintech"
          ],
          [
           "Betterment",
           "Fintech"
          ],
          [
           "BlockDaemon",
           "Fintech"
          ],
          [
           "CFGI",
           "Fintech"
          ],
          [
           "HomeLight",
           "Fintech"
          ],
          [
           "Konfio",
           "Fintech"
          ],
          [
           "Marshmallow",
           "Fintech"
          ],
          [
           "Orchard",
           "Fintech"
          ],
          [
           "TrueLayer",
           "Fintech"
          ],
          [
           "Varo Bank",
           "Fintech"
          ],
          [
           "Wave",
           "Fintech"
          ],
          [
           "Xendit",
           "Fintech"
          ],
          [
           "Acko General Insurance",
           "Fintech"
          ],
          [
           "Ajaib",
           "Fintech"
          ],
          [
           "Alchemy",
           "Fintech"
          ],
          [
           "Bolt",
           "Fintech"
          ],
          [
           "Celsius Network",
           "Fintech"
          ],
          [
           "CoinList",
           "Fintech"
          ],
          [
           "CoinSwitch Kuber",
           "Fintech"
          ],
          [
           "Masterworks",
           "Fintech"
          ],
          [
           "Modern Treasury",
           "Fintech"
          ],
          [
           "Mynt",
           "Fintech"
          ],
          [
           "Swile",
           "Fintech"
          ],
          [
           "TradingView",
           "Fintech"
          ],
          [
           "Zopa",
           "Fintech"
          ],
          [
           "candy.com",
           "Fintech"
          ],
          [
           "ConsenSys",
           "Fintech"
          ],
          [
           "Digital Currency Group",
           "Fintech"
          ],
          [
           "Fundbox",
           "Fintech"
          ],
          [
           "Gemini",
           "Fintech"
          ],
          [
           "MoonPay",
           "Fintech"
          ],
          [
           "Slice",
           "Fintech"
          ],
          [
           "The Bank of London",
           "Fintech"
          ],
          [
           "Thought Machine",
           "Fintech"
          ],
          [
           "Wrapbook",
           "Fintech"
          ],
          [
           "ZenBusiness",
           "Fintech"
          ],
          [
           "Zilch",
           "Fintech"
          ],
          [
           "AgentSync",
           "Fintech"
          ],
          [
           "Clara",
           "Fintech"
          ]
         ],
         "hovertemplate": "Industry=%{customdata[1]}<br>Date Joined=%{x}<br>Valuation ($B)=%{y}<br>Company=%{customdata[0]}<extra></extra>",
         "legendgroup": "Fintech",
         "marker": {
          "color": "#00cc96",
          "pattern": {
           "shape": ""
          }
         },
         "name": "Fintech",
         "offsetgroup": "Fintech",
         "orientation": "v",
         "showlegend": true,
         "textposition": "auto",
         "type": "bar",
         "x": [
          "2011-12-31",
          "2014-01-31",
          "2015-04-30",
          "2015-05-31",
          "2015-12-31",
          "2017-02-28",
          "2017-05-31",
          "2017-10-31",
          "2017-11-30",
          "2017-11-30",
          "2017-11-30",
          "2018-02-28",
          "2018-03-31",
          "2018-04-30",
          "2018-05-31",
          "2018-05-31",
          "2018-07-31",
          "2018-10-31",
          "2018-10-31",
          "2018-10-31",
          "2018-12-31",
          "2018-12-31",
          "2019-01-31",
          "2019-03-31",
          "2019-03-31",
          "2019-03-31",
          "2019-03-31",
          "2019-03-31",
          "2019-04-30",
          "2019-05-31",
          "2019-05-31",
          "2019-05-31",
          "2019-05-31",
          "2019-06-30",
          "2019-06-30",
          "2019-07-31",
          "2019-08-31",
          "2019-08-31",
          "2019-08-31",
          "2019-09-30",
          "2019-10-31",
          "2019-10-31",
          "2019-12-31",
          "2019-12-31",
          "2019-12-31",
          "2020-01-31",
          "2020-01-31",
          "2020-06-30",
          "2020-07-31",
          "2020-07-31",
          "2020-09-30",
          "2020-09-30",
          "2020-10-31",
          "2020-10-31",
          "2020-10-31",
          "2020-11-30",
          "2020-11-30",
          "2020-12-31",
          "2020-12-31",
          "2020-12-31",
          "2021-01-31",
          "2021-01-31",
          "2021-01-31",
          "2021-01-31",
          "2021-01-31",
          "2021-01-31",
          "2021-02-28",
          "2021-02-28",
          "2021-02-28",
          "2021-02-28",
          "2021-02-28",
          "2021-03-31",
          "2021-03-31",
          "2021-03-31",
          "2021-03-31",
          "2021-03-31",
          "2021-03-31",
          "2021-03-31",
          "2021-03-31",
          "2021-03-31",
          "2021-03-31",
          "2021-04-30",
          "2021-04-30",
          "2021-04-30",
          "2021-04-30",
          "2021-04-30",
          "2021-04-30",
          "2021-04-30",
          "2021-04-30",
          "2021-04-30",
          "2021-04-30",
          "2021-04-30",
          "2021-04-30",
          "2021-04-30",
          "2021-05-31",
          "2021-05-31",
          "2021-05-31",
          "2021-05-31",
          "2021-05-31",
          "2021-05-31",
          "2021-05-31",
          "2021-05-31",
          "2021-05-31",
          "2021-05-31",
          "2021-05-31",
          "2021-05-31",
          "2021-05-31",
          "2021-05-31",
          "2021-05-31",
          "2021-06-30",
          "2021-06-30",
          "2021-06-30",
          "2021-06-30",
          "2021-06-30",
          "2021-06-30",
          "2021-06-30",
          "2021-06-30",
          "2021-06-30",
          "2021-06-30",
          "2021-06-30",
          "2021-07-31",
          "2021-07-31",
          "2021-07-31",
          "2021-07-31",
          "2021-07-31",
          "2021-07-31",
          "2021-07-31",
          "2021-07-31",
          "2021-07-31",
          "2021-07-31",
          "2021-07-31",
          "2021-07-31",
          "2021-07-31",
          "2021-07-31",
          "2021-07-31",
          "2021-07-31",
          "2021-07-31",
          "2021-07-31",
          "2021-07-31",
          "2021-08-31",
          "2021-08-31",
          "2021-08-31",
          "2021-08-31",
          "2021-08-31",
          "2021-08-31",
          "2021-08-31",
          "2021-08-31",
          "2021-08-31",
          "2021-08-31",
          "2021-08-31",
          "2021-09-30",
          "2021-09-30",
          "2021-09-30",
          "2021-09-30",
          "2021-09-30",
          "2021-09-30",
          "2021-09-30",
          "2021-09-30",
          "2021-09-30",
          "2021-09-30",
          "2021-09-30",
          "2021-09-30",
          "2021-09-30",
          "2021-09-30",
          "2021-10-31",
          "2021-10-31",
          "2021-10-31",
          "2021-10-31",
          "2021-10-31",
          "2021-10-31",
          "2021-10-31",
          "2021-10-31",
          "2021-10-31",
          "2021-10-31",
          "2021-10-31",
          "2021-10-31",
          "2021-10-31",
          "2021-10-31",
          "2021-11-30",
          "2021-11-30",
          "2021-11-30",
          "2021-11-30",
          "2021-11-30",
          "2021-11-30",
          "2021-11-30",
          "2021-11-30",
          "2021-11-30",
          "2021-11-30",
          "2021-11-30",
          "2021-12-31",
          "2021-12-31"
         ],
         "xaxis": "x",
         "y": [
          45.6,
          95,
          1,
          4.5,
          10,
          2.41,
          1.4,
          5,
          3,
          1.07,
          1,
          3.33,
          30,
          33,
          3,
          2.7,
          4,
          12.3,
          4.5,
          1,
          13.4,
          7.4,
          9.23,
          5.5,
          1.55,
          25,
          2.9,
          1.65,
          1,
          7.4,
          15,
          1.1,
          2.4,
          1.5,
          2.92,
          1,
          1,
          1,
          1,
          1,
          1,
          4,
          8.75,
          10,
          1.12,
          3.1,
          3,
          2,
          6.5,
          2.4,
          2.3,
          6.5,
          3,
          8.3,
          2,
          6,
          4.2,
          5.05,
          1.75,
          1,
          3.5,
          1.9,
          2.08,
          4,
          1,
          1,
          5.2,
          2,
          1.2,
          1.4,
          1,
          4.11,
          3,
          3.2,
          7.6,
          1,
          1.5,
          1.2,
          3.9,
          1.95,
          1.1,
          1.68,
          4.01,
          1.4,
          2,
          1,
          2.2,
          5.5,
          3,
          1,
          1,
          2.4,
          1,
          1.34,
          1,
          2.2,
          1.2,
          2.7,
          1.6,
          1,
          1.28,
          2,
          2.1,
          1.5,
          3.15,
          1.1,
          5.3,
          1,
          1.45,
          2.17,
          1.1,
          2.35,
          2,
          2,
          2,
          1.15,
          1,
          1.4,
          1,
          1.6,
          1.35,
          2.85,
          1,
          1,
          25,
          8,
          1.2,
          1,
          1,
          1.45,
          1.6,
          1,
          1,
          1.7,
          1,
          1,
          1,
          4,
          1.65,
          3.2,
          1.1,
          2,
          2.85,
          3.75,
          1,
          1,
          2,
          1.5,
          2.45,
          5,
          2.15,
          1.35,
          1.5,
          1.3,
          1.23,
          1.85,
          1.6,
          1.3,
          1.25,
          1,
          1,
          2.5,
          1.7,
          1,
          1.1,
          1,
          3.5,
          6,
          3,
          1.5,
          1.9,
          1,
          2,
          2,
          1,
          3,
          1,
          1.5,
          3.2,
          10,
          1.1,
          7.1,
          3.4,
          1,
          1.1,
          1,
          1,
          1.7,
          2,
          1.2,
          1
         ],
         "yaxis": "y"
        },
        {
         "alignmentgroup": "True",
         "customdata": [
          [
           "Trendy Group International",
           "Consumer & retail"
          ],
          [
           "L&P Cosmetic",
           "Consumer & retail"
          ],
          [
           "Promasidor Holdings",
           "Consumer & retail"
          ],
          [
           "Kendra Scott",
           "Consumer & retail"
          ],
          [
           "BrewDog",
           "Consumer & retail"
          ],
          [
           "Mobvoi",
           "Consumer & retail"
          ],
          [
           "Eat Just",
           "Consumer & retail"
          ],
          [
           "JUUL Labs",
           "Consumer & retail"
          ],
          [
           "Easyhome",
           "Consumer & retail"
          ],
          [
           "Harry's Razor Company",
           "Consumer & retail"
          ],
          [
           "Pat McGrath Labs",
           "Consumer & retail"
          ],
          [
           "Yijiupi",
           "Consumer & retail"
          ],
          [
           "PAX",
           "Consumer & retail"
          ],
          [
           "Zume",
           "Consumer & retail"
          ],
          [
           "Calm",
           "Consumer & retail"
          ],
          [
           "Glossier",
           "Consumer & retail"
          ],
          [
           "Impossible Foods",
           "Consumer & retail"
          ],
          [
           "Yuanqi Senlin",
           "Consumer & retail"
          ],
          [
           "Guoquan Shihui",
           "Consumer & retail"
          ],
          [
           "Weilong",
           "Consumer & retail"
          ],
          [
           "Zihaiguo",
           "Consumer & retail"
          ],
          [
           "HAYDON",
           "Consumer & retail"
          ],
          [
           "Razor",
           "Consumer & retail"
          ]
         ],
         "hovertemplate": "Industry=%{customdata[1]}<br>Date Joined=%{x}<br>Valuation ($B)=%{y}<br>Company=%{customdata[0]}<extra></extra>",
         "legendgroup": "Consumer & retail",
         "marker": {
          "color": "#ab63fa",
          "pattern": {
           "shape": ""
          }
         },
         "name": "Consumer & retail",
         "offsetgroup": "Consumer & retail",
         "orientation": "v",
         "showlegend": true,
         "textposition": "auto",
         "type": "bar",
         "x": [
          "2012-02-29",
          "2016-01-31",
          "2016-11-30",
          "2016-12-31",
          "2017-04-30",
          "2017-04-30",
          "2017-11-30",
          "2017-12-31",
          "2018-02-28",
          "2018-02-28",
          "2018-07-31",
          "2018-09-30",
          "2018-10-31",
          "2018-11-30",
          "2019-02-28",
          "2019-03-31",
          "2019-05-31",
          "2020-03-31",
          "2021-03-31",
          "2021-05-31",
          "2021-05-31",
          "2021-09-30",
          "2021-11-30"
         ],
         "xaxis": "x",
         "y": [
          2,
          1.19,
          1.59,
          1,
          1.24,
          1,
          1.1,
          12,
          5.78,
          1.7,
          1,
          1.5,
          1.7,
          2.25,
          2,
          1.2,
          4,
          6,
          2,
          10.88,
          1,
          1,
          1
         ],
         "yaxis": "y"
        },
        {
         "alignmentgroup": "True",
         "customdata": [
          [
           "Avant",
           "Artificial intelligence"
          ],
          [
           "BenevolentAI",
           "Artificial intelligence"
          ],
          [
           "Uptake",
           "Artificial intelligence"
          ],
          [
           "iCarbonX",
           "Artificial intelligence"
          ],
          [
           "Afiniti",
           "Artificial intelligence"
          ],
          [
           "Bytedance",
           "Artificial intelligence"
          ],
          [
           "SenseTime",
           "Artificial intelligence"
          ],
          [
           "Indigo Ag",
           "Artificial intelligence"
          ],
          [
           "MEGVII",
           "Artificial intelligence"
          ],
          [
           "OrCam Technologies",
           "Artificial intelligence"
          ],
          [
           "YITU Technology",
           "Artificial intelligence"
          ],
          [
           "DeepBlue Technology",
           "Artificial intelligence"
          ],
          [
           "Preferred Networks",
           "Artificial intelligence"
          ],
          [
           "SoundHound",
           "Artificial intelligence"
          ],
          [
           "Dataminr",
           "Artificial intelligence"
          ],
          [
           "Automation Anywhere",
           "Artificial intelligence"
          ],
          [
           "Pony.ai",
           "Artificial intelligence"
          ],
          [
           "Unisound",
           "Artificial intelligence"
          ],
          [
           "Cloudwalk",
           "Artificial intelligence"
          ],
          [
           "Momenta",
           "Artificial intelligence"
          ],
          [
           "4Paradigm",
           "Artificial intelligence"
          ],
          [
           "Graphcore",
           "Artificial intelligence"
          ],
          [
           "Globality",
           "Artificial intelligence"
          ],
          [
           "Horizon Robotics",
           "Artificial intelligence"
          ],
          [
           "Intellifusion",
           "Artificial intelligence"
          ],
          [
           "Mininglamp Technology",
           "Artificial intelligence"
          ],
          [
           "Meero",
           "Artificial intelligence"
          ],
          [
           "Argo AI",
           "Artificial intelligence"
          ],
          [
           "DataRobot",
           "Artificial intelligence"
          ],
          [
           "Icertis",
           "Artificial intelligence"
          ],
          [
           "Lightricks",
           "Artificial intelligence"
          ],
          [
           "OpenAI",
           "Artificial intelligence"
          ],
          [
           "Trax",
           "Artificial intelligence"
          ],
          [
           "Scale AI",
           "Artificial intelligence"
          ],
          [
           "Anduril",
           "Artificial intelligence"
          ],
          [
           "Faire",
           "Artificial intelligence"
          ],
          [
           "o9 Solutions",
           "Artificial intelligence"
          ],
          [
           "Gong",
           "Artificial intelligence"
          ],
          [
           "Hesai Tech",
           "Artificial intelligence"
          ],
          [
           "AInnovation",
           "Artificial intelligence"
          ],
          [
           "Harness",
           "Artificial intelligence"
          ],
          [
           "Standard Cognition",
           "Artificial intelligence"
          ],
          [
           "6Sense",
           "Artificial intelligence"
          ],
          [
           "Feedzai",
           "Artificial intelligence"
          ],
          [
           "Aibee",
           "Artificial intelligence"
          ],
          [
           "Groq",
           "Artificial intelligence"
          ],
          [
           "Hive",
           "Artificial intelligence"
          ],
          [
           "MOLOCO",
           "Artificial intelligence"
          ],
          [
           "Sift",
           "Artificial intelligence"
          ],
          [
           "Vectra Networks",
           "Artificial intelligence"
          ],
          [
           "ASAPP",
           "Artificial intelligence"
          ],
          [
           "Ada Support",
           "Artificial intelligence"
          ],
          [
           "Shift Technology",
           "Artificial intelligence"
          ],
          [
           "TensTorrent",
           "Artificial intelligence"
          ],
          [
           "Hailo",
           "Artificial intelligence"
          ],
          [
           "Moveworks",
           "Artificial intelligence"
          ],
          [
           "SmartMore",
           "Artificial intelligence"
          ],
          [
           "Tractable",
           "Artificial intelligence"
          ],
          [
           "VerbIT",
           "Artificial intelligence"
          ],
          [
           "Amperity",
           "Artificial intelligence"
          ],
          [
           "NotCo",
           "Artificial intelligence"
          ],
          [
           "Bluecore",
           "Artificial intelligence"
          ],
          [
           "Shield AI",
           "Artificial intelligence"
          ],
          [
           "Snorkel AI",
           "Artificial intelligence"
          ],
          [
           "Unico",
           "Artificial intelligence"
          ],
          [
           "XtalPi",
           "Artificial intelligence"
          ],
          [
           "Advance Intelligence Group",
           "Artificial intelligence"
          ],
          [
           "Black Sesame Technologies",
           "Artificial intelligence"
          ],
          [
           "Rebellion Defense",
           "Artificial intelligence"
          ],
          [
           "Augury",
           "Artificial intelligence"
          ],
          [
           "H2O.ai",
           "Artificial intelligence"
          ],
          [
           "Owkin",
           "Artificial intelligence"
          ],
          [
           "Anyscale",
           "Artificial intelligence"
          ]
         ],
         "hovertemplate": "Industry=%{customdata[1]}<br>Date Joined=%{x}<br>Valuation ($B)=%{y}<br>Company=%{customdata[0]}<extra></extra>",
         "legendgroup": "Artificial intelligence",
         "marker": {
          "color": "#FFA15A",
          "pattern": {
           "shape": ""
          }
         },
         "name": "Artificial intelligence",
         "offsetgroup": "Artificial intelligence",
         "orientation": "v",
         "showlegend": true,
         "textposition": "auto",
         "type": "bar",
         "x": [
          "2012-12-31",
          "2015-06-30",
          "2015-10-31",
          "2016-04-30",
          "2017-04-30",
          "2017-04-30",
          "2017-07-31",
          "2017-09-30",
          "2017-10-31",
          "2018-02-28",
          "2018-03-31",
          "2018-04-30",
          "2018-05-31",
          "2018-05-31",
          "2018-06-30",
          "2018-07-31",
          "2018-07-31",
          "2018-07-31",
          "2018-10-31",
          "2018-10-31",
          "2018-12-31",
          "2018-12-31",
          "2019-01-31",
          "2019-02-28",
          "2019-03-31",
          "2019-03-31",
          "2019-06-30",
          "2019-07-31",
          "2019-07-31",
          "2019-07-31",
          "2019-07-31",
          "2019-07-31",
          "2019-07-31",
          "2019-08-31",
          "2019-09-30",
          "2019-10-31",
          "2020-04-30",
          "2020-08-31",
          "2020-08-31",
          "2020-12-31",
          "2021-01-31",
          "2021-02-28",
          "2021-03-31",
          "2021-03-31",
          "2021-04-30",
          "2021-04-30",
          "2021-04-30",
          "2021-04-30",
          "2021-04-30",
          "2021-04-30",
          "2021-05-31",
          "2021-05-31",
          "2021-05-31",
          "2021-05-31",
          "2021-06-30",
          "2021-06-30",
          "2021-06-30",
          "2021-06-30",
          "2021-06-30",
          "2021-07-31",
          "2021-07-31",
          "2021-08-31",
          "2021-08-31",
          "2021-08-31",
          "2021-08-31",
          "2021-08-31",
          "2021-09-30",
          "2021-09-30",
          "2021-09-30",
          "2021-10-31",
          "2021-11-30",
          "2021-11-30",
          "2021-12-31"
         ],
         "xaxis": "x",
         "y": [
          2,
          1,
          2.3,
          1,
          1.6,
          140,
          12,
          3.5,
          4,
          1.03,
          2.17,
          1.35,
          2,
          2.1,
          4.1,
          6.8,
          5.3,
          1.19,
          3.32,
          1,
          2,
          2.77,
          1,
          5,
          1,
          1.19,
          1,
          7.25,
          6.3,
          2.8,
          1.8,
          2.92,
          1.3,
          7.3,
          4.6,
          12.4,
          1,
          7.25,
          1.05,
          1,
          1.7,
          1,
          2.1,
          1,
          1.2,
          1,
          2,
          1.5,
          1,
          1.2,
          1.6,
          1.2,
          1,
          1,
          1,
          2.1,
          1.2,
          1,
          2,
          1,
          1.5,
          1,
          1,
          1,
          1,
          2,
          2,
          2,
          1.15,
          1,
          1.7,
          1,
          1
         ],
         "yaxis": "y"
        },
        {
         "alignmentgroup": "True",
         "customdata": [
          [
           "SpaceX",
           "Other"
          ],
          [
           "Red Ventures",
           "Other"
          ],
          [
           "Planet Labs",
           "Other"
          ],
          [
           "LifeMiles",
           "Other"
          ],
          [
           "Dadi Cinema",
           "Other"
          ],
          [
           "OVH",
           "Other"
          ],
          [
           "Improbable",
           "Other"
          ],
          [
           "Rubicon Global",
           "Other"
          ],
          [
           "Vista Global",
           "Other"
          ],
          [
           "Revolution Precrafted",
           "Other"
          ],
          [
           "NuCom Group",
           "Other"
          ],
          [
           "Epic Games",
           "Other"
          ],
          [
           "GPclub",
           "Other"
          ],
          [
           "OVO Energy",
           "Other"
          ],
          [
           "Ynsect",
           "Other"
          ],
          [
           "OCSiAl",
           "Other"
          ],
          [
           "Sila Nanotechnologies",
           "Other"
          ],
          [
           "SITECH DEV",
           "Other"
          ],
          [
           "Northvolt",
           "Other"
          ],
          [
           "HEYTEA",
           "Other"
          ],
          [
           "You & Mr Jones",
           "Other"
          ],
          [
           "Wildlife Studios",
           "Other"
          ],
          [
           "Skydance Media",
           "Other"
          ],
          [
           "Emerging Markets Property Group",
           "Other"
          ],
          [
           "Apeel Sciences",
           "Other"
          ],
          [
           "Thrasio",
           "Other"
          ],
          [
           "Farmers Business Network",
           "Other"
          ],
          [
           "Voodoo",
           "Other"
          ],
          [
           "Howden Group Holdings",
           "Other"
          ],
          [
           "Playco",
           "Other"
          ],
          [
           "Relativity Space",
           "Other"
          ],
          [
           "Boom Supersonic",
           "Other"
          ],
          [
           "Manner",
           "Other"
          ],
          [
           "Axiom Space",
           "Other"
          ],
          [
           "Sentry",
           "Other"
          ],
          [
           "ABL Space Systems",
           "Other"
          ],
          [
           "Diamond Foundry",
           "Other"
          ],
          [
           "Five Star Business Finance",
           "Other"
          ],
          [
           "Uplight",
           "Other"
          ],
          [
           "Cava Group",
           "Other"
          ],
          [
           "Wenheyou",
           "Other"
          ],
          [
           "Black Unicorn Factory",
           "Other"
          ],
          [
           "Bowery Farming",
           "Other"
          ],
          [
           "Firefly Aerospace",
           "Other"
          ],
          [
           "Inari",
           "Other"
          ],
          [
           "Printful",
           "Other"
          ],
          [
           "Trader Interactive",
           "Other"
          ],
          [
           "Redwood Materials",
           "Other"
          ],
          [
           "Nexii",
           "Other"
          ],
          [
           "Spiber",
           "Other"
          ],
          [
           "Mensa Brands",
           "Other"
          ]
         ],
         "hovertemplate": "Industry=%{customdata[1]}<br>Date Joined=%{x}<br>Valuation ($B)=%{y}<br>Company=%{customdata[0]}<extra></extra>",
         "legendgroup": "Other",
         "marker": {
          "color": "#19d3f3",
          "pattern": {
           "shape": ""
          }
         },
         "name": "Other",
         "offsetgroup": "Other",
         "orientation": "v",
         "showlegend": true,
         "textposition": "auto",
         "type": "bar",
         "x": [
          "2012-12-31",
          "2015-01-31",
          "2015-04-30",
          "2015-07-31",
          "2016-05-31",
          "2016-08-31",
          "2017-05-31",
          "2017-08-31",
          "2017-08-31",
          "2017-10-31",
          "2018-02-28",
          "2018-10-31",
          "2018-10-31",
          "2019-02-28",
          "2019-02-28",
          "2019-03-31",
          "2019-04-30",
          "2019-05-31",
          "2019-06-30",
          "2019-07-31",
          "2019-11-30",
          "2019-12-31",
          "2020-02-29",
          "2020-04-30",
          "2020-05-31",
          "2020-07-31",
          "2020-08-31",
          "2020-08-31",
          "2020-09-30",
          "2020-09-30",
          "2020-11-30",
          "2020-12-31",
          "2020-12-31",
          "2021-02-28",
          "2021-02-28",
          "2021-03-31",
          "2021-03-31",
          "2021-03-31",
          "2021-03-31",
          "2021-04-30",
          "2021-04-30",
          "2021-05-31",
          "2021-05-31",
          "2021-05-31",
          "2021-05-31",
          "2021-05-31",
          "2021-05-31",
          "2021-07-31",
          "2021-09-30",
          "2021-09-30",
          "2021-11-30"
         ],
         "xaxis": "x",
         "y": [
          100.3,
          1,
          2.2,
          1.15,
          3.24,
          1.1,
          2,
          1.07,
          2.5,
          1,
          2.2,
          28.7,
          1.32,
          1.28,
          1,
          2,
          3.3,
          1,
          9.08,
          9.28,
          1.3,
          3,
          2.3,
          1,
          2,
          10,
          4,
          2.31,
          5,
          1,
          4.2,
          1,
          1.3,
          1,
          1,
          2.4,
          1.8,
          1.4,
          1.5,
          1.3,
          1.55,
          6.1,
          2.3,
          1,
          1.2,
          1,
          1.63,
          3.7,
          1.23,
          1.22,
          1
         ],
         "yaxis": "y"
        },
        {
         "alignmentgroup": "True",
         "customdata": [
          [
           "Mu Sigma",
           "Data management & analytics"
          ],
          [
           "Rubrik",
           "Data management & analytics"
          ],
          [
           "DT Dream",
           "Data management & analytics"
          ],
          [
           "Celonis",
           "Data management & analytics"
          ],
          [
           "Cohesity",
           "Data management & analytics"
          ],
          [
           "Jusfoun Big Data",
           "Data management & analytics"
          ],
          [
           "Collibra",
           "Data management & analytics"
          ],
          [
           "Databricks",
           "Data management & analytics"
          ],
          [
           "Druva",
           "Data management & analytics"
          ],
          [
           "Instabase",
           "Data management & analytics"
          ],
          [
           "Sisense",
           "Data management & analytics"
          ],
          [
           "VAST Data",
           "Data management & analytics"
          ],
          [
           "FiveTran",
           "Data management & analytics"
          ],
          [
           "Qumulo",
           "Data management & analytics"
          ],
          [
           "Redis Labs",
           "Data management & analytics"
          ],
          [
           "Applied Intuition",
           "Data management & analytics"
          ],
          [
           "Cockroach Labs",
           "Data management & analytics"
          ],
          [
           "Dremio",
           "Data management & analytics"
          ],
          [
           "OwnBackup",
           "Data management & analytics"
          ],
          [
           "Quantum Metric",
           "Data management & analytics"
          ],
          [
           "Starburst",
           "Data management & analytics"
          ],
          [
           "Nexthink",
           "Data management & analytics"
          ],
          [
           "SambaNova Systems",
           "Data management & analytics"
          ],
          [
           "Axtria",
           "Data management & analytics"
          ],
          [
           "Cognite",
           "Data management & analytics"
          ],
          [
           "Neo4j",
           "Data management & analytics"
          ],
          [
           "dbt Labs",
           "Data management & analytics"
          ],
          [
           "Copado",
           "Data management & analytics"
          ],
          [
           "JumpCloud",
           "Data management & analytics"
          ],
          [
           "Matillion",
           "Data management & analytics"
          ],
          [
           "Chronosphere",
           "Data management & analytics"
          ],
          [
           "ClickHouse",
           "Data management & analytics"
          ],
          [
           "Devo",
           "Data management & analytics"
          ],
          [
           "YugaByte",
           "Data management & analytics"
          ],
          [
           "Reltio",
           "Data management & analytics"
          ],
          [
           "Iodine Software",
           "Data management & analytics"
          ]
         ],
         "hovertemplate": "Industry=%{customdata[1]}<br>Date Joined=%{x}<br>Valuation ($B)=%{y}<br>Company=%{customdata[0]}<extra></extra>",
         "legendgroup": "Data management & analytics",
         "marker": {
          "color": "#FF6692",
          "pattern": {
           "shape": ""
          }
         },
         "name": "Data management & analytics",
         "offsetgroup": "Data management & analytics",
         "orientation": "v",
         "showlegend": true,
         "textposition": "auto",
         "type": "bar",
         "x": [
          "2013-02-28",
          "2017-04-30",
          "2017-06-30",
          "2018-06-30",
          "2018-06-30",
          "2018-07-31",
          "2019-01-31",
          "2019-02-28",
          "2019-06-30",
          "2019-10-31",
          "2020-01-31",
          "2020-04-30",
          "2020-06-30",
          "2020-07-31",
          "2020-08-31",
          "2020-10-31",
          "2021-01-31",
          "2021-01-31",
          "2021-01-31",
          "2021-01-31",
          "2021-01-31",
          "2021-02-28",
          "2021-04-30",
          "2021-05-31",
          "2021-05-31",
          "2021-06-30",
          "2021-06-30",
          "2021-09-30",
          "2021-09-30",
          "2021-09-30",
          "2021-10-31",
          "2021-10-31",
          "2021-10-31",
          "2021-10-31",
          "2021-11-30",
          "2021-12-31"
         ],
         "xaxis": "x",
         "y": [
          1.5,
          4,
          1.5,
          11,
          3.7,
          1.62,
          5.25,
          38,
          2,
          1.05,
          1.1,
          3.7,
          5.6,
          1.2,
          2,
          3.6,
          2.16,
          1,
          3.35,
          1,
          1.2,
          1.1,
          5,
          1,
          1.6,
          2.15,
          1.5,
          1.2,
          2.62,
          1.5,
          1,
          2,
          1.5,
          1.3,
          1.7,
          1
         ],
         "yaxis": "y"
        },
        {
         "alignmentgroup": "True",
         "customdata": [
          [
           "Lookout",
           "Cybersecurity"
          ],
          [
           "Tanium",
           "Cybersecurity"
          ],
          [
           "Illumio",
           "Cybersecurity"
          ],
          [
           "Netskope",
           "Cybersecurity"
          ],
          [
           "Kaseya",
           "Cybersecurity"
          ],
          [
           "Tongdun Technology",
           "Cybersecurity"
          ],
          [
           "Cybereason",
           "Cybersecurity"
          ],
          [
           "Acronis",
           "Cybersecurity"
          ],
          [
           "Snyk",
           "Cybersecurity"
          ],
          [
           "Verkada",
           "Cybersecurity"
          ],
          [
           "Arctic Wolf Networks",
           "Cybersecurity"
          ],
          [
           "Cato Networks",
           "Cybersecurity"
          ],
          [
           "Forter",
           "Cybersecurity"
          ],
          [
           "BigID",
           "Cybersecurity"
          ],
          [
           "Venafi",
           "Cybersecurity"
          ],
          [
           "Lacework",
           "Cybersecurity"
          ],
          [
           "Aqua Security",
           "Cybersecurity"
          ],
          [
           "Axonius",
           "Cybersecurity"
          ],
          [
           "Coalition",
           "Cybersecurity"
          ],
          [
           "ID.me",
           "Cybersecurity"
          ],
          [
           "Orca Security",
           "Cybersecurity"
          ],
          [
           "Socure",
           "Cybersecurity"
          ],
          [
           "Wiz",
           "Cybersecurity"
          ],
          [
           "Sysdig",
           "Cybersecurity"
          ],
          [
           "Aura",
           "Cybersecurity"
          ],
          [
           "Claroty",
           "Cybersecurity"
          ],
          [
           "Exabeam",
           "Cybersecurity"
          ],
          [
           "Transmit Security",
           "Cybersecurity"
          ],
          [
           "Trulioo",
           "Cybersecurity"
          ],
          [
           "1Password",
           "Cybersecurity"
          ],
          [
           "BitSight Technologies",
           "Cybersecurity"
          ],
          [
           "Persona",
           "Cybersecurity"
          ],
          [
           "Dragos",
           "Cybersecurity"
          ],
          [
           "Contrast Security",
           "Cybersecurity"
          ],
          [
           "Drata",
           "Cybersecurity"
          ],
          [
           "Expel",
           "Cybersecurity"
          ],
          [
           "StarkWare",
           "Cybersecurity"
          ],
          [
           "Stytch",
           "Cybersecurity"
          ],
          [
           "Incode Technologies",
           "Cybersecurity"
          ],
          [
           "Panther Labs",
           "Cybersecurity"
          ],
          [
           "ReliaQuest",
           "Cybersecurity"
          ]
         ],
         "hovertemplate": "Industry=%{customdata[1]}<br>Date Joined=%{x}<br>Valuation ($B)=%{y}<br>Company=%{customdata[0]}<extra></extra>",
         "legendgroup": "Cybersecurity",
         "marker": {
          "color": "#B6E880",
          "pattern": {
           "shape": ""
          }
         },
         "name": "Cybersecurity",
         "offsetgroup": "Cybersecurity",
         "orientation": "v",
         "showlegend": true,
         "textposition": "auto",
         "type": "bar",
         "x": [
          "2013-10-31",
          "2015-03-31",
          "2015-04-30",
          "2018-11-30",
          "2019-03-31",
          "2019-04-30",
          "2019-08-31",
          "2019-09-30",
          "2020-01-31",
          "2020-01-31",
          "2020-10-31",
          "2020-11-30",
          "2020-11-30",
          "2020-12-31",
          "2020-12-31",
          "2021-01-31",
          "2021-03-31",
          "2021-03-31",
          "2021-03-31",
          "2021-03-31",
          "2021-03-31",
          "2021-03-31",
          "2021-03-31",
          "2021-04-30",
          "2021-06-30",
          "2021-06-30",
          "2021-06-30",
          "2021-06-30",
          "2021-06-30",
          "2021-07-31",
          "2021-09-30",
          "2021-09-30",
          "2021-10-31",
          "2021-11-30",
          "2021-11-30",
          "2021-11-30",
          "2021-11-30",
          "2021-11-30",
          "2021-12-31",
          "2021-12-31",
          "2021-12-31"
         ],
         "xaxis": "x",
         "y": [
          1,
          9,
          2.75,
          7.5,
          2,
          1.32,
          2.44,
          2.5,
          8.6,
          1.6,
          4.3,
          2.5,
          3,
          1.25,
          1.15,
          8.3,
          1,
          1.2,
          3.5,
          1.5,
          1.8,
          4.5,
          6,
          1.19,
          2.5,
          1,
          2.4,
          2.74,
          1.75,
          2,
          2.4,
          1.5,
          1.7,
          1,
          1,
          1,
          2,
          1,
          1.25,
          1.4,
          1
         ],
         "yaxis": "y"
        },
        {
         "alignmentgroup": "True",
         "customdata": [
          [
           "TangoMe",
           "Mobile & telecommunications"
          ],
          [
           "Yello Mobile",
           "Mobile & telecommunications"
          ],
          [
           "InMobi",
           "Mobile & telecommunications"
          ],
          [
           "Apus Group",
           "Mobile & telecommunications"
          ],
          [
           "LinkSure Network",
           "Mobile & telecommunications"
          ],
          [
           "FXiaoKe",
           "Mobile & telecommunications"
          ],
          [
           "Yixia",
           "Mobile & telecommunications"
          ],
          [
           "Meicai",
           "Mobile & telecommunications"
          ],
          [
           "Cell C",
           "Mobile & telecommunications"
          ],
          [
           "Ximalaya FM",
           "Mobile & telecommunications"
          ],
          [
           "Yidian Zixun",
           "Mobile & telecommunications"
          ],
          [
           "Maimai",
           "Mobile & telecommunications"
          ],
          [
           "Niantic",
           "Mobile & telecommunications"
          ],
          [
           "HMD Global",
           "Mobile & telecommunications"
          ],
          [
           "Movile",
           "Mobile & telecommunications"
          ],
          [
           "Starry",
           "Mobile & telecommunications"
          ],
          [
           "Wacai",
           "Mobile & telecommunications"
          ],
          [
           "Branch",
           "Mobile & telecommunications"
          ],
          [
           "Cambridge Mobile Telematics",
           "Mobile & telecommunications"
          ],
          [
           "Poizon",
           "Mobile & telecommunications"
          ],
          [
           "SmartNews",
           "Mobile & telecommunications"
          ],
          [
           "Huaqin Telecom Technology",
           "Mobile & telecommunications"
          ],
          [
           "Scopely",
           "Mobile & telecommunications"
          ],
          [
           "AppsFlyer",
           "Mobile & telecommunications"
          ],
          [
           "Moon Active",
           "Mobile & telecommunications"
          ],
          [
           "HyalRoute",
           "Mobile & telecommunications"
          ],
          [
           "Keep",
           "Mobile & telecommunications"
          ],
          [
           "Infobip",
           "Mobile & telecommunications"
          ],
          [
           "Attentive",
           "Mobile & telecommunications"
          ],
          [
           "MessageBird",
           "Mobile & telecommunications"
          ],
          [
           "GalaxySpace",
           "Mobile & telecommunications"
          ],
          [
           "Clubhouse",
           "Mobile & telecommunications"
          ],
          [
           "TalkingData",
           "Mobile & telecommunications"
          ],
          [
           "Astranis Space Technologies",
           "Mobile & telecommunications"
          ],
          [
           "Sendbird",
           "Mobile & telecommunications"
          ],
          [
           "Dream Games",
           "Mobile & telecommunications"
          ],
          [
           "PicsArt",
           "Mobile & telecommunications"
          ]
         ],
         "hovertemplate": "Industry=%{customdata[1]}<br>Date Joined=%{x}<br>Valuation ($B)=%{y}<br>Company=%{customdata[0]}<extra></extra>",
         "legendgroup": "Mobile & telecommunications",
         "marker": {
          "color": "#FF97FF",
          "pattern": {
           "shape": ""
          }
         },
         "name": "Mobile & telecommunications",
         "offsetgroup": "Mobile & telecommunications",
         "orientation": "v",
         "showlegend": true,
         "textposition": "auto",
         "type": "bar",
         "x": [
          "2014-03-31",
          "2014-11-30",
          "2014-12-31",
          "2015-01-31",
          "2015-01-31",
          "2015-07-31",
          "2015-11-30",
          "2016-06-30",
          "2017-08-31",
          "2017-09-30",
          "2017-10-31",
          "2017-11-30",
          "2017-11-30",
          "2018-05-31",
          "2018-07-31",
          "2018-07-31",
          "2018-07-31",
          "2018-09-30",
          "2018-12-31",
          "2019-04-30",
          "2019-08-31",
          "2019-10-31",
          "2019-10-31",
          "2020-01-31",
          "2020-01-31",
          "2020-05-31",
          "2020-05-31",
          "2020-07-31",
          "2020-09-30",
          "2020-10-31",
          "2020-11-30",
          "2021-01-31",
          "2021-01-31",
          "2021-04-30",
          "2021-04-30",
          "2021-06-30",
          "2021-08-31"
         ],
         "xaxis": "x",
         "y": [
          1.1,
          4,
          1,
          1.73,
          1,
          1,
          3,
          2.8,
          1,
          1.52,
          1.4,
          1,
          9,
          1,
          1,
          1.29,
          1,
          1,
          1.5,
          1,
          2,
          2.19,
          3.3,
          2,
          5,
          3.5,
          2,
          1,
          5.99,
          3.8,
          1.22,
          4,
          1.3,
          1.4,
          1.05,
          1,
          1
         ],
         "yaxis": "y"
        },
        {
         "alignmentgroup": "True",
         "customdata": [
          [
           "Intarcia Therapeutics",
           "Health"
          ],
          [
           "ZocDoc",
           "Health"
          ],
          [
           "We Doctor",
           "Health"
          ],
          [
           "MindMaze",
           "Health"
          ],
          [
           "Modernizing Medicine",
           "Health"
          ],
          [
           "Otto Bock HealthCare",
           "Health"
          ],
          [
           "United Imaging Healthcare",
           "Health"
          ],
          [
           "HeartFlow",
           "Health"
          ],
          [
           "Tempus",
           "Health"
          ],
          [
           "Dxy.cn",
           "Health"
          ],
          [
           "LinkDoc Technology",
           "Health"
          ],
          [
           "Medlinker",
           "Health"
          ],
          [
           "Biosplice Therapeutics",
           "Health"
          ],
          [
           "Devoted Health",
           "Health"
          ],
          [
           "Doctolib",
           "Health"
          ],
          [
           "Aprogen",
           "Health"
          ],
          [
           "Radiology Partners",
           "Health"
          ],
          [
           "CMR Surgical",
           "Health"
          ],
          [
           "Alto Pharmacy",
           "Health"
          ],
          [
           "InSightec",
           "Health"
          ],
          [
           "Komodo Health",
           "Health"
          ],
          [
           "Orca Bio",
           "Health"
          ],
          [
           "Ro",
           "Health"
          ],
          [
           "Lyra Health",
           "Health"
          ],
          [
           "Alzheon",
           "Health"
          ],
          [
           "Cityblock Health",
           "Health"
          ],
          [
           "Virta Health",
           "Health"
          ],
          [
           "Aledade",
           "Health"
          ],
          [
           "Color",
           "Health"
          ],
          [
           "EQRx",
           "Health"
          ],
          [
           "Hinge Health",
           "Health"
          ],
          [
           "K Health",
           "Health"
          ],
          [
           "Innovaccer",
           "Health"
          ],
          [
           "Modern Health",
           "Health"
          ],
          [
           "DispatchHealth",
           "Health"
          ],
          [
           "Evidation",
           "Health"
          ],
          [
           "Rightway",
           "Health"
          ],
          [
           "Unite Us",
           "Health"
          ],
          [
           "Arrail Dental",
           "Health"
          ],
          [
           "Capsule",
           "Health"
          ],
          [
           "Fiture",
           "Health"
          ],
          [
           "KRY",
           "Health"
          ],
          [
           "Caris Life Sciences",
           "Health"
          ],
          [
           "Noom",
           "Health"
          ],
          [
           "Cerebral",
           "Health"
          ],
          [
           "LetsGetChecked",
           "Health"
          ],
          [
           "Thirty Madison",
           "Health"
          ],
          [
           "Yaoshibang",
           "Health"
          ],
          [
           "Carbon Health",
           "Health"
          ],
          [
           "Prime Medicine",
           "Health"
          ],
          [
           "SonderMind",
           "Health"
          ],
          [
           "Maven Clinic",
           "Health"
          ],
          [
           "Reify Health",
           "Health"
          ],
          [
           "Mammoth Biosciences",
           "Health"
          ],
          [
           "Spring Health",
           "Health"
          ],
          [
           "TrialSpark",
           "Health"
          ],
          [
           "Dental Monitoring",
           "Health"
          ],
          [
           "Elemy",
           "Health"
          ],
          [
           "Truepill",
           "Health"
          ],
          [
           "CureFit",
           "Health"
          ],
          [
           "Papa",
           "Health"
          ],
          [
           "SWORD Health",
           "Health"
          ],
          [
           "Pristyn Care",
           "Health"
          ]
         ],
         "hovertemplate": "Industry=%{customdata[1]}<br>Date Joined=%{x}<br>Valuation ($B)=%{y}<br>Company=%{customdata[0]}<extra></extra>",
         "legendgroup": "Health",
         "marker": {
          "color": "#FECB52",
          "pattern": {
           "shape": ""
          }
         },
         "name": "Health",
         "offsetgroup": "Health",
         "orientation": "v",
         "showlegend": true,
         "textposition": "auto",
         "type": "bar",
         "x": [
          "2014-04-30",
          "2015-08-31",
          "2015-09-30",
          "2016-01-31",
          "2017-05-31",
          "2017-06-30",
          "2017-09-30",
          "2017-12-31",
          "2018-03-31",
          "2018-04-30",
          "2018-07-31",
          "2018-07-31",
          "2018-08-31",
          "2018-10-31",
          "2019-03-31",
          "2019-05-31",
          "2019-07-31",
          "2019-09-30",
          "2020-01-31",
          "2020-03-31",
          "2020-05-31",
          "2020-06-30",
          "2020-07-31",
          "2020-08-31",
          "2020-09-30",
          "2020-12-31",
          "2020-12-31",
          "2021-01-31",
          "2021-01-31",
          "2021-01-31",
          "2021-01-31",
          "2021-01-31",
          "2021-02-28",
          "2021-02-28",
          "2021-03-31",
          "2021-03-31",
          "2021-03-31",
          "2021-03-31",
          "2021-04-30",
          "2021-04-30",
          "2021-04-30",
          "2021-04-30",
          "2021-05-31",
          "2021-05-31",
          "2021-06-30",
          "2021-06-30",
          "2021-06-30",
          "2021-06-30",
          "2021-07-31",
          "2021-07-31",
          "2021-07-31",
          "2021-08-31",
          "2021-08-31",
          "2021-09-30",
          "2021-09-30",
          "2021-09-30",
          "2021-10-31",
          "2021-10-31",
          "2021-10-31",
          "2021-11-30",
          "2021-11-30",
          "2021-11-30",
          "2021-12-31"
         ],
         "xaxis": "x",
         "y": [
          3.8,
          1.8,
          7,
          1,
          1,
          3.52,
          5,
          1.3,
          8.1,
          1,
          1,
          1,
          12,
          12.6,
          1.14,
          1.04,
          4,
          3,
          1,
          1.3,
          3.3,
          1,
          5,
          4.6,
          1.31,
          5.7,
          2,
          1.9,
          4.6,
          1.23,
          6.2,
          1.5,
          1.3,
          1.17,
          1.7,
          1,
          1.1,
          1.7,
          2,
          1,
          1,
          2,
          7.83,
          3.7,
          4.8,
          1,
          1,
          1.35,
          3,
          1.2,
          1.42,
          1,
          2.2,
          1,
          2,
          1,
          1,
          1.15,
          1.6,
          1.5,
          1.4,
          2,
          1.2
         ],
         "yaxis": "y"
        },
        {
         "alignmentgroup": "True",
         "customdata": [
          [
           "Meizu Technology",
           "Hardware"
          ],
          [
           "Magic Leap",
           "Hardware"
          ],
          [
           "DJI Innovations",
           "Hardware"
          ],
          [
           "Infinidat",
           "Hardware"
          ],
          [
           "Carbon",
           "Hardware"
          ],
          [
           "Royole Corporation",
           "Hardware"
          ],
          [
           "UBTECH Robotics",
           "Hardware"
          ],
          [
           "Global Switch",
           "Hardware"
          ],
          [
           "Coocaa",
           "Hardware"
          ],
          [
           "Samsara Networks",
           "Hardware"
          ],
          [
           "Orbbec Technology",
           "Hardware"
          ],
          [
           "China Cloud",
           "Hardware"
          ],
          [
           "Bitmain Technologies",
           "Hardware"
          ],
          [
           "Formlabs",
           "Hardware"
          ],
          [
           "TERMINUS Technology",
           "Hardware"
          ],
          [
           "BitFury",
           "Hardware"
          ],
          [
           "Cerebras Systems",
           "Hardware"
          ],
          [
           "Geek+",
           "Hardware"
          ],
          [
           "ASR Microelectronics",
           "Hardware"
          ],
          [
           "Biren Technology",
           "Hardware"
          ],
          [
           "Enflame",
           "Hardware"
          ],
          [
           "Locus Robotics",
           "Hardware"
          ],
          [
           "Iluvatar CoreX",
           "Hardware"
          ],
          [
           "EcoFlow",
           "Hardware"
          ],
          [
           "Ledger",
           "Hardware"
          ],
          [
           "Next Silicon",
           "Hardware"
          ],
          [
           "PsiQuantum",
           "Hardware"
          ],
          [
           "1KMXC",
           "Hardware"
          ],
          [
           "Agile Robots",
           "Hardware"
          ],
          [
           "Opentrons",
           "Hardware"
          ],
          [
           "Density",
           "Hardware"
          ],
          [
           "Gaussian Robotics",
           "Hardware"
          ]
         ],
         "hovertemplate": "Industry=%{customdata[1]}<br>Date Joined=%{x}<br>Valuation ($B)=%{y}<br>Company=%{customdata[0]}<extra></extra>",
         "legendgroup": "Hardware",
         "marker": {
          "color": "#636efa",
          "pattern": {
           "shape": ""
          }
         },
         "name": "Hardware",
         "offsetgroup": "Hardware",
         "orientation": "v",
         "showlegend": true,
         "textposition": "auto",
         "type": "bar",
         "x": [
          "2014-07-31",
          "2014-10-31",
          "2015-01-31",
          "2015-04-30",
          "2015-08-31",
          "2015-08-31",
          "2016-07-31",
          "2016-12-31",
          "2018-03-31",
          "2018-03-31",
          "2018-05-31",
          "2018-06-30",
          "2018-07-31",
          "2018-08-31",
          "2018-10-31",
          "2018-11-30",
          "2018-11-30",
          "2018-11-30",
          "2020-04-30",
          "2020-08-31",
          "2021-01-31",
          "2021-02-28",
          "2021-03-31",
          "2021-06-30",
          "2021-06-30",
          "2021-06-30",
          "2021-07-31",
          "2021-08-31",
          "2021-09-30",
          "2021-09-30",
          "2021-11-30",
          "2021-11-30"
         ],
         "xaxis": "x",
         "y": [
          4.58,
          2,
          15,
          1.6,
          2.4,
          6,
          4.45,
          11.1,
          1.45,
          6.3,
          1,
          1,
          12,
          2,
          1,
          1,
          4,
          1,
          1.6,
          2.32,
          1.24,
          1,
          1.55,
          1,
          1.5,
          1.5,
          3.15,
          1,
          1,
          1.8,
          1.05,
          1
         ],
         "yaxis": "y"
        },
        {
         "alignmentgroup": "True",
         "customdata": [
          [
           "Ola Cabs",
           "Auto & transportation"
          ],
          [
           "BlaBlaCar",
           "Auto & transportation"
          ],
          [
           "Gett",
           "Auto & transportation"
          ],
          [
           "Quanergy Systems",
           "Auto & transportation"
          ],
          [
           "Cabify",
           "Auto & transportation"
          ],
          [
           "Cao Cao Mobility",
           "Auto & transportation"
          ],
          [
           "AIWAYS",
           "Auto & transportation"
          ],
          [
           "BYTON",
           "Auto & transportation"
          ],
          [
           "Youxia Motors",
           "Auto & transportation"
          ],
          [
           "Bolt",
           "Auto & transportation"
          ],
          [
           "Hello TransTech",
           "Auto & transportation"
          ],
          [
           "Banma Network Technologies",
           "Auto & transportation"
          ],
          [
           "Tuhu",
           "Auto & transportation"
          ],
          [
           "Leap Motor",
           "Auto & transportation"
          ],
          [
           "Fair",
           "Auto & transportation"
          ],
          [
           "Nuro",
           "Auto & transportation"
          ],
          [
           "WM Motor",
           "Auto & transportation"
          ],
          [
           "ENOVATE",
           "Auto & transportation"
          ],
          [
           "Bordrin Motors",
           "Auto & transportation"
          ],
          [
           "FlixMobility",
           "Auto & transportation"
          ],
          [
           "Ola Electric Mobility",
           "Auto & transportation"
          ],
          [
           "Via",
           "Auto & transportation"
          ],
          [
           "SVOLT Energy",
           "Auto & transportation"
          ],
          [
           "ECARX",
           "Auto & transportation"
          ],
          [
           "Socar",
           "Auto & transportation"
          ],
          [
           "WeRide",
           "Auto & transportation"
          ],
          [
           "Star Charge",
           "Auto & transportation"
          ],
          [
           "ZongMu Technology",
           "Auto & transportation"
          ],
          [
           "Hozon Auto",
           "Auto & transportation"
          ]
         ],
         "hovertemplate": "Industry=%{customdata[1]}<br>Date Joined=%{x}<br>Valuation ($B)=%{y}<br>Company=%{customdata[0]}<extra></extra>",
         "legendgroup": "Auto & transportation",
         "marker": {
          "color": "#EF553B",
          "pattern": {
           "shape": ""
          }
         },
         "name": "Auto & transportation",
         "offsetgroup": "Auto & transportation",
         "orientation": "v",
         "showlegend": true,
         "textposition": "auto",
         "type": "bar",
         "x": [
          "2014-10-31",
          "2015-09-30",
          "2016-05-31",
          "2016-08-31",
          "2018-01-31",
          "2018-01-31",
          "2018-04-30",
          "2018-04-30",
          "2018-04-30",
          "2018-05-31",
          "2018-06-30",
          "2018-09-30",
          "2018-09-30",
          "2018-11-30",
          "2018-12-31",
          "2019-02-28",
          "2019-03-31",
          "2019-04-30",
          "2019-06-30",
          "2019-07-31",
          "2019-07-31",
          "2020-03-31",
          "2020-06-30",
          "2020-10-31",
          "2020-10-31",
          "2020-12-31",
          "2021-05-31",
          "2021-06-30",
          "2021-10-31"
         ],
         "xaxis": "x",
         "y": [
          7.5,
          2,
          1.5,
          2,
          1.4,
          1.6,
          1.78,
          2.5,
          3.35,
          4.75,
          5,
          1,
          1.16,
          1.01,
          1.2,
          8.6,
          5,
          1.85,
          1.48,
          3,
          3,
          3.3,
          1.16,
          3.31,
          1,
          3.3,
          2.41,
          11.4,
          2.74
         ],
         "yaxis": "y"
        },
        {
         "alignmentgroup": "True",
         "customdata": [
          [
           "Instacart",
           "Supply chain logistics & delivery"
          ],
          [
           "Yiguo",
           "Supply chain logistics & delivery"
          ],
          [
           "YH Global",
           "Supply chain logistics & delivery"
          ],
          [
           "Hive Box",
           "Supply chain logistics & delivery"
          ],
          [
           "Flexport",
           "Supply chain logistics & delivery"
          ],
          [
           "Swiggy",
           "Supply chain logistics & delivery"
          ],
          [
           "Kuaigou Dache",
           "Supply chain logistics & delivery"
          ],
          [
           "FlashEx",
           "Supply chain logistics & delivery"
          ],
          [
           "Rappi",
           "Supply chain logistics & delivery"
          ],
          [
           "Convoy",
           "Supply chain logistics & delivery"
          ],
          [
           "Udaan",
           "Supply chain logistics & delivery"
          ],
          [
           "Juma Peisong",
           "Supply chain logistics & delivery"
          ],
          [
           "iFood",
           "Supply chain logistics & delivery"
          ],
          [
           "REEF Technology",
           "Supply chain logistics & delivery"
          ],
          [
           "Yimidida",
           "Supply chain logistics & delivery"
          ],
          [
           "Delhivery",
           "Supply chain logistics & delivery"
          ],
          [
           "Lalamove",
           "Supply chain logistics & delivery"
          ],
          [
           "KeepTruckin",
           "Supply chain logistics & delivery"
          ],
          [
           "ezCater",
           "Supply chain logistics & delivery"
          ],
          [
           "Zipline",
           "Supply chain logistics & delivery"
          ],
          [
           "Loggi",
           "Supply chain logistics & delivery"
          ],
          [
           "Rivigo",
           "Supply chain logistics & delivery"
          ],
          [
           "Glovo",
           "Supply chain logistics & delivery"
          ],
          [
           "Proterra",
           "Supply chain logistics & delivery"
          ],
          [
           "Gousto",
           "Supply chain logistics & delivery"
          ],
          [
           "ISN",
           "Supply chain logistics & delivery"
          ],
          [
           "56PINGTAI",
           "Supply chain logistics & delivery"
          ],
          [
           "Sennder",
           "Supply chain logistics & delivery"
          ],
          [
           "UISEE Technology",
           "Supply chain logistics & delivery"
          ],
          [
           "Flash Express",
           "Supply chain logistics & delivery"
          ],
          [
           "Skydio",
           "Supply chain logistics & delivery"
          ],
          [
           "Weee!",
           "Supply chain logistics & delivery"
          ],
          [
           "J&T Express",
           "Supply chain logistics & delivery"
          ],
          [
           "Bringg",
           "Supply chain logistics & delivery"
          ],
          [
           "Forto",
           "Supply chain logistics & delivery"
          ],
          [
           "Grofers",
           "Supply chain logistics & delivery"
          ],
          [
           "Project44",
           "Supply chain logistics & delivery"
          ],
          [
           "ShipBob",
           "Supply chain logistics & delivery"
          ],
          [
           "Shippo",
           "Supply chain logistics & delivery"
          ],
          [
           "YunQuNa",
           "Supply chain logistics & delivery"
          ],
          [
           "BlackBuck",
           "Supply chain logistics & delivery"
          ],
          [
           "Kitopi",
           "Supply chain logistics & delivery"
          ],
          [
           "Kurly",
           "Supply chain logistics & delivery"
          ],
          [
           "Rohlik",
           "Supply chain logistics & delivery"
          ],
          [
           "Keenon Robotics",
           "Supply chain logistics & delivery"
          ],
          [
           "Ninja Van",
           "Supply chain logistics & delivery"
          ],
          [
           "STORD",
           "Supply chain logistics & delivery"
          ],
          [
           "CargoX",
           "Supply chain logistics & delivery"
          ],
          [
           "Fabric",
           "Supply chain logistics & delivery"
          ],
          [
           "Flock Freight",
           "Supply chain logistics & delivery"
          ],
          [
           "Deliverr",
           "Supply chain logistics & delivery"
          ]
         ],
         "hovertemplate": "Industry=%{customdata[1]}<br>Date Joined=%{x}<br>Valuation ($B)=%{y}<br>Company=%{customdata[0]}<extra></extra>",
         "legendgroup": "Supply chain logistics & delivery",
         "marker": {
          "color": "#00cc96",
          "pattern": {
           "shape": ""
          }
         },
         "name": "Supply chain logistics & delivery",
         "offsetgroup": "Supply chain logistics & delivery",
         "orientation": "v",
         "showlegend": true,
         "textposition": "auto",
         "type": "bar",
         "x": [
          "2014-12-31",
          "2016-11-30",
          "2017-09-30",
          "2018-01-31",
          "2018-04-30",
          "2018-06-30",
          "2018-07-31",
          "2018-08-31",
          "2018-08-31",
          "2018-09-30",
          "2018-09-30",
          "2018-11-30",
          "2018-11-30",
          "2018-12-31",
          "2019-01-31",
          "2019-02-28",
          "2019-02-28",
          "2019-04-30",
          "2019-04-30",
          "2019-05-31",
          "2019-06-30",
          "2019-07-31",
          "2019-12-31",
          "2020-10-31",
          "2020-11-30",
          "2020-12-31",
          "2021-01-31",
          "2021-01-31",
          "2021-01-31",
          "2021-02-28",
          "2021-02-28",
          "2021-03-31",
          "2021-04-30",
          "2021-06-30",
          "2021-06-30",
          "2021-06-30",
          "2021-06-30",
          "2021-06-30",
          "2021-06-30",
          "2021-06-30",
          "2021-07-31",
          "2021-07-31",
          "2021-07-31",
          "2021-07-31",
          "2021-09-30",
          "2021-09-30",
          "2021-09-30",
          "2021-10-31",
          "2021-10-31",
          "2021-10-31",
          "2021-11-30"
         ],
         "xaxis": "x",
         "y": [
          39,
          1.2,
          1,
          1.4,
          3.2,
          5.5,
          1,
          1,
          5.25,
          2.75,
          3.1,
          1.45,
          1,
          1,
          1.17,
          3,
          10,
          2.3,
          1.25,
          2.8,
          2,
          1.07,
          1,
          1.05,
          1,
          2,
          1.08,
          1.1,
          1.08,
          1,
          1,
          2.8,
          20,
          1,
          1.2,
          1.01,
          1.2,
          1,
          1,
          1.5,
          1,
          1,
          2.2,
          1.2,
          1,
          1,
          1.13,
          1,
          1,
          1.3,
          2
         ],
         "yaxis": "y"
        },
        {
         "alignmentgroup": "True",
         "customdata": [
          [
           "TuJia",
           "Travel"
          ],
          [
           "Traveloka",
           "Travel"
          ],
          [
           "XiaoZhu",
           "Travel"
          ],
          [
           "Klook",
           "Travel"
          ],
          [
           "OYO Rooms",
           "Travel"
          ],
          [
           "Omio",
           "Travel"
          ],
          [
           "TripActions",
           "Travel"
          ],
          [
           "GetYourGuide",
           "Travel"
          ],
          [
           "Mafengwo",
           "Travel"
          ],
          [
           "Yanolja",
           "Travel"
          ],
          [
           "Sonder",
           "Travel"
          ],
          [
           "Hopper",
           "Travel"
          ],
          [
           "Tier Mobility",
           "Travel"
          ]
         ],
         "hovertemplate": "Industry=%{customdata[1]}<br>Date Joined=%{x}<br>Valuation ($B)=%{y}<br>Company=%{customdata[0]}<extra></extra>",
         "legendgroup": "Travel",
         "marker": {
          "color": "#ab63fa",
          "pattern": {
           "shape": ""
          }
         },
         "name": "Travel",
         "offsetgroup": "Travel",
         "orientation": "v",
         "showlegend": true,
         "textposition": "auto",
         "type": "bar",
         "x": [
          "2015-06-30",
          "2017-01-31",
          "2017-11-30",
          "2018-08-31",
          "2018-09-30",
          "2018-10-31",
          "2018-11-30",
          "2019-05-31",
          "2019-05-31",
          "2019-06-30",
          "2019-07-31",
          "2021-03-31",
          "2021-10-31"
         ],
         "xaxis": "x",
         "y": [
          1.5,
          3,
          1.5,
          1.35,
          9.6,
          1,
          7.25,
          1.1,
          2,
          1,
          1.3,
          3,
          2
         ],
         "yaxis": "y"
        },
        {
         "alignmentgroup": "True",
         "customdata": [
          [
           "HuJiang",
           "Edtech"
          ],
          [
           "iTutorGroup",
           "Edtech"
          ],
          [
           "Age of Learning",
           "Edtech"
          ],
          [
           "VIPKid",
           "Edtech"
          ],
          [
           "Yuanfudao",
           "Edtech"
          ],
          [
           "BYJU's",
           "Edtech"
          ],
          [
           "Luoji Siwei",
           "Edtech"
          ],
          [
           "Changingedu",
           "Edtech"
          ],
          [
           "Huike Group",
           "Edtech"
          ],
          [
           "Zuoyebang",
           "Edtech"
          ],
          [
           "KnowBox",
           "Edtech"
          ],
          [
           "Course Hero",
           "Edtech"
          ],
          [
           "ApplyBoard",
           "Edtech"
          ],
          [
           "Quizlet",
           "Edtech"
          ],
          [
           "Unacademy",
           "Edtech"
          ],
          [
           "Fenbi Education",
           "Edtech"
          ],
          [
           "Pipa Coding",
           "Edtech"
          ],
          [
           "Yunxuetang",
           "Edtech"
          ],
          [
           "Degreed",
           "Edtech"
          ],
          [
           "Outschool",
           "Edtech"
          ],
          [
           "MasterClass",
           "Edtech"
          ],
          [
           "GoStudent",
           "Edtech"
          ],
          [
           "JoyTunes",
           "Edtech"
          ],
          [
           "Articulate",
           "Edtech"
          ],
          [
           "Eruditus Executive Education",
           "Edtech"
          ],
          [
           "UpGrad",
           "Edtech"
          ],
          [
           "Vedantu",
           "Edtech"
          ]
         ],
         "hovertemplate": "Industry=%{customdata[1]}<br>Date Joined=%{x}<br>Valuation ($B)=%{y}<br>Company=%{customdata[0]}<extra></extra>",
         "legendgroup": "Edtech",
         "marker": {
          "color": "#FFA15A",
          "pattern": {
           "shape": ""
          }
         },
         "name": "Edtech",
         "offsetgroup": "Edtech",
         "orientation": "v",
         "showlegend": true,
         "textposition": "auto",
         "type": "bar",
         "x": [
          "2015-10-31",
          "2015-11-30",
          "2016-05-31",
          "2016-08-31",
          "2017-05-31",
          "2017-07-31",
          "2017-07-31",
          "2017-10-31",
          "2018-05-31",
          "2018-07-31",
          "2019-05-31",
          "2020-02-29",
          "2020-05-31",
          "2020-05-31",
          "2020-09-30",
          "2021-02-28",
          "2021-03-31",
          "2021-03-31",
          "2021-04-30",
          "2021-04-30",
          "2021-05-31",
          "2021-06-30",
          "2021-06-30",
          "2021-07-31",
          "2021-08-31",
          "2021-08-31",
          "2021-09-30"
         ],
         "xaxis": "x",
         "y": [
          1,
          1,
          3,
          4.5,
          15.5,
          21,
          1.18,
          1.5,
          1,
          3,
          1,
          1.1,
          3,
          1,
          3.44,
          1.95,
          1.2,
          1,
          1.4,
          3,
          2.75,
          1.7,
          1,
          3.75,
          3.2,
          1.2,
          1
         ],
         "yaxis": "y"
        }
       ],
       "layout": {
        "barmode": "relative",
        "legend": {
         "title": {
          "text": "Industry"
         },
         "tracegroupgap": 0
        },
        "margin": {
         "t": 60
        },
        "template": {
         "data": {
          "bar": [
           {
            "error_x": {
             "color": "#2a3f5f"
            },
            "error_y": {
             "color": "#2a3f5f"
            },
            "marker": {
             "line": {
              "color": "#E5ECF6",
              "width": 0.5
             },
             "pattern": {
              "fillmode": "overlay",
              "size": 10,
              "solidity": 0.2
             }
            },
            "type": "bar"
           }
          ],
          "barpolar": [
           {
            "marker": {
             "line": {
              "color": "#E5ECF6",
              "width": 0.5
             },
             "pattern": {
              "fillmode": "overlay",
              "size": 10,
              "solidity": 0.2
             }
            },
            "type": "barpolar"
           }
          ],
          "carpet": [
           {
            "aaxis": {
             "endlinecolor": "#2a3f5f",
             "gridcolor": "white",
             "linecolor": "white",
             "minorgridcolor": "white",
             "startlinecolor": "#2a3f5f"
            },
            "baxis": {
             "endlinecolor": "#2a3f5f",
             "gridcolor": "white",
             "linecolor": "white",
             "minorgridcolor": "white",
             "startlinecolor": "#2a3f5f"
            },
            "type": "carpet"
           }
          ],
          "choropleth": [
           {
            "colorbar": {
             "outlinewidth": 0,
             "ticks": ""
            },
            "type": "choropleth"
           }
          ],
          "contour": [
           {
            "colorbar": {
             "outlinewidth": 0,
             "ticks": ""
            },
            "colorscale": [
             [
              0,
              "#0d0887"
             ],
             [
              0.1111111111111111,
              "#46039f"
             ],
             [
              0.2222222222222222,
              "#7201a8"
             ],
             [
              0.3333333333333333,
              "#9c179e"
             ],
             [
              0.4444444444444444,
              "#bd3786"
             ],
             [
              0.5555555555555556,
              "#d8576b"
             ],
             [
              0.6666666666666666,
              "#ed7953"
             ],
             [
              0.7777777777777778,
              "#fb9f3a"
             ],
             [
              0.8888888888888888,
              "#fdca26"
             ],
             [
              1,
              "#f0f921"
             ]
            ],
            "type": "contour"
           }
          ],
          "contourcarpet": [
           {
            "colorbar": {
             "outlinewidth": 0,
             "ticks": ""
            },
            "type": "contourcarpet"
           }
          ],
          "heatmap": [
           {
            "colorbar": {
             "outlinewidth": 0,
             "ticks": ""
            },
            "colorscale": [
             [
              0,
              "#0d0887"
             ],
             [
              0.1111111111111111,
              "#46039f"
             ],
             [
              0.2222222222222222,
              "#7201a8"
             ],
             [
              0.3333333333333333,
              "#9c179e"
             ],
             [
              0.4444444444444444,
              "#bd3786"
             ],
             [
              0.5555555555555556,
              "#d8576b"
             ],
             [
              0.6666666666666666,
              "#ed7953"
             ],
             [
              0.7777777777777778,
              "#fb9f3a"
             ],
             [
              0.8888888888888888,
              "#fdca26"
             ],
             [
              1,
              "#f0f921"
             ]
            ],
            "type": "heatmap"
           }
          ],
          "heatmapgl": [
           {
            "colorbar": {
             "outlinewidth": 0,
             "ticks": ""
            },
            "colorscale": [
             [
              0,
              "#0d0887"
             ],
             [
              0.1111111111111111,
              "#46039f"
             ],
             [
              0.2222222222222222,
              "#7201a8"
             ],
             [
              0.3333333333333333,
              "#9c179e"
             ],
             [
              0.4444444444444444,
              "#bd3786"
             ],
             [
              0.5555555555555556,
              "#d8576b"
             ],
             [
              0.6666666666666666,
              "#ed7953"
             ],
             [
              0.7777777777777778,
              "#fb9f3a"
             ],
             [
              0.8888888888888888,
              "#fdca26"
             ],
             [
              1,
              "#f0f921"
             ]
            ],
            "type": "heatmapgl"
           }
          ],
          "histogram": [
           {
            "marker": {
             "pattern": {
              "fillmode": "overlay",
              "size": 10,
              "solidity": 0.2
             }
            },
            "type": "histogram"
           }
          ],
          "histogram2d": [
           {
            "colorbar": {
             "outlinewidth": 0,
             "ticks": ""
            },
            "colorscale": [
             [
              0,
              "#0d0887"
             ],
             [
              0.1111111111111111,
              "#46039f"
             ],
             [
              0.2222222222222222,
              "#7201a8"
             ],
             [
              0.3333333333333333,
              "#9c179e"
             ],
             [
              0.4444444444444444,
              "#bd3786"
             ],
             [
              0.5555555555555556,
              "#d8576b"
             ],
             [
              0.6666666666666666,
              "#ed7953"
             ],
             [
              0.7777777777777778,
              "#fb9f3a"
             ],
             [
              0.8888888888888888,
              "#fdca26"
             ],
             [
              1,
              "#f0f921"
             ]
            ],
            "type": "histogram2d"
           }
          ],
          "histogram2dcontour": [
           {
            "colorbar": {
             "outlinewidth": 0,
             "ticks": ""
            },
            "colorscale": [
             [
              0,
              "#0d0887"
             ],
             [
              0.1111111111111111,
              "#46039f"
             ],
             [
              0.2222222222222222,
              "#7201a8"
             ],
             [
              0.3333333333333333,
              "#9c179e"
             ],
             [
              0.4444444444444444,
              "#bd3786"
             ],
             [
              0.5555555555555556,
              "#d8576b"
             ],
             [
              0.6666666666666666,
              "#ed7953"
             ],
             [
              0.7777777777777778,
              "#fb9f3a"
             ],
             [
              0.8888888888888888,
              "#fdca26"
             ],
             [
              1,
              "#f0f921"
             ]
            ],
            "type": "histogram2dcontour"
           }
          ],
          "mesh3d": [
           {
            "colorbar": {
             "outlinewidth": 0,
             "ticks": ""
            },
            "type": "mesh3d"
           }
          ],
          "parcoords": [
           {
            "line": {
             "colorbar": {
              "outlinewidth": 0,
              "ticks": ""
             }
            },
            "type": "parcoords"
           }
          ],
          "pie": [
           {
            "automargin": true,
            "type": "pie"
           }
          ],
          "scatter": [
           {
            "marker": {
             "colorbar": {
              "outlinewidth": 0,
              "ticks": ""
             }
            },
            "type": "scatter"
           }
          ],
          "scatter3d": [
           {
            "line": {
             "colorbar": {
              "outlinewidth": 0,
              "ticks": ""
             }
            },
            "marker": {
             "colorbar": {
              "outlinewidth": 0,
              "ticks": ""
             }
            },
            "type": "scatter3d"
           }
          ],
          "scattercarpet": [
           {
            "marker": {
             "colorbar": {
              "outlinewidth": 0,
              "ticks": ""
             }
            },
            "type": "scattercarpet"
           }
          ],
          "scattergeo": [
           {
            "marker": {
             "colorbar": {
              "outlinewidth": 0,
              "ticks": ""
             }
            },
            "type": "scattergeo"
           }
          ],
          "scattergl": [
           {
            "marker": {
             "colorbar": {
              "outlinewidth": 0,
              "ticks": ""
             }
            },
            "type": "scattergl"
           }
          ],
          "scattermapbox": [
           {
            "marker": {
             "colorbar": {
              "outlinewidth": 0,
              "ticks": ""
             }
            },
            "type": "scattermapbox"
           }
          ],
          "scatterpolar": [
           {
            "marker": {
             "colorbar": {
              "outlinewidth": 0,
              "ticks": ""
             }
            },
            "type": "scatterpolar"
           }
          ],
          "scatterpolargl": [
           {
            "marker": {
             "colorbar": {
              "outlinewidth": 0,
              "ticks": ""
             }
            },
            "type": "scatterpolargl"
           }
          ],
          "scatterternary": [
           {
            "marker": {
             "colorbar": {
              "outlinewidth": 0,
              "ticks": ""
             }
            },
            "type": "scatterternary"
           }
          ],
          "surface": [
           {
            "colorbar": {
             "outlinewidth": 0,
             "ticks": ""
            },
            "colorscale": [
             [
              0,
              "#0d0887"
             ],
             [
              0.1111111111111111,
              "#46039f"
             ],
             [
              0.2222222222222222,
              "#7201a8"
             ],
             [
              0.3333333333333333,
              "#9c179e"
             ],
             [
              0.4444444444444444,
              "#bd3786"
             ],
             [
              0.5555555555555556,
              "#d8576b"
             ],
             [
              0.6666666666666666,
              "#ed7953"
             ],
             [
              0.7777777777777778,
              "#fb9f3a"
             ],
             [
              0.8888888888888888,
              "#fdca26"
             ],
             [
              1,
              "#f0f921"
             ]
            ],
            "type": "surface"
           }
          ],
          "table": [
           {
            "cells": {
             "fill": {
              "color": "#EBF0F8"
             },
             "line": {
              "color": "white"
             }
            },
            "header": {
             "fill": {
              "color": "#C8D4E3"
             },
             "line": {
              "color": "white"
             }
            },
            "type": "table"
           }
          ]
         },
         "layout": {
          "annotationdefaults": {
           "arrowcolor": "#2a3f5f",
           "arrowhead": 0,
           "arrowwidth": 1
          },
          "autotypenumbers": "strict",
          "coloraxis": {
           "colorbar": {
            "outlinewidth": 0,
            "ticks": ""
           }
          },
          "colorscale": {
           "diverging": [
            [
             0,
             "#8e0152"
            ],
            [
             0.1,
             "#c51b7d"
            ],
            [
             0.2,
             "#de77ae"
            ],
            [
             0.3,
             "#f1b6da"
            ],
            [
             0.4,
             "#fde0ef"
            ],
            [
             0.5,
             "#f7f7f7"
            ],
            [
             0.6,
             "#e6f5d0"
            ],
            [
             0.7,
             "#b8e186"
            ],
            [
             0.8,
             "#7fbc41"
            ],
            [
             0.9,
             "#4d9221"
            ],
            [
             1,
             "#276419"
            ]
           ],
           "sequential": [
            [
             0,
             "#0d0887"
            ],
            [
             0.1111111111111111,
             "#46039f"
            ],
            [
             0.2222222222222222,
             "#7201a8"
            ],
            [
             0.3333333333333333,
             "#9c179e"
            ],
            [
             0.4444444444444444,
             "#bd3786"
            ],
            [
             0.5555555555555556,
             "#d8576b"
            ],
            [
             0.6666666666666666,
             "#ed7953"
            ],
            [
             0.7777777777777778,
             "#fb9f3a"
            ],
            [
             0.8888888888888888,
             "#fdca26"
            ],
            [
             1,
             "#f0f921"
            ]
           ],
           "sequentialminus": [
            [
             0,
             "#0d0887"
            ],
            [
             0.1111111111111111,
             "#46039f"
            ],
            [
             0.2222222222222222,
             "#7201a8"
            ],
            [
             0.3333333333333333,
             "#9c179e"
            ],
            [
             0.4444444444444444,
             "#bd3786"
            ],
            [
             0.5555555555555556,
             "#d8576b"
            ],
            [
             0.6666666666666666,
             "#ed7953"
            ],
            [
             0.7777777777777778,
             "#fb9f3a"
            ],
            [
             0.8888888888888888,
             "#fdca26"
            ],
            [
             1,
             "#f0f921"
            ]
           ]
          },
          "colorway": [
           "#636efa",
           "#EF553B",
           "#00cc96",
           "#ab63fa",
           "#FFA15A",
           "#19d3f3",
           "#FF6692",
           "#B6E880",
           "#FF97FF",
           "#FECB52"
          ],
          "font": {
           "color": "#2a3f5f"
          },
          "geo": {
           "bgcolor": "white",
           "lakecolor": "white",
           "landcolor": "#E5ECF6",
           "showlakes": true,
           "showland": true,
           "subunitcolor": "white"
          },
          "hoverlabel": {
           "align": "left"
          },
          "hovermode": "closest",
          "mapbox": {
           "style": "light"
          },
          "paper_bgcolor": "white",
          "plot_bgcolor": "#E5ECF6",
          "polar": {
           "angularaxis": {
            "gridcolor": "white",
            "linecolor": "white",
            "ticks": ""
           },
           "bgcolor": "#E5ECF6",
           "radialaxis": {
            "gridcolor": "white",
            "linecolor": "white",
            "ticks": ""
           }
          },
          "scene": {
           "xaxis": {
            "backgroundcolor": "#E5ECF6",
            "gridcolor": "white",
            "gridwidth": 2,
            "linecolor": "white",
            "showbackground": true,
            "ticks": "",
            "zerolinecolor": "white"
           },
           "yaxis": {
            "backgroundcolor": "#E5ECF6",
            "gridcolor": "white",
            "gridwidth": 2,
            "linecolor": "white",
            "showbackground": true,
            "ticks": "",
            "zerolinecolor": "white"
           },
           "zaxis": {
            "backgroundcolor": "#E5ECF6",
            "gridcolor": "white",
            "gridwidth": 2,
            "linecolor": "white",
            "showbackground": true,
            "ticks": "",
            "zerolinecolor": "white"
           }
          },
          "shapedefaults": {
           "line": {
            "color": "#2a3f5f"
           }
          },
          "ternary": {
           "aaxis": {
            "gridcolor": "white",
            "linecolor": "white",
            "ticks": ""
           },
           "baxis": {
            "gridcolor": "white",
            "linecolor": "white",
            "ticks": ""
           },
           "bgcolor": "#E5ECF6",
           "caxis": {
            "gridcolor": "white",
            "linecolor": "white",
            "ticks": ""
           }
          },
          "title": {
           "x": 0.05
          },
          "xaxis": {
           "automargin": true,
           "gridcolor": "white",
           "linecolor": "white",
           "ticks": "",
           "title": {
            "standoff": 15
           },
           "zerolinecolor": "white",
           "zerolinewidth": 2
          },
          "yaxis": {
           "automargin": true,
           "gridcolor": "white",
           "linecolor": "white",
           "ticks": "",
           "title": {
            "standoff": 15
           },
           "zerolinecolor": "white",
           "zerolinewidth": 2
          }
         }
        },
        "xaxis": {
         "anchor": "y",
         "domain": [
          0,
          1
         ],
         "title": {
          "text": "Date Joined"
         }
        },
        "yaxis": {
         "anchor": "x",
         "domain": [
          0,
          1
         ],
         "title": {
          "text": "Valuation ($B)"
         }
        }
       }
      },
      "text/html": [
       "<div>                            <div id=\"72796eec-ae77-4804-934b-e14bc75eb9fa\" class=\"plotly-graph-div\" style=\"height:525px; width:100%;\"></div>            <script type=\"text/javascript\">                require([\"plotly\"], function(Plotly) {                    window.PLOTLYENV=window.PLOTLYENV || {};                                    if (document.getElementById(\"72796eec-ae77-4804-934b-e14bc75eb9fa\")) {                    Plotly.newPlot(                        \"72796eec-ae77-4804-934b-e14bc75eb9fa\",                        [{\"alignmentgroup\":\"True\",\"customdata\":[[\"Veepee\",\"E-commerce & direct-to-consumer\"],[\"VANCL\",\"E-commerce & direct-to-consumer\"],[\"Fanatics\",\"E-commerce & direct-to-consumer\"],[\"Snapdeal\",\"E-commerce & direct-to-consumer\"],[\"TechStyle Fashion Group\",\"E-commerce & direct-to-consumer\"],[\"Houzz\",\"E-commerce & direct-to-consumer\"],[\"Koudai\",\"E-commerce & direct-to-consumer\"],[\"BeiBei\",\"E-commerce & direct-to-consumer\"],[\"Lamabang\",\"E-commerce & direct-to-consumer\"],[\"Tubatu.com\",\"E-commerce & direct-to-consumer\"],[\"Jiuxian\",\"E-commerce & direct-to-consumer\"],[\"Mia.com\",\"E-commerce & direct-to-consumer\"],[\"Thumbtack\",\"E-commerce & direct-to-consumer\"],[\"WEMAKEPRICE\",\"E-commerce & direct-to-consumer\"],[\"AppDirect\",\"E-commerce & direct-to-consumer\"],[\"Womai\",\"E-commerce & direct-to-consumer\"],[\"Chehaoduo\",\"E-commerce & direct-to-consumer\"],[\"Xiaohongshu\",\"E-commerce & direct-to-consumer\"],[\"Juanpi\",\"E-commerce & direct-to-consumer\"],[\"Lianjia\",\"E-commerce & direct-to-consumer\"],[\"Mofang Living\",\"E-commerce & direct-to-consumer\"],[\"HuiMin\",\"E-commerce & direct-to-consumer\"],[\"Zhuan Zhuan\",\"E-commerce & direct-to-consumer\"],[\"Zhaogang\",\"E-commerce & direct-to-consumer\"],[\"DianRong\",\"E-commerce & direct-to-consumer\"],[\"SouChe Holdings\",\"E-commerce & direct-to-consumer\"],[\"Huitongda\",\"E-commerce & direct-to-consumer\"],[\"Ziroom\",\"E-commerce & direct-to-consumer\"],[\"JOLLY Information Technology\",\"E-commerce & direct-to-consumer\"],[\"SHEIN\",\"E-commerce & direct-to-consumer\"],[\"Allbirds\",\"E-commerce & direct-to-consumer\"],[\"Hosjoy\",\"E-commerce & direct-to-consumer\"],[\"eDaili\",\"E-commerce & direct-to-consumer\"],[\"Carzone\",\"E-commerce & direct-to-consumer\"],[\"Yipin Shengxian\",\"E-commerce & direct-to-consumer\"],[\"Away\",\"E-commerce & direct-to-consumer\"],[\"Miaoshou Doctor\",\"E-commerce & direct-to-consumer\"],[\"StockX\",\"E-commerce & direct-to-consumer\"],[\"Grove Collaborative\",\"E-commerce & direct-to-consumer\"],[\"QuintoAndar\",\"E-commerce & direct-to-consumer\"],[\"KK Group\",\"E-commerce & direct-to-consumer\"],[\"MUSINSA\",\"E-commerce & direct-to-consumer\"],[\"Vinted\",\"E-commerce & direct-to-consumer\"],[\"Lenskart\",\"E-commerce & direct-to-consumer\"],[\"Loft\",\"E-commerce & direct-to-consumer\"],[\"FirstCry\",\"E-commerce & direct-to-consumer\"],[\"Hotmart\",\"E-commerce & direct-to-consumer\"],[\"Newlink Group\",\"E-commerce & direct-to-consumer\"],[\"Xingsheng Selected\",\"E-commerce & direct-to-consumer\"],[\"Gymshark\",\"E-commerce & direct-to-consumer\"],[\"GOAT\",\"E-commerce & direct-to-consumer\"],[\"Mirakl\",\"E-commerce & direct-to-consumer\"],[\"Xingyun Group\",\"E-commerce & direct-to-consumer\"],[\"Zwift\",\"E-commerce & direct-to-consumer\"],[\"Kavak\",\"E-commerce & direct-to-consumer\"],[\"Whoop\",\"E-commerce & direct-to-consumer\"],[\"goPuff\",\"E-commerce & direct-to-consumer\"],[\"Cars24\",\"E-commerce & direct-to-consumer\"],[\"Pharmapacks\",\"E-commerce & direct-to-consumer\"],[\"Everly Health\",\"E-commerce & direct-to-consumer\"],[\"MadeiraMadeira\",\"E-commerce & direct-to-consumer\"],[\"Infra.Market\",\"E-commerce & direct-to-consumer\"],[\"Dutchie\",\"E-commerce & direct-to-consumer\"],[\"Fetch Rewards\",\"E-commerce & direct-to-consumer\"],[\"Getir\",\"E-commerce & direct-to-consumer\"],[\"Gorillas\",\"E-commerce & direct-to-consumer\"],[\"Savage X Fenty\",\"E-commerce & direct-to-consumer\"],[\"Tonal\",\"E-commerce & direct-to-consumer\"],[\"Vestiaire Collective\",\"E-commerce & direct-to-consumer\"],[\"Misfits Market\",\"E-commerce & direct-to-consumer\"],[\"Skims\",\"E-commerce & direct-to-consumer\"],[\"The Zebra\",\"E-commerce & direct-to-consumer\"],[\"Urban Company\",\"E-commerce & direct-to-consumer\"],[\"Back Market\",\"E-commerce & direct-to-consumer\"],[\"Moglix\",\"E-commerce & direct-to-consumer\"],[\"Carro\",\"E-commerce & direct-to-consumer\"],[\"Oda\",\"E-commerce & direct-to-consumer\"],[\"SSENSE\",\"E-commerce & direct-to-consumer\"],[\"Carsome\",\"E-commerce & direct-to-consumer\"],[\"ManoMano\",\"E-commerce & direct-to-consumer\"],[\"OfBusiness\",\"E-commerce & direct-to-consumer\"],[\"OpenSea\",\"E-commerce & direct-to-consumer\"],[\"Gelato\",\"E-commerce & direct-to-consumer\"],[\"Nuvemshop\",\"E-commerce & direct-to-consumer\"],[\"Berlin Brands Group\",\"E-commerce & direct-to-consumer\"],[\"Carousell\",\"E-commerce & direct-to-consumer\"],[\"Cider\",\"E-commerce & direct-to-consumer\"],[\"GrubMarket\",\"E-commerce & direct-to-consumer\"],[\"Sorare\",\"E-commerce & direct-to-consumer\"],[\"Whatnot\",\"E-commerce & direct-to-consumer\"],[\"CarDekho\",\"E-commerce & direct-to-consumer\"],[\"Licious\",\"E-commerce & direct-to-consumer\"],[\"Rebel Foods\",\"E-commerce & direct-to-consumer\"],[\"Vuori\",\"E-commerce & direct-to-consumer\"],[\"Daily Harvest\",\"E-commerce & direct-to-consumer\"],[\"Heyday\",\"E-commerce & direct-to-consumer\"],[\"Motorway\",\"E-commerce & direct-to-consumer\"],[\"MyGlamm\",\"E-commerce & direct-to-consumer\"],[\"Spinny\",\"E-commerce & direct-to-consumer\"],[\"Flink\",\"E-commerce & direct-to-consumer\"],[\"Jokr\",\"E-commerce & direct-to-consumer\"],[\"Pet Circle\",\"E-commerce & direct-to-consumer\"]],\"hovertemplate\":\"Industry=%{customdata[1]}<br>Date Joined=%{x}<br>Valuation ($B)=%{y}<br>Company=%{customdata[0]}<extra></extra>\",\"legendgroup\":\"E-commerce & direct-to-consumer\",\"marker\":{\"color\":\"#636efa\",\"pattern\":{\"shape\":\"\"}},\"name\":\"E-commerce & direct-to-consumer\",\"offsetgroup\":\"E-commerce & direct-to-consumer\",\"orientation\":\"v\",\"showlegend\":true,\"textposition\":\"auto\",\"x\":[\"2007-07-31\",\"2010-12-31\",\"2012-06-30\",\"2014-05-31\",\"2014-08-31\",\"2014-09-30\",\"2014-10-31\",\"2015-01-31\",\"2015-03-31\",\"2015-03-31\",\"2015-07-31\",\"2015-09-30\",\"2015-09-30\",\"2015-09-30\",\"2015-10-31\",\"2015-10-31\",\"2016-03-31\",\"2016-03-31\",\"2016-04-30\",\"2016-04-30\",\"2016-04-30\",\"2016-09-30\",\"2017-04-30\",\"2017-06-30\",\"2017-08-31\",\"2017-11-30\",\"2017-12-31\",\"2018-01-31\",\"2018-05-31\",\"2018-07-31\",\"2018-10-31\",\"2018-10-31\",\"2019-02-28\",\"2019-03-31\",\"2019-03-31\",\"2019-05-31\",\"2019-06-30\",\"2019-06-30\",\"2019-09-30\",\"2019-09-30\",\"2019-10-31\",\"2019-11-30\",\"2019-11-30\",\"2019-12-31\",\"2020-01-31\",\"2020-02-29\",\"2020-03-31\",\"2020-07-31\",\"2020-07-31\",\"2020-08-31\",\"2020-09-30\",\"2020-09-30\",\"2020-09-30\",\"2020-09-30\",\"2020-10-31\",\"2020-10-31\",\"2020-10-31\",\"2020-11-30\",\"2020-11-30\",\"2020-12-31\",\"2021-01-31\",\"2021-02-28\",\"2021-03-31\",\"2021-03-31\",\"2021-03-31\",\"2021-03-31\",\"2021-03-31\",\"2021-03-31\",\"2021-03-31\",\"2021-04-30\",\"2021-04-30\",\"2021-04-30\",\"2021-04-30\",\"2021-05-31\",\"2021-05-31\",\"2021-06-30\",\"2021-06-30\",\"2021-06-30\",\"2021-07-31\",\"2021-07-31\",\"2021-07-31\",\"2021-07-31\",\"2021-08-31\",\"2021-08-31\",\"2021-09-30\",\"2021-09-30\",\"2021-09-30\",\"2021-09-30\",\"2021-09-30\",\"2021-09-30\",\"2021-10-31\",\"2021-10-31\",\"2021-10-31\",\"2021-10-31\",\"2021-11-30\",\"2021-11-30\",\"2021-11-30\",\"2021-11-30\",\"2021-11-30\",\"2021-12-31\",\"2021-12-31\",\"2021-12-31\"],\"xaxis\":\"x\",\"y\":[1.38,3.0,18.0,1.0,1.0,4.0,1.4,1.0,1.0,2.0,1.05,1.0,3.2,2.34,1.1,1.0,9.0,20.0,1.1,5.77,1.5,2.0,1.0,1.0,1.0,3.0,3.18,6.6,1.5,15.0,1.7,1.0,1.9,1.52,1.49,1.4,4.25,3.8,1.32,5.1,3.0,2.2,4.53,2.5,2.9,2.1,1.0,1.0,8.0,1.45,3.7,3.5,2.0,1.0,8.7,3.6,15.0,1.84,1.1,1.3,1.0,2.5,3.75,1.0,7.5,3.1,1.2,1.6,1.7,2.0,1.6,1.0,2.1,3.2,1.0,1.0,1.2,4.15,1.3,2.6,3.0,1.5,1.0,3.1,1.0,1.1,1.0,1.2,4.3,1.5,1.2,1.0,1.4,4.0,1.1,1.0,1.33,1.2,1.75,2.7,1.2,1.0],\"yaxis\":\"y\",\"type\":\"bar\"},{\"alignmentgroup\":\"True\",\"customdata\":[[\"Vice Media\",\"Internet software & services\"],[\"Automattic\",\"Internet software & services\"],[\"Zhubajie\",\"Internet software & services\"],[\"Flipboard\",\"Internet software & services\"],[\"Vox Media\",\"Internet software & services\"],[\"58 Daojia\",\"Internet software & services\"],[\"SMS Assist\",\"Internet software & services\"],[\"Quora\",\"Internet software & services\"],[\"reddit\",\"Internet software & services\"],[\"InVision\",\"Internet software & services\"],[\"Kuaikan Manhua\",\"Internet software & services\"],[\"Canva\",\"Internet software & services\"],[\"Intercom\",\"Internet software & services\"],[\"Discord\",\"Internet software & services\"],[\"WTOIP\",\"Internet software & services\"],[\"Xinchao Media\",\"Internet software & services\"],[\"ThoughtSpot\",\"Internet software & services\"],[\"OutSystems\",\"Internet software & services\"],[\"MediaMath\",\"Internet software & services\"],[\"Deezer\",\"Internet software & services\"],[\"Nxin\",\"Internet software & services\"],[\"Talkdesk\",\"Internet software & services\"],[\"Airtable\",\"Internet software & services\"],[\"HashiCorp\",\"Internet software & services\"],[\"ServiceTitan\",\"Internet software & services\"],[\"Seismic\",\"Internet software & services\"],[\"Dream11\",\"Internet software & services\"],[\"Outreach\",\"Internet software & services\"],[\"VTS\",\"Internet software & services\"],[\"Gympass\",\"Internet software & services\"],[\"Ouyeel\",\"Internet software & services\"],[\"OneTrust\",\"Internet software & services\"],[\"Checkr\",\"Internet software & services\"],[\"Workrise\",\"Internet software & services\"],[\"Grammarly\",\"Internet software & services\"],[\"Kujiale\",\"Internet software & services\"],[\"Pendo\",\"Internet software & services\"],[\"Guild Education\",\"Internet software & services\"],[\"Dataiku\",\"Internet software & services\"],[\"Justworks\",\"Internet software & services\"],[\"Figma\",\"Internet software & services\"],[\"Notion Labs\",\"Internet software & services\"],[\"Podium\",\"Internet software & services\"],[\"Postman\",\"Internet software & services\"],[\"Workhuman\",\"Internet software & services\"],[\"Rippling\",\"Internet software & services\"],[\"Patreon\",\"Internet software & services\"],[\"Dialpad\",\"Internet software & services\"],[\"Eightfold.ai\",\"Internet software & services\"],[\"Tekion\",\"Internet software & services\"],[\"Hopin\",\"Internet software & services\"],[\"Klaviyo\",\"Internet software & services\"],[\"Strava\",\"Internet software & services\"],[\"ClickUp\",\"Internet software & services\"],[\"DailyHunt\",\"Internet software & services\"],[\"Kong\",\"Internet software & services\"],[\"Olive\",\"Internet software & services\"],[\"Zenoti\",\"Internet software & services\"],[\"Calendly\",\"Internet software & services\"],[\"DriveNets\",\"Internet software & services\"],[\"News Break\",\"Internet software & services\"],[\"Personio\",\"Internet software & services\"],[\"PointClickCare\",\"Internet software & services\"],[\"SalesLoft\",\"Internet software & services\"],[\"Splashtop\",\"Internet software & services\"],[\"Webflow\",\"Internet software & services\"],[\"Workato\",\"Internet software & services\"],[\"Zapier\",\"Internet software & services\"],[\"BetterUp\",\"Internet software & services\"],[\"Highspot\",\"Internet software & services\"],[\"Newsela\",\"Internet software & services\"],[\"Plume\",\"Internet software & services\"],[\"Tealium\",\"Internet software & services\"],[\"Cameo\",\"Internet software & services\"],[\"Clari\",\"Internet software & services\"],[\"Epidemic Sound\",\"Internet software & services\"],[\"Lattice\",\"Internet software & services\"],[\"Papaya Global\",\"Internet software & services\"],[\"PatSnap\",\"Internet software & services\"],[\"Rec Room\",\"Internet software & services\"],[\"Relativity\",\"Internet software & services\"],[\"Side\",\"Internet software & services\"],[\"Yotpo\",\"Internet software & services\"],[\"ActiveCampaign\",\"Internet software & services\"],[\"Benchling\",\"Internet software & services\"],[\"Clio\",\"Internet software & services\"],[\"GupShup\",\"Internet software & services\"],[\"Meesho\",\"Internet software & services\"],[\"Mux\",\"Internet software & services\"],[\"Phenom People\",\"Internet software & services\"],[\"ShareChat\",\"Internet software & services\"],[\"Beisen\",\"Internet software & services\"],[\"CircleCI\",\"Internet software & services\"],[\"ContentSquare\",\"Internet software & services\"],[\"Handshake\",\"Internet software & services\"],[\"HoneyBook\",\"Internet software & services\"],[\"Kajabi\",\"Internet software & services\"],[\"Loom\",\"Internet software & services\"],[\"SafetyCulture\",\"Internet software & services\"],[\"Aircall\",\"Internet software & services\"],[\"Alation\",\"Internet software & services\"],[\"BrowserStack\",\"Internet software & services\"],[\"G2\",\"Internet software & services\"],[\"IRL\",\"Internet software & services\"],[\"Iterable\",\"Internet software & services\"],[\"Lucid Software\",\"Internet software & services\"],[\"Morning Consult\",\"Internet software & services\"],[\"Qingting FM\",\"Internet software & services\"],[\"Vercel\",\"Internet software & services\"],[\"Visier\",\"Internet software & services\"],[\"XForcePlus\",\"Internet software & services\"],[\"Algolia\",\"Internet software & services\"],[\"Coda\",\"Internet software & services\"],[\"Contentful\",\"Internet software & services\"],[\"Culture Amp\",\"Internet software & services\"],[\"GO1\",\"Internet software & services\"],[\"Impact\",\"Internet software & services\"],[\"LaunchDarkly\",\"Internet software & services\"],[\"MURAL\",\"Internet software & services\"],[\"Odoo\",\"Internet software & services\"],[\"Pantheon Systems\",\"Internet software & services\"],[\"SmartRecruiters\",\"Internet software & services\"],[\"Sourcegraph\",\"Internet software & services\"],[\"DistroKid\",\"Internet software & services\"],[\"FullStory\",\"Internet software & services\"],[\"Grafana Labs\",\"Internet software & services\"],[\"MindTickle\",\"Internet software & services\"],[\"Offchain Labs\",\"Internet software & services\"],[\"People.ai\",\"Internet software & services\"],[\"Zetwerk\",\"Internet software & services\"],[\"1047 Games\",\"Internet software & services\"],[\"Andela\",\"Internet software & services\"],[\"Assembly\",\"Internet software & services\"],[\"Aviatrix\",\"Internet software & services\"],[\"Built\",\"Internet software & services\"],[\"Commure\",\"Internet software & services\"],[\"Gem\",\"Internet software & services\"],[\"Mobile Premier League\",\"Internet software & services\"],[\"Nextiva\",\"Internet software & services\"],[\"PandaDoc\",\"Internet software & services\"],[\"apna\",\"Internet software & services\"],[\"Aiven\",\"Internet software & services\"],[\"Enpal\",\"Internet software & services\"],[\"GoodLeap\",\"Internet software & services\"],[\"Hibob\",\"Internet software & services\"],[\"Honor Technology\",\"Internet software & services\"],[\"Karat\",\"Internet software & services\"],[\"Medable\",\"Internet software & services\"],[\"Pattern\",\"Internet software & services\"],[\"Sky Mavis\",\"Internet software & services\"],[\"Solo.io\",\"Internet software & services\"],[\"VideoAmp\",\"Internet software & services\"],[\"Everlaw\",\"Internet software & services\"],[\"LTK\",\"Internet software & services\"],[\"Lessen\",\"Internet software & services\"],[\"Lusha\",\"Internet software & services\"],[\"Mixpanel\",\"Internet software & services\"],[\"Moka\",\"Internet software & services\"],[\"Mythical Games\",\"Internet software & services\"],[\"Netlify\",\"Internet software & services\"],[\"NoBroker\",\"Internet software & services\"],[\"OpenWeb\",\"Internet software & services\"],[\"PLACE\",\"Internet software & services\"],[\"Tezign\",\"Internet software & services\"],[\"Vagaro\",\"Internet software & services\"],[\"Jobandtalent\",\"Internet software & services\"],[\"YipitData\",\"Internet software & services\"]],\"hovertemplate\":\"Industry=%{customdata[1]}<br>Date Joined=%{x}<br>Valuation ($B)=%{y}<br>Company=%{customdata[0]}<extra></extra>\",\"legendgroup\":\"Internet software & services\",\"marker\":{\"color\":\"#EF553B\",\"pattern\":{\"shape\":\"\"}},\"name\":\"Internet software & services\",\"offsetgroup\":\"Internet software & services\",\"orientation\":\"v\",\"showlegend\":true,\"textposition\":\"auto\",\"x\":[\"2011-04-30\",\"2013-05-31\",\"2015-06-30\",\"2015-07-31\",\"2015-08-31\",\"2015-10-31\",\"2016-06-30\",\"2017-04-30\",\"2017-07-31\",\"2017-11-30\",\"2017-12-31\",\"2018-01-31\",\"2018-03-31\",\"2018-04-30\",\"2018-04-30\",\"2018-04-30\",\"2018-05-31\",\"2018-06-30\",\"2018-07-31\",\"2018-08-31\",\"2018-09-30\",\"2018-10-31\",\"2018-11-30\",\"2018-11-30\",\"2018-11-30\",\"2018-12-31\",\"2019-04-30\",\"2019-04-30\",\"2019-05-31\",\"2019-06-30\",\"2019-06-30\",\"2019-07-31\",\"2019-09-30\",\"2019-09-30\",\"2019-10-31\",\"2019-10-31\",\"2019-10-31\",\"2019-11-30\",\"2019-12-31\",\"2020-01-31\",\"2020-04-30\",\"2020-04-30\",\"2020-04-30\",\"2020-06-30\",\"2020-06-30\",\"2020-08-31\",\"2020-09-30\",\"2020-10-31\",\"2020-10-31\",\"2020-10-31\",\"2020-11-30\",\"2020-11-30\",\"2020-11-30\",\"2020-12-31\",\"2020-12-31\",\"2020-12-31\",\"2020-12-31\",\"2020-12-31\",\"2021-01-31\",\"2021-01-31\",\"2021-01-31\",\"2021-01-31\",\"2021-01-31\",\"2021-01-31\",\"2021-01-31\",\"2021-01-31\",\"2021-01-31\",\"2021-01-31\",\"2021-02-28\",\"2021-02-28\",\"2021-02-28\",\"2021-02-28\",\"2021-02-28\",\"2021-03-31\",\"2021-03-31\",\"2021-03-31\",\"2021-03-31\",\"2021-03-31\",\"2021-03-31\",\"2021-03-31\",\"2021-03-31\",\"2021-03-31\",\"2021-03-31\",\"2021-04-30\",\"2021-04-30\",\"2021-04-30\",\"2021-04-30\",\"2021-04-30\",\"2021-04-30\",\"2021-04-30\",\"2021-04-30\",\"2021-05-31\",\"2021-05-31\",\"2021-05-31\",\"2021-05-31\",\"2021-05-31\",\"2021-05-31\",\"2021-05-31\",\"2021-05-31\",\"2021-06-30\",\"2021-06-30\",\"2021-06-30\",\"2021-06-30\",\"2021-06-30\",\"2021-06-30\",\"2021-06-30\",\"2021-06-30\",\"2021-06-30\",\"2021-06-30\",\"2021-06-30\",\"2021-06-30\",\"2021-07-31\",\"2021-07-31\",\"2021-07-31\",\"2021-07-31\",\"2021-07-31\",\"2021-07-31\",\"2021-07-31\",\"2021-07-31\",\"2021-07-31\",\"2021-07-31\",\"2021-07-31\",\"2021-07-31\",\"2021-08-31\",\"2021-08-31\",\"2021-08-31\",\"2021-08-31\",\"2021-08-31\",\"2021-08-31\",\"2021-08-31\",\"2021-09-30\",\"2021-09-30\",\"2021-09-30\",\"2021-09-30\",\"2021-09-30\",\"2021-09-30\",\"2021-09-30\",\"2021-09-30\",\"2021-09-30\",\"2021-09-30\",\"2021-09-30\",\"2021-10-31\",\"2021-10-31\",\"2021-10-31\",\"2021-10-31\",\"2021-10-31\",\"2021-10-31\",\"2021-10-31\",\"2021-10-31\",\"2021-10-31\",\"2021-10-31\",\"2021-10-31\",\"2021-11-30\",\"2021-11-30\",\"2021-11-30\",\"2021-11-30\",\"2021-11-30\",\"2021-11-30\",\"2021-11-30\",\"2021-11-30\",\"2021-11-30\",\"2021-11-30\",\"2021-11-30\",\"2021-11-30\",\"2021-11-30\",\"2021-12-31\",\"2021-12-31\"],\"xaxis\":\"x\",\"y\":[5.7,1.8,1.61,1.32,1.0,1.0,1.0,2.0,10.0,1.9,1.25,40.0,1.28,7.0,1.27,2.0,4.2,9.5,1.0,1.4,1.08,10.0,5.77,5.1,9.5,3.0,8.0,4.4,1.0,2.2,1.45,5.1,4.6,2.9,13.0,2.0,2.6,3.75,4.6,1.43,10.0,10.0,3.0,5.6,1.2,6.5,4.0,1.2,2.1,3.5,7.75,9.2,1.5,4.0,1.0,1.4,4.0,1.5,3.0,1.0,1.0,6.3,4.0,1.1,1.0,2.1,5.7,4.0,4.7,2.3,1.0,2.6,1.2,1.0,1.6,1.4,1.0,3.7,1.0,1.25,3.6,2.5,1.4,3.0,6.1,1.6,1.4,4.9,1.0,1.4,3.0,2.0,1.7,2.8,1.5,1.1,2.0,1.53,1.6,1.0,1.2,4.0,1.1,1.17,2.0,3.0,1.0,1.1,2.5,1.0,1.0,2.25,1.4,3.0,1.5,1.0,1.5,3.0,2.0,2.3,1.0,1.5,2.62,1.3,1.8,3.0,1.2,1.2,1.1,1.33,1.5,1.5,1.0,2.0,1.5,3.5,1.2,2.45,2.7,1.0,1.1,2.0,1.1,12.0,1.65,1.25,1.1,2.1,2.25,3.0,1.0,1.4,2.0,2.0,1.0,1.5,1.05,1.0,1.25,2.0,1.0,1.0,1.0,1.0,1.0,2.35,1.0],\"yaxis\":\"y\",\"type\":\"bar\"},{\"alignmentgroup\":\"True\",\"customdata\":[[\"Klarna\",\"Fintech\"],[\"Stripe\",\"Fintech\"],[\"JimuBox\",\"Fintech\"],[\"Zenefits\",\"Fintech\"],[\"Gusto\",\"Fintech\"],[\"Cgtz\",\"Fintech\"],[\"Symphony\",\"Fintech\"],[\"OakNorth\",\"Fintech\"],[\"BGL Group\",\"Fintech\"],[\"Radius Payment Solutions\",\"Fintech\"],[\"WeLab\",\"Fintech\"],[\"Upgrade\",\"Fintech\"],[\"Nubank\",\"Fintech\"],[\"Revolut\",\"Fintech\"],[\"Circle\",\"Fintech\"],[\"Tradeshift\",\"Fintech\"],[\"Greensill\",\"Fintech\"],[\"Brex\",\"Fintech\"],[\"Monzo\",\"Fintech\"],[\"Tresata\",\"Fintech\"],[\"Plaid Technologies\",\"Fintech\"],[\"Toss\",\"Fintech\"],[\"N26\",\"Fintech\"],[\"Airwallex\",\"Fintech\"],[\"Baiwang\",\"Fintech\"],[\"Chime\",\"Fintech\"],[\"Ovo\",\"Fintech\"],[\"wefox\",\"Fintech\"],[\"Liquid\",\"Fintech\"],[\"Carta\",\"Fintech\"],[\"Checkout.com\",\"Fintech\"],[\"Ivalua\",\"Fintech\"],[\"PolicyBazaar\",\"Fintech\"],[\"Collective Health\",\"Fintech\"],[\"Kraken\",\"Fintech\"],[\"SumUp\",\"Fintech\"],[\"C2FO\",\"Fintech\"],[\"Ibotta\",\"Fintech\"],[\"Numbrs\",\"Fintech\"],[\"Dave\",\"Fintech\"],[\"EBANX\",\"Fintech\"],[\"Next Insurance\",\"Fintech\"],[\"Rapyd\",\"Fintech\"],[\"Ripple\",\"Fintech\"],[\"TELD\",\"Fintech\"],[\"HighRadius\",\"Fintech\"],[\"Pine Labs\",\"Fintech\"],[\"Pagaya\",\"Fintech\"],[\"National Stock Exchange of India\",\"Fintech\"],[\"Trumid\",\"Fintech\"],[\"Greenlight\",\"Fintech\"],[\"Mollie\",\"Fintech\"],[\"Razorpay\",\"Fintech\"],[\"Tipalti\",\"Fintech\"],[\"Unqork\",\"Fintech\"],[\"Better.com\",\"Fintech\"],[\"Chainalysis\",\"Fintech\"],[\"C6 Bank\",\"Fintech\"],[\"Creditas\",\"Fintech\"],[\"Qualia\",\"Fintech\"],[\"Digit Insurance\",\"Fintech\"],[\"MX Technologies\",\"Fintech\"],[\"Mambu\",\"Fintech\"],[\"Melio\",\"Fintech\"],[\"PPRO\",\"Fintech\"],[\"Sidecar Health\",\"Fintech\"],[\"Blockchain.com\",\"Fintech\"],[\"Earnix\",\"Fintech\"],[\"Public\",\"Fintech\"],[\"Stash\",\"Fintech\"],[\"WeBull\",\"Fintech\"],[\"BitPanda\",\"Fintech\"],[\"BlockFi\",\"Fintech\"],[\"Cedar\",\"Fintech\"],[\"Dapper Labs\",\"Fintech\"],[\"Flutterwave\",\"Fintech\"],[\"Pacaso\",\"Fintech\"],[\"Pilot.com\",\"Fintech\"],[\"Ramp Financial\",\"Fintech\"],[\"Starling Bank\",\"Fintech\"],[\"Zego\",\"Fintech\"],[\"Alan\",\"Fintech\"],[\"CRED\",\"Fintech\"],[\"ChargeBee Technologies\",\"Fintech\"],[\"Clearco\",\"Fintech\"],[\"Clearcover\",\"Fintech\"],[\"Current\",\"Fintech\"],[\"Deel\",\"Fintech\"],[\"Groww\",\"Fintech\"],[\"Hyperchain\",\"Fintech\"],[\"Injective Protocol\",\"Fintech\"],[\"Paxos\",\"Fintech\"],[\"SaltPay\",\"Fintech\"],[\"Signifyd\",\"Fintech\"],[\"Amount\",\"Fintech\"],[\"Bitso\",\"Fintech\"],[\"DailyPay\",\"Fintech\"],[\"Ethos Technologies\",\"Fintech\"],[\"Extend\",\"Fintech\"],[\"Forte Labs\",\"Fintech\"],[\"Huisuanzhang\",\"Fintech\"],[\"Pipe\",\"Fintech\"],[\"ReCharge\",\"Fintech\"],[\"Snapdocs\",\"Fintech\"],[\"SpotOn\",\"Fintech\"],[\"Sunbit\",\"Fintech\"],[\"Trade Republic\",\"Fintech\"],[\"Vise\",\"Fintech\"],[\"Zeta\",\"Fintech\"],[\"Addepar\",\"Fintech\"],[\"Amber Group\",\"Fintech\"],[\"Bought By Many\",\"Fintech\"],[\"Bunq\",\"Fintech\"],[\"Chipper Cash\",\"Fintech\"],[\"Clip\",\"Fintech\"],[\"Guideline\",\"Fintech\"],[\"Matrixport\",\"Fintech\"],[\"Scalable Capital\",\"Fintech\"],[\"SmartAsset\",\"Fintech\"],[\"SmartHR\",\"Fintech\"],[\"At-Bay\",\"Fintech\"],[\"BharatPe\",\"Fintech\"],[\"Carson Group\",\"Fintech\"],[\"Dunamu\",\"Fintech\"],[\"FTX\",\"Fintech\"],[\"Fireblocks\",\"Fintech\"],[\"FloQast\",\"Fintech\"],[\"Interos\",\"Fintech\"],[\"Lunar\",\"Fintech\"],[\"M1 Finance\",\"Fintech\"],[\"Mercury\",\"Fintech\"],[\"MobileCoin\",\"Fintech\"],[\"NIUM\",\"Fintech\"],[\"Pleo\",\"Fintech\"],[\"Remote\",\"Fintech\"],[\"Xiaobing\",\"Fintech\"],[\"bolttech\",\"Fintech\"],[\"iCapital Network\",\"Fintech\"],[\"solarisBank\",\"Fintech\"],[\"Blockstream\",\"Fintech\"],[\"CoinDCX\",\"Fintech\"],[\"Divvy Homes\",\"Fintech\"],[\"DriveWealth\",\"Fintech\"],[\"FalconX\",\"Fintech\"],[\"Freshbooks\",\"Fintech\"],[\"Human Interest\",\"Fintech\"],[\"Opay\",\"Fintech\"],[\"TaxBit\",\"Fintech\"],[\"Uala\",\"Fintech\"],[\"ZEPZ\",\"Fintech\"],[\"1\",\"Fintech\"],[\"Alloy\",\"Fintech\"],[\"Ascend Money\",\"Fintech\"],[\"Betterment\",\"Fintech\"],[\"BlockDaemon\",\"Fintech\"],[\"CFGI\",\"Fintech\"],[\"HomeLight\",\"Fintech\"],[\"Konfio\",\"Fintech\"],[\"Marshmallow\",\"Fintech\"],[\"Orchard\",\"Fintech\"],[\"TrueLayer\",\"Fintech\"],[\"Varo Bank\",\"Fintech\"],[\"Wave\",\"Fintech\"],[\"Xendit\",\"Fintech\"],[\"Acko General Insurance\",\"Fintech\"],[\"Ajaib\",\"Fintech\"],[\"Alchemy\",\"Fintech\"],[\"Bolt\",\"Fintech\"],[\"Celsius Network\",\"Fintech\"],[\"CoinList\",\"Fintech\"],[\"CoinSwitch Kuber\",\"Fintech\"],[\"Masterworks\",\"Fintech\"],[\"Modern Treasury\",\"Fintech\"],[\"Mynt\",\"Fintech\"],[\"Swile\",\"Fintech\"],[\"TradingView\",\"Fintech\"],[\"Zopa\",\"Fintech\"],[\"candy.com\",\"Fintech\"],[\"ConsenSys\",\"Fintech\"],[\"Digital Currency Group\",\"Fintech\"],[\"Fundbox\",\"Fintech\"],[\"Gemini\",\"Fintech\"],[\"MoonPay\",\"Fintech\"],[\"Slice\",\"Fintech\"],[\"The Bank of London\",\"Fintech\"],[\"Thought Machine\",\"Fintech\"],[\"Wrapbook\",\"Fintech\"],[\"ZenBusiness\",\"Fintech\"],[\"Zilch\",\"Fintech\"],[\"AgentSync\",\"Fintech\"],[\"Clara\",\"Fintech\"]],\"hovertemplate\":\"Industry=%{customdata[1]}<br>Date Joined=%{x}<br>Valuation ($B)=%{y}<br>Company=%{customdata[0]}<extra></extra>\",\"legendgroup\":\"Fintech\",\"marker\":{\"color\":\"#00cc96\",\"pattern\":{\"shape\":\"\"}},\"name\":\"Fintech\",\"offsetgroup\":\"Fintech\",\"orientation\":\"v\",\"showlegend\":true,\"textposition\":\"auto\",\"x\":[\"2011-12-31\",\"2014-01-31\",\"2015-04-30\",\"2015-05-31\",\"2015-12-31\",\"2017-02-28\",\"2017-05-31\",\"2017-10-31\",\"2017-11-30\",\"2017-11-30\",\"2017-11-30\",\"2018-02-28\",\"2018-03-31\",\"2018-04-30\",\"2018-05-31\",\"2018-05-31\",\"2018-07-31\",\"2018-10-31\",\"2018-10-31\",\"2018-10-31\",\"2018-12-31\",\"2018-12-31\",\"2019-01-31\",\"2019-03-31\",\"2019-03-31\",\"2019-03-31\",\"2019-03-31\",\"2019-03-31\",\"2019-04-30\",\"2019-05-31\",\"2019-05-31\",\"2019-05-31\",\"2019-05-31\",\"2019-06-30\",\"2019-06-30\",\"2019-07-31\",\"2019-08-31\",\"2019-08-31\",\"2019-08-31\",\"2019-09-30\",\"2019-10-31\",\"2019-10-31\",\"2019-12-31\",\"2019-12-31\",\"2019-12-31\",\"2020-01-31\",\"2020-01-31\",\"2020-06-30\",\"2020-07-31\",\"2020-07-31\",\"2020-09-30\",\"2020-09-30\",\"2020-10-31\",\"2020-10-31\",\"2020-10-31\",\"2020-11-30\",\"2020-11-30\",\"2020-12-31\",\"2020-12-31\",\"2020-12-31\",\"2021-01-31\",\"2021-01-31\",\"2021-01-31\",\"2021-01-31\",\"2021-01-31\",\"2021-01-31\",\"2021-02-28\",\"2021-02-28\",\"2021-02-28\",\"2021-02-28\",\"2021-02-28\",\"2021-03-31\",\"2021-03-31\",\"2021-03-31\",\"2021-03-31\",\"2021-03-31\",\"2021-03-31\",\"2021-03-31\",\"2021-03-31\",\"2021-03-31\",\"2021-03-31\",\"2021-04-30\",\"2021-04-30\",\"2021-04-30\",\"2021-04-30\",\"2021-04-30\",\"2021-04-30\",\"2021-04-30\",\"2021-04-30\",\"2021-04-30\",\"2021-04-30\",\"2021-04-30\",\"2021-04-30\",\"2021-04-30\",\"2021-05-31\",\"2021-05-31\",\"2021-05-31\",\"2021-05-31\",\"2021-05-31\",\"2021-05-31\",\"2021-05-31\",\"2021-05-31\",\"2021-05-31\",\"2021-05-31\",\"2021-05-31\",\"2021-05-31\",\"2021-05-31\",\"2021-05-31\",\"2021-05-31\",\"2021-06-30\",\"2021-06-30\",\"2021-06-30\",\"2021-06-30\",\"2021-06-30\",\"2021-06-30\",\"2021-06-30\",\"2021-06-30\",\"2021-06-30\",\"2021-06-30\",\"2021-06-30\",\"2021-07-31\",\"2021-07-31\",\"2021-07-31\",\"2021-07-31\",\"2021-07-31\",\"2021-07-31\",\"2021-07-31\",\"2021-07-31\",\"2021-07-31\",\"2021-07-31\",\"2021-07-31\",\"2021-07-31\",\"2021-07-31\",\"2021-07-31\",\"2021-07-31\",\"2021-07-31\",\"2021-07-31\",\"2021-07-31\",\"2021-07-31\",\"2021-08-31\",\"2021-08-31\",\"2021-08-31\",\"2021-08-31\",\"2021-08-31\",\"2021-08-31\",\"2021-08-31\",\"2021-08-31\",\"2021-08-31\",\"2021-08-31\",\"2021-08-31\",\"2021-09-30\",\"2021-09-30\",\"2021-09-30\",\"2021-09-30\",\"2021-09-30\",\"2021-09-30\",\"2021-09-30\",\"2021-09-30\",\"2021-09-30\",\"2021-09-30\",\"2021-09-30\",\"2021-09-30\",\"2021-09-30\",\"2021-09-30\",\"2021-10-31\",\"2021-10-31\",\"2021-10-31\",\"2021-10-31\",\"2021-10-31\",\"2021-10-31\",\"2021-10-31\",\"2021-10-31\",\"2021-10-31\",\"2021-10-31\",\"2021-10-31\",\"2021-10-31\",\"2021-10-31\",\"2021-10-31\",\"2021-11-30\",\"2021-11-30\",\"2021-11-30\",\"2021-11-30\",\"2021-11-30\",\"2021-11-30\",\"2021-11-30\",\"2021-11-30\",\"2021-11-30\",\"2021-11-30\",\"2021-11-30\",\"2021-12-31\",\"2021-12-31\"],\"xaxis\":\"x\",\"y\":[45.6,95.0,1.0,4.5,10.0,2.41,1.4,5.0,3.0,1.07,1.0,3.33,30.0,33.0,3.0,2.7,4.0,12.3,4.5,1.0,13.4,7.4,9.23,5.5,1.55,25.0,2.9,1.65,1.0,7.4,15.0,1.1,2.4,1.5,2.92,1.0,1.0,1.0,1.0,1.0,1.0,4.0,8.75,10.0,1.12,3.1,3.0,2.0,6.5,2.4,2.3,6.5,3.0,8.3,2.0,6.0,4.2,5.05,1.75,1.0,3.5,1.9,2.08,4.0,1.0,1.0,5.2,2.0,1.2,1.4,1.0,4.11,3.0,3.2,7.6,1.0,1.5,1.2,3.9,1.95,1.1,1.68,4.01,1.4,2.0,1.0,2.2,5.5,3.0,1.0,1.0,2.4,1.0,1.34,1.0,2.2,1.2,2.7,1.6,1.0,1.28,2.0,2.1,1.5,3.15,1.1,5.3,1.0,1.45,2.17,1.1,2.35,2.0,2.0,2.0,1.15,1.0,1.4,1.0,1.6,1.35,2.85,1.0,1.0,25.0,8.0,1.2,1.0,1.0,1.45,1.6,1.0,1.0,1.7,1.0,1.0,1.0,4.0,1.65,3.2,1.1,2.0,2.85,3.75,1.0,1.0,2.0,1.5,2.45,5.0,2.15,1.35,1.5,1.3,1.23,1.85,1.6,1.3,1.25,1.0,1.0,2.5,1.7,1.0,1.1,1.0,3.5,6.0,3.0,1.5,1.9,1.0,2.0,2.0,1.0,3.0,1.0,1.5,3.2,10.0,1.1,7.1,3.4,1.0,1.1,1.0,1.0,1.7,2.0,1.2,1.0],\"yaxis\":\"y\",\"type\":\"bar\"},{\"alignmentgroup\":\"True\",\"customdata\":[[\"Trendy Group International\",\"Consumer & retail\"],[\"L&P Cosmetic\",\"Consumer & retail\"],[\"Promasidor Holdings\",\"Consumer & retail\"],[\"Kendra Scott\",\"Consumer & retail\"],[\"BrewDog\",\"Consumer & retail\"],[\"Mobvoi\",\"Consumer & retail\"],[\"Eat Just\",\"Consumer & retail\"],[\"JUUL Labs\",\"Consumer & retail\"],[\"Easyhome\",\"Consumer & retail\"],[\"Harry's Razor Company\",\"Consumer & retail\"],[\"Pat McGrath Labs\",\"Consumer & retail\"],[\"Yijiupi\",\"Consumer & retail\"],[\"PAX\",\"Consumer & retail\"],[\"Zume\",\"Consumer & retail\"],[\"Calm\",\"Consumer & retail\"],[\"Glossier\",\"Consumer & retail\"],[\"Impossible Foods\",\"Consumer & retail\"],[\"Yuanqi Senlin\",\"Consumer & retail\"],[\"Guoquan Shihui\",\"Consumer & retail\"],[\"Weilong\",\"Consumer & retail\"],[\"Zihaiguo\",\"Consumer & retail\"],[\"HAYDON\",\"Consumer & retail\"],[\"Razor\",\"Consumer & retail\"]],\"hovertemplate\":\"Industry=%{customdata[1]}<br>Date Joined=%{x}<br>Valuation ($B)=%{y}<br>Company=%{customdata[0]}<extra></extra>\",\"legendgroup\":\"Consumer & retail\",\"marker\":{\"color\":\"#ab63fa\",\"pattern\":{\"shape\":\"\"}},\"name\":\"Consumer & retail\",\"offsetgroup\":\"Consumer & retail\",\"orientation\":\"v\",\"showlegend\":true,\"textposition\":\"auto\",\"x\":[\"2012-02-29\",\"2016-01-31\",\"2016-11-30\",\"2016-12-31\",\"2017-04-30\",\"2017-04-30\",\"2017-11-30\",\"2017-12-31\",\"2018-02-28\",\"2018-02-28\",\"2018-07-31\",\"2018-09-30\",\"2018-10-31\",\"2018-11-30\",\"2019-02-28\",\"2019-03-31\",\"2019-05-31\",\"2020-03-31\",\"2021-03-31\",\"2021-05-31\",\"2021-05-31\",\"2021-09-30\",\"2021-11-30\"],\"xaxis\":\"x\",\"y\":[2.0,1.19,1.59,1.0,1.24,1.0,1.1,12.0,5.78,1.7,1.0,1.5,1.7,2.25,2.0,1.2,4.0,6.0,2.0,10.88,1.0,1.0,1.0],\"yaxis\":\"y\",\"type\":\"bar\"},{\"alignmentgroup\":\"True\",\"customdata\":[[\"Avant\",\"Artificial intelligence\"],[\"BenevolentAI\",\"Artificial intelligence\"],[\"Uptake\",\"Artificial intelligence\"],[\"iCarbonX\",\"Artificial intelligence\"],[\"Afiniti\",\"Artificial intelligence\"],[\"Bytedance\",\"Artificial intelligence\"],[\"SenseTime\",\"Artificial intelligence\"],[\"Indigo Ag\",\"Artificial intelligence\"],[\"MEGVII\",\"Artificial intelligence\"],[\"OrCam Technologies\",\"Artificial intelligence\"],[\"YITU Technology\",\"Artificial intelligence\"],[\"DeepBlue Technology\",\"Artificial intelligence\"],[\"Preferred Networks\",\"Artificial intelligence\"],[\"SoundHound\",\"Artificial intelligence\"],[\"Dataminr\",\"Artificial intelligence\"],[\"Automation Anywhere\",\"Artificial intelligence\"],[\"Pony.ai\",\"Artificial intelligence\"],[\"Unisound\",\"Artificial intelligence\"],[\"Cloudwalk\",\"Artificial intelligence\"],[\"Momenta\",\"Artificial intelligence\"],[\"4Paradigm\",\"Artificial intelligence\"],[\"Graphcore\",\"Artificial intelligence\"],[\"Globality\",\"Artificial intelligence\"],[\"Horizon Robotics\",\"Artificial intelligence\"],[\"Intellifusion\",\"Artificial intelligence\"],[\"Mininglamp Technology\",\"Artificial intelligence\"],[\"Meero\",\"Artificial intelligence\"],[\"Argo AI\",\"Artificial intelligence\"],[\"DataRobot\",\"Artificial intelligence\"],[\"Icertis\",\"Artificial intelligence\"],[\"Lightricks\",\"Artificial intelligence\"],[\"OpenAI\",\"Artificial intelligence\"],[\"Trax\",\"Artificial intelligence\"],[\"Scale AI\",\"Artificial intelligence\"],[\"Anduril\",\"Artificial intelligence\"],[\"Faire\",\"Artificial intelligence\"],[\"o9 Solutions\",\"Artificial intelligence\"],[\"Gong\",\"Artificial intelligence\"],[\"Hesai Tech\",\"Artificial intelligence\"],[\"AInnovation\",\"Artificial intelligence\"],[\"Harness\",\"Artificial intelligence\"],[\"Standard Cognition\",\"Artificial intelligence\"],[\"6Sense\",\"Artificial intelligence\"],[\"Feedzai\",\"Artificial intelligence\"],[\"Aibee\",\"Artificial intelligence\"],[\"Groq\",\"Artificial intelligence\"],[\"Hive\",\"Artificial intelligence\"],[\"MOLOCO\",\"Artificial intelligence\"],[\"Sift\",\"Artificial intelligence\"],[\"Vectra Networks\",\"Artificial intelligence\"],[\"ASAPP\",\"Artificial intelligence\"],[\"Ada Support\",\"Artificial intelligence\"],[\"Shift Technology\",\"Artificial intelligence\"],[\"TensTorrent\",\"Artificial intelligence\"],[\"Hailo\",\"Artificial intelligence\"],[\"Moveworks\",\"Artificial intelligence\"],[\"SmartMore\",\"Artificial intelligence\"],[\"Tractable\",\"Artificial intelligence\"],[\"VerbIT\",\"Artificial intelligence\"],[\"Amperity\",\"Artificial intelligence\"],[\"NotCo\",\"Artificial intelligence\"],[\"Bluecore\",\"Artificial intelligence\"],[\"Shield AI\",\"Artificial intelligence\"],[\"Snorkel AI\",\"Artificial intelligence\"],[\"Unico\",\"Artificial intelligence\"],[\"XtalPi\",\"Artificial intelligence\"],[\"Advance Intelligence Group\",\"Artificial intelligence\"],[\"Black Sesame Technologies\",\"Artificial intelligence\"],[\"Rebellion Defense\",\"Artificial intelligence\"],[\"Augury\",\"Artificial intelligence\"],[\"H2O.ai\",\"Artificial intelligence\"],[\"Owkin\",\"Artificial intelligence\"],[\"Anyscale\",\"Artificial intelligence\"]],\"hovertemplate\":\"Industry=%{customdata[1]}<br>Date Joined=%{x}<br>Valuation ($B)=%{y}<br>Company=%{customdata[0]}<extra></extra>\",\"legendgroup\":\"Artificial intelligence\",\"marker\":{\"color\":\"#FFA15A\",\"pattern\":{\"shape\":\"\"}},\"name\":\"Artificial intelligence\",\"offsetgroup\":\"Artificial intelligence\",\"orientation\":\"v\",\"showlegend\":true,\"textposition\":\"auto\",\"x\":[\"2012-12-31\",\"2015-06-30\",\"2015-10-31\",\"2016-04-30\",\"2017-04-30\",\"2017-04-30\",\"2017-07-31\",\"2017-09-30\",\"2017-10-31\",\"2018-02-28\",\"2018-03-31\",\"2018-04-30\",\"2018-05-31\",\"2018-05-31\",\"2018-06-30\",\"2018-07-31\",\"2018-07-31\",\"2018-07-31\",\"2018-10-31\",\"2018-10-31\",\"2018-12-31\",\"2018-12-31\",\"2019-01-31\",\"2019-02-28\",\"2019-03-31\",\"2019-03-31\",\"2019-06-30\",\"2019-07-31\",\"2019-07-31\",\"2019-07-31\",\"2019-07-31\",\"2019-07-31\",\"2019-07-31\",\"2019-08-31\",\"2019-09-30\",\"2019-10-31\",\"2020-04-30\",\"2020-08-31\",\"2020-08-31\",\"2020-12-31\",\"2021-01-31\",\"2021-02-28\",\"2021-03-31\",\"2021-03-31\",\"2021-04-30\",\"2021-04-30\",\"2021-04-30\",\"2021-04-30\",\"2021-04-30\",\"2021-04-30\",\"2021-05-31\",\"2021-05-31\",\"2021-05-31\",\"2021-05-31\",\"2021-06-30\",\"2021-06-30\",\"2021-06-30\",\"2021-06-30\",\"2021-06-30\",\"2021-07-31\",\"2021-07-31\",\"2021-08-31\",\"2021-08-31\",\"2021-08-31\",\"2021-08-31\",\"2021-08-31\",\"2021-09-30\",\"2021-09-30\",\"2021-09-30\",\"2021-10-31\",\"2021-11-30\",\"2021-11-30\",\"2021-12-31\"],\"xaxis\":\"x\",\"y\":[2.0,1.0,2.3,1.0,1.6,140.0,12.0,3.5,4.0,1.03,2.17,1.35,2.0,2.1,4.1,6.8,5.3,1.19,3.32,1.0,2.0,2.77,1.0,5.0,1.0,1.19,1.0,7.25,6.3,2.8,1.8,2.92,1.3,7.3,4.6,12.4,1.0,7.25,1.05,1.0,1.7,1.0,2.1,1.0,1.2,1.0,2.0,1.5,1.0,1.2,1.6,1.2,1.0,1.0,1.0,2.1,1.2,1.0,2.0,1.0,1.5,1.0,1.0,1.0,1.0,2.0,2.0,2.0,1.15,1.0,1.7,1.0,1.0],\"yaxis\":\"y\",\"type\":\"bar\"},{\"alignmentgroup\":\"True\",\"customdata\":[[\"SpaceX\",\"Other\"],[\"Red Ventures\",\"Other\"],[\"Planet Labs\",\"Other\"],[\"LifeMiles\",\"Other\"],[\"Dadi Cinema\",\"Other\"],[\"OVH\",\"Other\"],[\"Improbable\",\"Other\"],[\"Rubicon Global\",\"Other\"],[\"Vista Global\",\"Other\"],[\"Revolution Precrafted\",\"Other\"],[\"NuCom Group\",\"Other\"],[\"Epic Games\",\"Other\"],[\"GPclub\",\"Other\"],[\"OVO Energy\",\"Other\"],[\"Ynsect\",\"Other\"],[\"OCSiAl\",\"Other\"],[\"Sila Nanotechnologies\",\"Other\"],[\"SITECH DEV\",\"Other\"],[\"Northvolt\",\"Other\"],[\"HEYTEA\",\"Other\"],[\"You & Mr Jones\",\"Other\"],[\"Wildlife Studios\",\"Other\"],[\"Skydance Media\",\"Other\"],[\"Emerging Markets Property Group\",\"Other\"],[\"Apeel Sciences\",\"Other\"],[\"Thrasio\",\"Other\"],[\"Farmers Business Network\",\"Other\"],[\"Voodoo\",\"Other\"],[\"Howden Group Holdings\",\"Other\"],[\"Playco\",\"Other\"],[\"Relativity Space\",\"Other\"],[\"Boom Supersonic\",\"Other\"],[\"Manner\",\"Other\"],[\"Axiom Space\",\"Other\"],[\"Sentry\",\"Other\"],[\"ABL Space Systems\",\"Other\"],[\"Diamond Foundry\",\"Other\"],[\"Five Star Business Finance\",\"Other\"],[\"Uplight\",\"Other\"],[\"Cava Group\",\"Other\"],[\"Wenheyou\",\"Other\"],[\"Black Unicorn Factory\",\"Other\"],[\"Bowery Farming\",\"Other\"],[\"Firefly Aerospace\",\"Other\"],[\"Inari\",\"Other\"],[\"Printful\",\"Other\"],[\"Trader Interactive\",\"Other\"],[\"Redwood Materials\",\"Other\"],[\"Nexii\",\"Other\"],[\"Spiber\",\"Other\"],[\"Mensa Brands\",\"Other\"]],\"hovertemplate\":\"Industry=%{customdata[1]}<br>Date Joined=%{x}<br>Valuation ($B)=%{y}<br>Company=%{customdata[0]}<extra></extra>\",\"legendgroup\":\"Other\",\"marker\":{\"color\":\"#19d3f3\",\"pattern\":{\"shape\":\"\"}},\"name\":\"Other\",\"offsetgroup\":\"Other\",\"orientation\":\"v\",\"showlegend\":true,\"textposition\":\"auto\",\"x\":[\"2012-12-31\",\"2015-01-31\",\"2015-04-30\",\"2015-07-31\",\"2016-05-31\",\"2016-08-31\",\"2017-05-31\",\"2017-08-31\",\"2017-08-31\",\"2017-10-31\",\"2018-02-28\",\"2018-10-31\",\"2018-10-31\",\"2019-02-28\",\"2019-02-28\",\"2019-03-31\",\"2019-04-30\",\"2019-05-31\",\"2019-06-30\",\"2019-07-31\",\"2019-11-30\",\"2019-12-31\",\"2020-02-29\",\"2020-04-30\",\"2020-05-31\",\"2020-07-31\",\"2020-08-31\",\"2020-08-31\",\"2020-09-30\",\"2020-09-30\",\"2020-11-30\",\"2020-12-31\",\"2020-12-31\",\"2021-02-28\",\"2021-02-28\",\"2021-03-31\",\"2021-03-31\",\"2021-03-31\",\"2021-03-31\",\"2021-04-30\",\"2021-04-30\",\"2021-05-31\",\"2021-05-31\",\"2021-05-31\",\"2021-05-31\",\"2021-05-31\",\"2021-05-31\",\"2021-07-31\",\"2021-09-30\",\"2021-09-30\",\"2021-11-30\"],\"xaxis\":\"x\",\"y\":[100.3,1.0,2.2,1.15,3.24,1.1,2.0,1.07,2.5,1.0,2.2,28.7,1.32,1.28,1.0,2.0,3.3,1.0,9.08,9.28,1.3,3.0,2.3,1.0,2.0,10.0,4.0,2.31,5.0,1.0,4.2,1.0,1.3,1.0,1.0,2.4,1.8,1.4,1.5,1.3,1.55,6.1,2.3,1.0,1.2,1.0,1.63,3.7,1.23,1.22,1.0],\"yaxis\":\"y\",\"type\":\"bar\"},{\"alignmentgroup\":\"True\",\"customdata\":[[\"Mu Sigma\",\"Data management & analytics\"],[\"Rubrik\",\"Data management & analytics\"],[\"DT Dream\",\"Data management & analytics\"],[\"Celonis\",\"Data management & analytics\"],[\"Cohesity\",\"Data management & analytics\"],[\"Jusfoun Big Data\",\"Data management & analytics\"],[\"Collibra\",\"Data management & analytics\"],[\"Databricks\",\"Data management & analytics\"],[\"Druva\",\"Data management & analytics\"],[\"Instabase\",\"Data management & analytics\"],[\"Sisense\",\"Data management & analytics\"],[\"VAST Data\",\"Data management & analytics\"],[\"FiveTran\",\"Data management & analytics\"],[\"Qumulo\",\"Data management & analytics\"],[\"Redis Labs\",\"Data management & analytics\"],[\"Applied Intuition\",\"Data management & analytics\"],[\"Cockroach Labs\",\"Data management & analytics\"],[\"Dremio\",\"Data management & analytics\"],[\"OwnBackup\",\"Data management & analytics\"],[\"Quantum Metric\",\"Data management & analytics\"],[\"Starburst\",\"Data management & analytics\"],[\"Nexthink\",\"Data management & analytics\"],[\"SambaNova Systems\",\"Data management & analytics\"],[\"Axtria\",\"Data management & analytics\"],[\"Cognite\",\"Data management & analytics\"],[\"Neo4j\",\"Data management & analytics\"],[\"dbt Labs\",\"Data management & analytics\"],[\"Copado\",\"Data management & analytics\"],[\"JumpCloud\",\"Data management & analytics\"],[\"Matillion\",\"Data management & analytics\"],[\"Chronosphere\",\"Data management & analytics\"],[\"ClickHouse\",\"Data management & analytics\"],[\"Devo\",\"Data management & analytics\"],[\"YugaByte\",\"Data management & analytics\"],[\"Reltio\",\"Data management & analytics\"],[\"Iodine Software\",\"Data management & analytics\"]],\"hovertemplate\":\"Industry=%{customdata[1]}<br>Date Joined=%{x}<br>Valuation ($B)=%{y}<br>Company=%{customdata[0]}<extra></extra>\",\"legendgroup\":\"Data management & analytics\",\"marker\":{\"color\":\"#FF6692\",\"pattern\":{\"shape\":\"\"}},\"name\":\"Data management & analytics\",\"offsetgroup\":\"Data management & analytics\",\"orientation\":\"v\",\"showlegend\":true,\"textposition\":\"auto\",\"x\":[\"2013-02-28\",\"2017-04-30\",\"2017-06-30\",\"2018-06-30\",\"2018-06-30\",\"2018-07-31\",\"2019-01-31\",\"2019-02-28\",\"2019-06-30\",\"2019-10-31\",\"2020-01-31\",\"2020-04-30\",\"2020-06-30\",\"2020-07-31\",\"2020-08-31\",\"2020-10-31\",\"2021-01-31\",\"2021-01-31\",\"2021-01-31\",\"2021-01-31\",\"2021-01-31\",\"2021-02-28\",\"2021-04-30\",\"2021-05-31\",\"2021-05-31\",\"2021-06-30\",\"2021-06-30\",\"2021-09-30\",\"2021-09-30\",\"2021-09-30\",\"2021-10-31\",\"2021-10-31\",\"2021-10-31\",\"2021-10-31\",\"2021-11-30\",\"2021-12-31\"],\"xaxis\":\"x\",\"y\":[1.5,4.0,1.5,11.0,3.7,1.62,5.25,38.0,2.0,1.05,1.1,3.7,5.6,1.2,2.0,3.6,2.16,1.0,3.35,1.0,1.2,1.1,5.0,1.0,1.6,2.15,1.5,1.2,2.62,1.5,1.0,2.0,1.5,1.3,1.7,1.0],\"yaxis\":\"y\",\"type\":\"bar\"},{\"alignmentgroup\":\"True\",\"customdata\":[[\"Lookout\",\"Cybersecurity\"],[\"Tanium\",\"Cybersecurity\"],[\"Illumio\",\"Cybersecurity\"],[\"Netskope\",\"Cybersecurity\"],[\"Kaseya\",\"Cybersecurity\"],[\"Tongdun Technology\",\"Cybersecurity\"],[\"Cybereason\",\"Cybersecurity\"],[\"Acronis\",\"Cybersecurity\"],[\"Snyk\",\"Cybersecurity\"],[\"Verkada\",\"Cybersecurity\"],[\"Arctic Wolf Networks\",\"Cybersecurity\"],[\"Cato Networks\",\"Cybersecurity\"],[\"Forter\",\"Cybersecurity\"],[\"BigID\",\"Cybersecurity\"],[\"Venafi\",\"Cybersecurity\"],[\"Lacework\",\"Cybersecurity\"],[\"Aqua Security\",\"Cybersecurity\"],[\"Axonius\",\"Cybersecurity\"],[\"Coalition\",\"Cybersecurity\"],[\"ID.me\",\"Cybersecurity\"],[\"Orca Security\",\"Cybersecurity\"],[\"Socure\",\"Cybersecurity\"],[\"Wiz\",\"Cybersecurity\"],[\"Sysdig\",\"Cybersecurity\"],[\"Aura\",\"Cybersecurity\"],[\"Claroty\",\"Cybersecurity\"],[\"Exabeam\",\"Cybersecurity\"],[\"Transmit Security\",\"Cybersecurity\"],[\"Trulioo\",\"Cybersecurity\"],[\"1Password\",\"Cybersecurity\"],[\"BitSight Technologies\",\"Cybersecurity\"],[\"Persona\",\"Cybersecurity\"],[\"Dragos\",\"Cybersecurity\"],[\"Contrast Security\",\"Cybersecurity\"],[\"Drata\",\"Cybersecurity\"],[\"Expel\",\"Cybersecurity\"],[\"StarkWare\",\"Cybersecurity\"],[\"Stytch\",\"Cybersecurity\"],[\"Incode Technologies\",\"Cybersecurity\"],[\"Panther Labs\",\"Cybersecurity\"],[\"ReliaQuest\",\"Cybersecurity\"]],\"hovertemplate\":\"Industry=%{customdata[1]}<br>Date Joined=%{x}<br>Valuation ($B)=%{y}<br>Company=%{customdata[0]}<extra></extra>\",\"legendgroup\":\"Cybersecurity\",\"marker\":{\"color\":\"#B6E880\",\"pattern\":{\"shape\":\"\"}},\"name\":\"Cybersecurity\",\"offsetgroup\":\"Cybersecurity\",\"orientation\":\"v\",\"showlegend\":true,\"textposition\":\"auto\",\"x\":[\"2013-10-31\",\"2015-03-31\",\"2015-04-30\",\"2018-11-30\",\"2019-03-31\",\"2019-04-30\",\"2019-08-31\",\"2019-09-30\",\"2020-01-31\",\"2020-01-31\",\"2020-10-31\",\"2020-11-30\",\"2020-11-30\",\"2020-12-31\",\"2020-12-31\",\"2021-01-31\",\"2021-03-31\",\"2021-03-31\",\"2021-03-31\",\"2021-03-31\",\"2021-03-31\",\"2021-03-31\",\"2021-03-31\",\"2021-04-30\",\"2021-06-30\",\"2021-06-30\",\"2021-06-30\",\"2021-06-30\",\"2021-06-30\",\"2021-07-31\",\"2021-09-30\",\"2021-09-30\",\"2021-10-31\",\"2021-11-30\",\"2021-11-30\",\"2021-11-30\",\"2021-11-30\",\"2021-11-30\",\"2021-12-31\",\"2021-12-31\",\"2021-12-31\"],\"xaxis\":\"x\",\"y\":[1.0,9.0,2.75,7.5,2.0,1.32,2.44,2.5,8.6,1.6,4.3,2.5,3.0,1.25,1.15,8.3,1.0,1.2,3.5,1.5,1.8,4.5,6.0,1.19,2.5,1.0,2.4,2.74,1.75,2.0,2.4,1.5,1.7,1.0,1.0,1.0,2.0,1.0,1.25,1.4,1.0],\"yaxis\":\"y\",\"type\":\"bar\"},{\"alignmentgroup\":\"True\",\"customdata\":[[\"TangoMe\",\"Mobile & telecommunications\"],[\"Yello Mobile\",\"Mobile & telecommunications\"],[\"InMobi\",\"Mobile & telecommunications\"],[\"Apus Group\",\"Mobile & telecommunications\"],[\"LinkSure Network\",\"Mobile & telecommunications\"],[\"FXiaoKe\",\"Mobile & telecommunications\"],[\"Yixia\",\"Mobile & telecommunications\"],[\"Meicai\",\"Mobile & telecommunications\"],[\"Cell C\",\"Mobile & telecommunications\"],[\"Ximalaya FM\",\"Mobile & telecommunications\"],[\"Yidian Zixun\",\"Mobile & telecommunications\"],[\"Maimai\",\"Mobile & telecommunications\"],[\"Niantic\",\"Mobile & telecommunications\"],[\"HMD Global\",\"Mobile & telecommunications\"],[\"Movile\",\"Mobile & telecommunications\"],[\"Starry\",\"Mobile & telecommunications\"],[\"Wacai\",\"Mobile & telecommunications\"],[\"Branch\",\"Mobile & telecommunications\"],[\"Cambridge Mobile Telematics\",\"Mobile & telecommunications\"],[\"Poizon\",\"Mobile & telecommunications\"],[\"SmartNews\",\"Mobile & telecommunications\"],[\"Huaqin Telecom Technology\",\"Mobile & telecommunications\"],[\"Scopely\",\"Mobile & telecommunications\"],[\"AppsFlyer\",\"Mobile & telecommunications\"],[\"Moon Active\",\"Mobile & telecommunications\"],[\"HyalRoute\",\"Mobile & telecommunications\"],[\"Keep\",\"Mobile & telecommunications\"],[\"Infobip\",\"Mobile & telecommunications\"],[\"Attentive\",\"Mobile & telecommunications\"],[\"MessageBird\",\"Mobile & telecommunications\"],[\"GalaxySpace\",\"Mobile & telecommunications\"],[\"Clubhouse\",\"Mobile & telecommunications\"],[\"TalkingData\",\"Mobile & telecommunications\"],[\"Astranis Space Technologies\",\"Mobile & telecommunications\"],[\"Sendbird\",\"Mobile & telecommunications\"],[\"Dream Games\",\"Mobile & telecommunications\"],[\"PicsArt\",\"Mobile & telecommunications\"]],\"hovertemplate\":\"Industry=%{customdata[1]}<br>Date Joined=%{x}<br>Valuation ($B)=%{y}<br>Company=%{customdata[0]}<extra></extra>\",\"legendgroup\":\"Mobile & telecommunications\",\"marker\":{\"color\":\"#FF97FF\",\"pattern\":{\"shape\":\"\"}},\"name\":\"Mobile & telecommunications\",\"offsetgroup\":\"Mobile & telecommunications\",\"orientation\":\"v\",\"showlegend\":true,\"textposition\":\"auto\",\"x\":[\"2014-03-31\",\"2014-11-30\",\"2014-12-31\",\"2015-01-31\",\"2015-01-31\",\"2015-07-31\",\"2015-11-30\",\"2016-06-30\",\"2017-08-31\",\"2017-09-30\",\"2017-10-31\",\"2017-11-30\",\"2017-11-30\",\"2018-05-31\",\"2018-07-31\",\"2018-07-31\",\"2018-07-31\",\"2018-09-30\",\"2018-12-31\",\"2019-04-30\",\"2019-08-31\",\"2019-10-31\",\"2019-10-31\",\"2020-01-31\",\"2020-01-31\",\"2020-05-31\",\"2020-05-31\",\"2020-07-31\",\"2020-09-30\",\"2020-10-31\",\"2020-11-30\",\"2021-01-31\",\"2021-01-31\",\"2021-04-30\",\"2021-04-30\",\"2021-06-30\",\"2021-08-31\"],\"xaxis\":\"x\",\"y\":[1.1,4.0,1.0,1.73,1.0,1.0,3.0,2.8,1.0,1.52,1.4,1.0,9.0,1.0,1.0,1.29,1.0,1.0,1.5,1.0,2.0,2.19,3.3,2.0,5.0,3.5,2.0,1.0,5.99,3.8,1.22,4.0,1.3,1.4,1.05,1.0,1.0],\"yaxis\":\"y\",\"type\":\"bar\"},{\"alignmentgroup\":\"True\",\"customdata\":[[\"Intarcia Therapeutics\",\"Health\"],[\"ZocDoc\",\"Health\"],[\"We Doctor\",\"Health\"],[\"MindMaze\",\"Health\"],[\"Modernizing Medicine\",\"Health\"],[\"Otto Bock HealthCare\",\"Health\"],[\"United Imaging Healthcare\",\"Health\"],[\"HeartFlow\",\"Health\"],[\"Tempus\",\"Health\"],[\"Dxy.cn\",\"Health\"],[\"LinkDoc Technology\",\"Health\"],[\"Medlinker\",\"Health\"],[\"Biosplice Therapeutics\",\"Health\"],[\"Devoted Health\",\"Health\"],[\"Doctolib\",\"Health\"],[\"Aprogen\",\"Health\"],[\"Radiology Partners\",\"Health\"],[\"CMR Surgical\",\"Health\"],[\"Alto Pharmacy\",\"Health\"],[\"InSightec\",\"Health\"],[\"Komodo Health\",\"Health\"],[\"Orca Bio\",\"Health\"],[\"Ro\",\"Health\"],[\"Lyra Health\",\"Health\"],[\"Alzheon\",\"Health\"],[\"Cityblock Health\",\"Health\"],[\"Virta Health\",\"Health\"],[\"Aledade\",\"Health\"],[\"Color\",\"Health\"],[\"EQRx\",\"Health\"],[\"Hinge Health\",\"Health\"],[\"K Health\",\"Health\"],[\"Innovaccer\",\"Health\"],[\"Modern Health\",\"Health\"],[\"DispatchHealth\",\"Health\"],[\"Evidation\",\"Health\"],[\"Rightway\",\"Health\"],[\"Unite Us\",\"Health\"],[\"Arrail Dental\",\"Health\"],[\"Capsule\",\"Health\"],[\"Fiture\",\"Health\"],[\"KRY\",\"Health\"],[\"Caris Life Sciences\",\"Health\"],[\"Noom\",\"Health\"],[\"Cerebral\",\"Health\"],[\"LetsGetChecked\",\"Health\"],[\"Thirty Madison\",\"Health\"],[\"Yaoshibang\",\"Health\"],[\"Carbon Health\",\"Health\"],[\"Prime Medicine\",\"Health\"],[\"SonderMind\",\"Health\"],[\"Maven Clinic\",\"Health\"],[\"Reify Health\",\"Health\"],[\"Mammoth Biosciences\",\"Health\"],[\"Spring Health\",\"Health\"],[\"TrialSpark\",\"Health\"],[\"Dental Monitoring\",\"Health\"],[\"Elemy\",\"Health\"],[\"Truepill\",\"Health\"],[\"CureFit\",\"Health\"],[\"Papa\",\"Health\"],[\"SWORD Health\",\"Health\"],[\"Pristyn Care\",\"Health\"]],\"hovertemplate\":\"Industry=%{customdata[1]}<br>Date Joined=%{x}<br>Valuation ($B)=%{y}<br>Company=%{customdata[0]}<extra></extra>\",\"legendgroup\":\"Health\",\"marker\":{\"color\":\"#FECB52\",\"pattern\":{\"shape\":\"\"}},\"name\":\"Health\",\"offsetgroup\":\"Health\",\"orientation\":\"v\",\"showlegend\":true,\"textposition\":\"auto\",\"x\":[\"2014-04-30\",\"2015-08-31\",\"2015-09-30\",\"2016-01-31\",\"2017-05-31\",\"2017-06-30\",\"2017-09-30\",\"2017-12-31\",\"2018-03-31\",\"2018-04-30\",\"2018-07-31\",\"2018-07-31\",\"2018-08-31\",\"2018-10-31\",\"2019-03-31\",\"2019-05-31\",\"2019-07-31\",\"2019-09-30\",\"2020-01-31\",\"2020-03-31\",\"2020-05-31\",\"2020-06-30\",\"2020-07-31\",\"2020-08-31\",\"2020-09-30\",\"2020-12-31\",\"2020-12-31\",\"2021-01-31\",\"2021-01-31\",\"2021-01-31\",\"2021-01-31\",\"2021-01-31\",\"2021-02-28\",\"2021-02-28\",\"2021-03-31\",\"2021-03-31\",\"2021-03-31\",\"2021-03-31\",\"2021-04-30\",\"2021-04-30\",\"2021-04-30\",\"2021-04-30\",\"2021-05-31\",\"2021-05-31\",\"2021-06-30\",\"2021-06-30\",\"2021-06-30\",\"2021-06-30\",\"2021-07-31\",\"2021-07-31\",\"2021-07-31\",\"2021-08-31\",\"2021-08-31\",\"2021-09-30\",\"2021-09-30\",\"2021-09-30\",\"2021-10-31\",\"2021-10-31\",\"2021-10-31\",\"2021-11-30\",\"2021-11-30\",\"2021-11-30\",\"2021-12-31\"],\"xaxis\":\"x\",\"y\":[3.8,1.8,7.0,1.0,1.0,3.52,5.0,1.3,8.1,1.0,1.0,1.0,12.0,12.6,1.14,1.04,4.0,3.0,1.0,1.3,3.3,1.0,5.0,4.6,1.31,5.7,2.0,1.9,4.6,1.23,6.2,1.5,1.3,1.17,1.7,1.0,1.1,1.7,2.0,1.0,1.0,2.0,7.83,3.7,4.8,1.0,1.0,1.35,3.0,1.2,1.42,1.0,2.2,1.0,2.0,1.0,1.0,1.15,1.6,1.5,1.4,2.0,1.2],\"yaxis\":\"y\",\"type\":\"bar\"},{\"alignmentgroup\":\"True\",\"customdata\":[[\"Meizu Technology\",\"Hardware\"],[\"Magic Leap\",\"Hardware\"],[\"DJI Innovations\",\"Hardware\"],[\"Infinidat\",\"Hardware\"],[\"Carbon\",\"Hardware\"],[\"Royole Corporation\",\"Hardware\"],[\"UBTECH Robotics\",\"Hardware\"],[\"Global Switch\",\"Hardware\"],[\"Coocaa\",\"Hardware\"],[\"Samsara Networks\",\"Hardware\"],[\"Orbbec Technology\",\"Hardware\"],[\"China Cloud\",\"Hardware\"],[\"Bitmain Technologies\",\"Hardware\"],[\"Formlabs\",\"Hardware\"],[\"TERMINUS Technology\",\"Hardware\"],[\"BitFury\",\"Hardware\"],[\"Cerebras Systems\",\"Hardware\"],[\"Geek+\",\"Hardware\"],[\"ASR Microelectronics\",\"Hardware\"],[\"Biren Technology\",\"Hardware\"],[\"Enflame\",\"Hardware\"],[\"Locus Robotics\",\"Hardware\"],[\"Iluvatar CoreX\",\"Hardware\"],[\"EcoFlow\",\"Hardware\"],[\"Ledger\",\"Hardware\"],[\"Next Silicon\",\"Hardware\"],[\"PsiQuantum\",\"Hardware\"],[\"1KMXC\",\"Hardware\"],[\"Agile Robots\",\"Hardware\"],[\"Opentrons\",\"Hardware\"],[\"Density\",\"Hardware\"],[\"Gaussian Robotics\",\"Hardware\"]],\"hovertemplate\":\"Industry=%{customdata[1]}<br>Date Joined=%{x}<br>Valuation ($B)=%{y}<br>Company=%{customdata[0]}<extra></extra>\",\"legendgroup\":\"Hardware\",\"marker\":{\"color\":\"#636efa\",\"pattern\":{\"shape\":\"\"}},\"name\":\"Hardware\",\"offsetgroup\":\"Hardware\",\"orientation\":\"v\",\"showlegend\":true,\"textposition\":\"auto\",\"x\":[\"2014-07-31\",\"2014-10-31\",\"2015-01-31\",\"2015-04-30\",\"2015-08-31\",\"2015-08-31\",\"2016-07-31\",\"2016-12-31\",\"2018-03-31\",\"2018-03-31\",\"2018-05-31\",\"2018-06-30\",\"2018-07-31\",\"2018-08-31\",\"2018-10-31\",\"2018-11-30\",\"2018-11-30\",\"2018-11-30\",\"2020-04-30\",\"2020-08-31\",\"2021-01-31\",\"2021-02-28\",\"2021-03-31\",\"2021-06-30\",\"2021-06-30\",\"2021-06-30\",\"2021-07-31\",\"2021-08-31\",\"2021-09-30\",\"2021-09-30\",\"2021-11-30\",\"2021-11-30\"],\"xaxis\":\"x\",\"y\":[4.58,2.0,15.0,1.6,2.4,6.0,4.45,11.1,1.45,6.3,1.0,1.0,12.0,2.0,1.0,1.0,4.0,1.0,1.6,2.32,1.24,1.0,1.55,1.0,1.5,1.5,3.15,1.0,1.0,1.8,1.05,1.0],\"yaxis\":\"y\",\"type\":\"bar\"},{\"alignmentgroup\":\"True\",\"customdata\":[[\"Ola Cabs\",\"Auto & transportation\"],[\"BlaBlaCar\",\"Auto & transportation\"],[\"Gett\",\"Auto & transportation\"],[\"Quanergy Systems\",\"Auto & transportation\"],[\"Cabify\",\"Auto & transportation\"],[\"Cao Cao Mobility\",\"Auto & transportation\"],[\"AIWAYS\",\"Auto & transportation\"],[\"BYTON\",\"Auto & transportation\"],[\"Youxia Motors\",\"Auto & transportation\"],[\"Bolt\",\"Auto & transportation\"],[\"Hello TransTech\",\"Auto & transportation\"],[\"Banma Network Technologies\",\"Auto & transportation\"],[\"Tuhu\",\"Auto & transportation\"],[\"Leap Motor\",\"Auto & transportation\"],[\"Fair\",\"Auto & transportation\"],[\"Nuro\",\"Auto & transportation\"],[\"WM Motor\",\"Auto & transportation\"],[\"ENOVATE\",\"Auto & transportation\"],[\"Bordrin Motors\",\"Auto & transportation\"],[\"FlixMobility\",\"Auto & transportation\"],[\"Ola Electric Mobility\",\"Auto & transportation\"],[\"Via\",\"Auto & transportation\"],[\"SVOLT Energy\",\"Auto & transportation\"],[\"ECARX\",\"Auto & transportation\"],[\"Socar\",\"Auto & transportation\"],[\"WeRide\",\"Auto & transportation\"],[\"Star Charge\",\"Auto & transportation\"],[\"ZongMu Technology\",\"Auto & transportation\"],[\"Hozon Auto\",\"Auto & transportation\"]],\"hovertemplate\":\"Industry=%{customdata[1]}<br>Date Joined=%{x}<br>Valuation ($B)=%{y}<br>Company=%{customdata[0]}<extra></extra>\",\"legendgroup\":\"Auto & transportation\",\"marker\":{\"color\":\"#EF553B\",\"pattern\":{\"shape\":\"\"}},\"name\":\"Auto & transportation\",\"offsetgroup\":\"Auto & transportation\",\"orientation\":\"v\",\"showlegend\":true,\"textposition\":\"auto\",\"x\":[\"2014-10-31\",\"2015-09-30\",\"2016-05-31\",\"2016-08-31\",\"2018-01-31\",\"2018-01-31\",\"2018-04-30\",\"2018-04-30\",\"2018-04-30\",\"2018-05-31\",\"2018-06-30\",\"2018-09-30\",\"2018-09-30\",\"2018-11-30\",\"2018-12-31\",\"2019-02-28\",\"2019-03-31\",\"2019-04-30\",\"2019-06-30\",\"2019-07-31\",\"2019-07-31\",\"2020-03-31\",\"2020-06-30\",\"2020-10-31\",\"2020-10-31\",\"2020-12-31\",\"2021-05-31\",\"2021-06-30\",\"2021-10-31\"],\"xaxis\":\"x\",\"y\":[7.5,2.0,1.5,2.0,1.4,1.6,1.78,2.5,3.35,4.75,5.0,1.0,1.16,1.01,1.2,8.6,5.0,1.85,1.48,3.0,3.0,3.3,1.16,3.31,1.0,3.3,2.41,11.4,2.74],\"yaxis\":\"y\",\"type\":\"bar\"},{\"alignmentgroup\":\"True\",\"customdata\":[[\"Instacart\",\"Supply chain logistics & delivery\"],[\"Yiguo\",\"Supply chain logistics & delivery\"],[\"YH Global\",\"Supply chain logistics & delivery\"],[\"Hive Box\",\"Supply chain logistics & delivery\"],[\"Flexport\",\"Supply chain logistics & delivery\"],[\"Swiggy\",\"Supply chain logistics & delivery\"],[\"Kuaigou Dache\",\"Supply chain logistics & delivery\"],[\"FlashEx\",\"Supply chain logistics & delivery\"],[\"Rappi\",\"Supply chain logistics & delivery\"],[\"Convoy\",\"Supply chain logistics & delivery\"],[\"Udaan\",\"Supply chain logistics & delivery\"],[\"Juma Peisong\",\"Supply chain logistics & delivery\"],[\"iFood\",\"Supply chain logistics & delivery\"],[\"REEF Technology\",\"Supply chain logistics & delivery\"],[\"Yimidida\",\"Supply chain logistics & delivery\"],[\"Delhivery\",\"Supply chain logistics & delivery\"],[\"Lalamove\",\"Supply chain logistics & delivery\"],[\"KeepTruckin\",\"Supply chain logistics & delivery\"],[\"ezCater\",\"Supply chain logistics & delivery\"],[\"Zipline\",\"Supply chain logistics & delivery\"],[\"Loggi\",\"Supply chain logistics & delivery\"],[\"Rivigo\",\"Supply chain logistics & delivery\"],[\"Glovo\",\"Supply chain logistics & delivery\"],[\"Proterra\",\"Supply chain logistics & delivery\"],[\"Gousto\",\"Supply chain logistics & delivery\"],[\"ISN\",\"Supply chain logistics & delivery\"],[\"56PINGTAI\",\"Supply chain logistics & delivery\"],[\"Sennder\",\"Supply chain logistics & delivery\"],[\"UISEE Technology\",\"Supply chain logistics & delivery\"],[\"Flash Express\",\"Supply chain logistics & delivery\"],[\"Skydio\",\"Supply chain logistics & delivery\"],[\"Weee!\",\"Supply chain logistics & delivery\"],[\"J&T Express\",\"Supply chain logistics & delivery\"],[\"Bringg\",\"Supply chain logistics & delivery\"],[\"Forto\",\"Supply chain logistics & delivery\"],[\"Grofers\",\"Supply chain logistics & delivery\"],[\"Project44\",\"Supply chain logistics & delivery\"],[\"ShipBob\",\"Supply chain logistics & delivery\"],[\"Shippo\",\"Supply chain logistics & delivery\"],[\"YunQuNa\",\"Supply chain logistics & delivery\"],[\"BlackBuck\",\"Supply chain logistics & delivery\"],[\"Kitopi\",\"Supply chain logistics & delivery\"],[\"Kurly\",\"Supply chain logistics & delivery\"],[\"Rohlik\",\"Supply chain logistics & delivery\"],[\"Keenon Robotics\",\"Supply chain logistics & delivery\"],[\"Ninja Van\",\"Supply chain logistics & delivery\"],[\"STORD\",\"Supply chain logistics & delivery\"],[\"CargoX\",\"Supply chain logistics & delivery\"],[\"Fabric\",\"Supply chain logistics & delivery\"],[\"Flock Freight\",\"Supply chain logistics & delivery\"],[\"Deliverr\",\"Supply chain logistics & delivery\"]],\"hovertemplate\":\"Industry=%{customdata[1]}<br>Date Joined=%{x}<br>Valuation ($B)=%{y}<br>Company=%{customdata[0]}<extra></extra>\",\"legendgroup\":\"Supply chain logistics & delivery\",\"marker\":{\"color\":\"#00cc96\",\"pattern\":{\"shape\":\"\"}},\"name\":\"Supply chain logistics & delivery\",\"offsetgroup\":\"Supply chain logistics & delivery\",\"orientation\":\"v\",\"showlegend\":true,\"textposition\":\"auto\",\"x\":[\"2014-12-31\",\"2016-11-30\",\"2017-09-30\",\"2018-01-31\",\"2018-04-30\",\"2018-06-30\",\"2018-07-31\",\"2018-08-31\",\"2018-08-31\",\"2018-09-30\",\"2018-09-30\",\"2018-11-30\",\"2018-11-30\",\"2018-12-31\",\"2019-01-31\",\"2019-02-28\",\"2019-02-28\",\"2019-04-30\",\"2019-04-30\",\"2019-05-31\",\"2019-06-30\",\"2019-07-31\",\"2019-12-31\",\"2020-10-31\",\"2020-11-30\",\"2020-12-31\",\"2021-01-31\",\"2021-01-31\",\"2021-01-31\",\"2021-02-28\",\"2021-02-28\",\"2021-03-31\",\"2021-04-30\",\"2021-06-30\",\"2021-06-30\",\"2021-06-30\",\"2021-06-30\",\"2021-06-30\",\"2021-06-30\",\"2021-06-30\",\"2021-07-31\",\"2021-07-31\",\"2021-07-31\",\"2021-07-31\",\"2021-09-30\",\"2021-09-30\",\"2021-09-30\",\"2021-10-31\",\"2021-10-31\",\"2021-10-31\",\"2021-11-30\"],\"xaxis\":\"x\",\"y\":[39.0,1.2,1.0,1.4,3.2,5.5,1.0,1.0,5.25,2.75,3.1,1.45,1.0,1.0,1.17,3.0,10.0,2.3,1.25,2.8,2.0,1.07,1.0,1.05,1.0,2.0,1.08,1.1,1.08,1.0,1.0,2.8,20.0,1.0,1.2,1.01,1.2,1.0,1.0,1.5,1.0,1.0,2.2,1.2,1.0,1.0,1.13,1.0,1.0,1.3,2.0],\"yaxis\":\"y\",\"type\":\"bar\"},{\"alignmentgroup\":\"True\",\"customdata\":[[\"TuJia\",\"Travel\"],[\"Traveloka\",\"Travel\"],[\"XiaoZhu\",\"Travel\"],[\"Klook\",\"Travel\"],[\"OYO Rooms\",\"Travel\"],[\"Omio\",\"Travel\"],[\"TripActions\",\"Travel\"],[\"GetYourGuide\",\"Travel\"],[\"Mafengwo\",\"Travel\"],[\"Yanolja\",\"Travel\"],[\"Sonder\",\"Travel\"],[\"Hopper\",\"Travel\"],[\"Tier Mobility\",\"Travel\"]],\"hovertemplate\":\"Industry=%{customdata[1]}<br>Date Joined=%{x}<br>Valuation ($B)=%{y}<br>Company=%{customdata[0]}<extra></extra>\",\"legendgroup\":\"Travel\",\"marker\":{\"color\":\"#ab63fa\",\"pattern\":{\"shape\":\"\"}},\"name\":\"Travel\",\"offsetgroup\":\"Travel\",\"orientation\":\"v\",\"showlegend\":true,\"textposition\":\"auto\",\"x\":[\"2015-06-30\",\"2017-01-31\",\"2017-11-30\",\"2018-08-31\",\"2018-09-30\",\"2018-10-31\",\"2018-11-30\",\"2019-05-31\",\"2019-05-31\",\"2019-06-30\",\"2019-07-31\",\"2021-03-31\",\"2021-10-31\"],\"xaxis\":\"x\",\"y\":[1.5,3.0,1.5,1.35,9.6,1.0,7.25,1.1,2.0,1.0,1.3,3.0,2.0],\"yaxis\":\"y\",\"type\":\"bar\"},{\"alignmentgroup\":\"True\",\"customdata\":[[\"HuJiang\",\"Edtech\"],[\"iTutorGroup\",\"Edtech\"],[\"Age of Learning\",\"Edtech\"],[\"VIPKid\",\"Edtech\"],[\"Yuanfudao\",\"Edtech\"],[\"BYJU's\",\"Edtech\"],[\"Luoji Siwei\",\"Edtech\"],[\"Changingedu\",\"Edtech\"],[\"Huike Group\",\"Edtech\"],[\"Zuoyebang\",\"Edtech\"],[\"KnowBox\",\"Edtech\"],[\"Course Hero\",\"Edtech\"],[\"ApplyBoard\",\"Edtech\"],[\"Quizlet\",\"Edtech\"],[\"Unacademy\",\"Edtech\"],[\"Fenbi Education\",\"Edtech\"],[\"Pipa Coding\",\"Edtech\"],[\"Yunxuetang\",\"Edtech\"],[\"Degreed\",\"Edtech\"],[\"Outschool\",\"Edtech\"],[\"MasterClass\",\"Edtech\"],[\"GoStudent\",\"Edtech\"],[\"JoyTunes\",\"Edtech\"],[\"Articulate\",\"Edtech\"],[\"Eruditus Executive Education\",\"Edtech\"],[\"UpGrad\",\"Edtech\"],[\"Vedantu\",\"Edtech\"]],\"hovertemplate\":\"Industry=%{customdata[1]}<br>Date Joined=%{x}<br>Valuation ($B)=%{y}<br>Company=%{customdata[0]}<extra></extra>\",\"legendgroup\":\"Edtech\",\"marker\":{\"color\":\"#FFA15A\",\"pattern\":{\"shape\":\"\"}},\"name\":\"Edtech\",\"offsetgroup\":\"Edtech\",\"orientation\":\"v\",\"showlegend\":true,\"textposition\":\"auto\",\"x\":[\"2015-10-31\",\"2015-11-30\",\"2016-05-31\",\"2016-08-31\",\"2017-05-31\",\"2017-07-31\",\"2017-07-31\",\"2017-10-31\",\"2018-05-31\",\"2018-07-31\",\"2019-05-31\",\"2020-02-29\",\"2020-05-31\",\"2020-05-31\",\"2020-09-30\",\"2021-02-28\",\"2021-03-31\",\"2021-03-31\",\"2021-04-30\",\"2021-04-30\",\"2021-05-31\",\"2021-06-30\",\"2021-06-30\",\"2021-07-31\",\"2021-08-31\",\"2021-08-31\",\"2021-09-30\"],\"xaxis\":\"x\",\"y\":[1.0,1.0,3.0,4.5,15.5,21.0,1.18,1.5,1.0,3.0,1.0,1.1,3.0,1.0,3.44,1.95,1.2,1.0,1.4,3.0,2.75,1.7,1.0,3.75,3.2,1.2,1.0],\"yaxis\":\"y\",\"type\":\"bar\"}],                        {\"template\":{\"data\":{\"bar\":[{\"error_x\":{\"color\":\"#2a3f5f\"},\"error_y\":{\"color\":\"#2a3f5f\"},\"marker\":{\"line\":{\"color\":\"#E5ECF6\",\"width\":0.5},\"pattern\":{\"fillmode\":\"overlay\",\"size\":10,\"solidity\":0.2}},\"type\":\"bar\"}],\"barpolar\":[{\"marker\":{\"line\":{\"color\":\"#E5ECF6\",\"width\":0.5},\"pattern\":{\"fillmode\":\"overlay\",\"size\":10,\"solidity\":0.2}},\"type\":\"barpolar\"}],\"carpet\":[{\"aaxis\":{\"endlinecolor\":\"#2a3f5f\",\"gridcolor\":\"white\",\"linecolor\":\"white\",\"minorgridcolor\":\"white\",\"startlinecolor\":\"#2a3f5f\"},\"baxis\":{\"endlinecolor\":\"#2a3f5f\",\"gridcolor\":\"white\",\"linecolor\":\"white\",\"minorgridcolor\":\"white\",\"startlinecolor\":\"#2a3f5f\"},\"type\":\"carpet\"}],\"choropleth\":[{\"colorbar\":{\"outlinewidth\":0,\"ticks\":\"\"},\"type\":\"choropleth\"}],\"contour\":[{\"colorbar\":{\"outlinewidth\":0,\"ticks\":\"\"},\"colorscale\":[[0.0,\"#0d0887\"],[0.1111111111111111,\"#46039f\"],[0.2222222222222222,\"#7201a8\"],[0.3333333333333333,\"#9c179e\"],[0.4444444444444444,\"#bd3786\"],[0.5555555555555556,\"#d8576b\"],[0.6666666666666666,\"#ed7953\"],[0.7777777777777778,\"#fb9f3a\"],[0.8888888888888888,\"#fdca26\"],[1.0,\"#f0f921\"]],\"type\":\"contour\"}],\"contourcarpet\":[{\"colorbar\":{\"outlinewidth\":0,\"ticks\":\"\"},\"type\":\"contourcarpet\"}],\"heatmap\":[{\"colorbar\":{\"outlinewidth\":0,\"ticks\":\"\"},\"colorscale\":[[0.0,\"#0d0887\"],[0.1111111111111111,\"#46039f\"],[0.2222222222222222,\"#7201a8\"],[0.3333333333333333,\"#9c179e\"],[0.4444444444444444,\"#bd3786\"],[0.5555555555555556,\"#d8576b\"],[0.6666666666666666,\"#ed7953\"],[0.7777777777777778,\"#fb9f3a\"],[0.8888888888888888,\"#fdca26\"],[1.0,\"#f0f921\"]],\"type\":\"heatmap\"}],\"heatmapgl\":[{\"colorbar\":{\"outlinewidth\":0,\"ticks\":\"\"},\"colorscale\":[[0.0,\"#0d0887\"],[0.1111111111111111,\"#46039f\"],[0.2222222222222222,\"#7201a8\"],[0.3333333333333333,\"#9c179e\"],[0.4444444444444444,\"#bd3786\"],[0.5555555555555556,\"#d8576b\"],[0.6666666666666666,\"#ed7953\"],[0.7777777777777778,\"#fb9f3a\"],[0.8888888888888888,\"#fdca26\"],[1.0,\"#f0f921\"]],\"type\":\"heatmapgl\"}],\"histogram\":[{\"marker\":{\"pattern\":{\"fillmode\":\"overlay\",\"size\":10,\"solidity\":0.2}},\"type\":\"histogram\"}],\"histogram2d\":[{\"colorbar\":{\"outlinewidth\":0,\"ticks\":\"\"},\"colorscale\":[[0.0,\"#0d0887\"],[0.1111111111111111,\"#46039f\"],[0.2222222222222222,\"#7201a8\"],[0.3333333333333333,\"#9c179e\"],[0.4444444444444444,\"#bd3786\"],[0.5555555555555556,\"#d8576b\"],[0.6666666666666666,\"#ed7953\"],[0.7777777777777778,\"#fb9f3a\"],[0.8888888888888888,\"#fdca26\"],[1.0,\"#f0f921\"]],\"type\":\"histogram2d\"}],\"histogram2dcontour\":[{\"colorbar\":{\"outlinewidth\":0,\"ticks\":\"\"},\"colorscale\":[[0.0,\"#0d0887\"],[0.1111111111111111,\"#46039f\"],[0.2222222222222222,\"#7201a8\"],[0.3333333333333333,\"#9c179e\"],[0.4444444444444444,\"#bd3786\"],[0.5555555555555556,\"#d8576b\"],[0.6666666666666666,\"#ed7953\"],[0.7777777777777778,\"#fb9f3a\"],[0.8888888888888888,\"#fdca26\"],[1.0,\"#f0f921\"]],\"type\":\"histogram2dcontour\"}],\"mesh3d\":[{\"colorbar\":{\"outlinewidth\":0,\"ticks\":\"\"},\"type\":\"mesh3d\"}],\"parcoords\":[{\"line\":{\"colorbar\":{\"outlinewidth\":0,\"ticks\":\"\"}},\"type\":\"parcoords\"}],\"pie\":[{\"automargin\":true,\"type\":\"pie\"}],\"scatter\":[{\"marker\":{\"colorbar\":{\"outlinewidth\":0,\"ticks\":\"\"}},\"type\":\"scatter\"}],\"scatter3d\":[{\"line\":{\"colorbar\":{\"outlinewidth\":0,\"ticks\":\"\"}},\"marker\":{\"colorbar\":{\"outlinewidth\":0,\"ticks\":\"\"}},\"type\":\"scatter3d\"}],\"scattercarpet\":[{\"marker\":{\"colorbar\":{\"outlinewidth\":0,\"ticks\":\"\"}},\"type\":\"scattercarpet\"}],\"scattergeo\":[{\"marker\":{\"colorbar\":{\"outlinewidth\":0,\"ticks\":\"\"}},\"type\":\"scattergeo\"}],\"scattergl\":[{\"marker\":{\"colorbar\":{\"outlinewidth\":0,\"ticks\":\"\"}},\"type\":\"scattergl\"}],\"scattermapbox\":[{\"marker\":{\"colorbar\":{\"outlinewidth\":0,\"ticks\":\"\"}},\"type\":\"scattermapbox\"}],\"scatterpolar\":[{\"marker\":{\"colorbar\":{\"outlinewidth\":0,\"ticks\":\"\"}},\"type\":\"scatterpolar\"}],\"scatterpolargl\":[{\"marker\":{\"colorbar\":{\"outlinewidth\":0,\"ticks\":\"\"}},\"type\":\"scatterpolargl\"}],\"scatterternary\":[{\"marker\":{\"colorbar\":{\"outlinewidth\":0,\"ticks\":\"\"}},\"type\":\"scatterternary\"}],\"surface\":[{\"colorbar\":{\"outlinewidth\":0,\"ticks\":\"\"},\"colorscale\":[[0.0,\"#0d0887\"],[0.1111111111111111,\"#46039f\"],[0.2222222222222222,\"#7201a8\"],[0.3333333333333333,\"#9c179e\"],[0.4444444444444444,\"#bd3786\"],[0.5555555555555556,\"#d8576b\"],[0.6666666666666666,\"#ed7953\"],[0.7777777777777778,\"#fb9f3a\"],[0.8888888888888888,\"#fdca26\"],[1.0,\"#f0f921\"]],\"type\":\"surface\"}],\"table\":[{\"cells\":{\"fill\":{\"color\":\"#EBF0F8\"},\"line\":{\"color\":\"white\"}},\"header\":{\"fill\":{\"color\":\"#C8D4E3\"},\"line\":{\"color\":\"white\"}},\"type\":\"table\"}]},\"layout\":{\"annotationdefaults\":{\"arrowcolor\":\"#2a3f5f\",\"arrowhead\":0,\"arrowwidth\":1},\"autotypenumbers\":\"strict\",\"coloraxis\":{\"colorbar\":{\"outlinewidth\":0,\"ticks\":\"\"}},\"colorscale\":{\"diverging\":[[0,\"#8e0152\"],[0.1,\"#c51b7d\"],[0.2,\"#de77ae\"],[0.3,\"#f1b6da\"],[0.4,\"#fde0ef\"],[0.5,\"#f7f7f7\"],[0.6,\"#e6f5d0\"],[0.7,\"#b8e186\"],[0.8,\"#7fbc41\"],[0.9,\"#4d9221\"],[1,\"#276419\"]],\"sequential\":[[0.0,\"#0d0887\"],[0.1111111111111111,\"#46039f\"],[0.2222222222222222,\"#7201a8\"],[0.3333333333333333,\"#9c179e\"],[0.4444444444444444,\"#bd3786\"],[0.5555555555555556,\"#d8576b\"],[0.6666666666666666,\"#ed7953\"],[0.7777777777777778,\"#fb9f3a\"],[0.8888888888888888,\"#fdca26\"],[1.0,\"#f0f921\"]],\"sequentialminus\":[[0.0,\"#0d0887\"],[0.1111111111111111,\"#46039f\"],[0.2222222222222222,\"#7201a8\"],[0.3333333333333333,\"#9c179e\"],[0.4444444444444444,\"#bd3786\"],[0.5555555555555556,\"#d8576b\"],[0.6666666666666666,\"#ed7953\"],[0.7777777777777778,\"#fb9f3a\"],[0.8888888888888888,\"#fdca26\"],[1.0,\"#f0f921\"]]},\"colorway\":[\"#636efa\",\"#EF553B\",\"#00cc96\",\"#ab63fa\",\"#FFA15A\",\"#19d3f3\",\"#FF6692\",\"#B6E880\",\"#FF97FF\",\"#FECB52\"],\"font\":{\"color\":\"#2a3f5f\"},\"geo\":{\"bgcolor\":\"white\",\"lakecolor\":\"white\",\"landcolor\":\"#E5ECF6\",\"showlakes\":true,\"showland\":true,\"subunitcolor\":\"white\"},\"hoverlabel\":{\"align\":\"left\"},\"hovermode\":\"closest\",\"mapbox\":{\"style\":\"light\"},\"paper_bgcolor\":\"white\",\"plot_bgcolor\":\"#E5ECF6\",\"polar\":{\"angularaxis\":{\"gridcolor\":\"white\",\"linecolor\":\"white\",\"ticks\":\"\"},\"bgcolor\":\"#E5ECF6\",\"radialaxis\":{\"gridcolor\":\"white\",\"linecolor\":\"white\",\"ticks\":\"\"}},\"scene\":{\"xaxis\":{\"backgroundcolor\":\"#E5ECF6\",\"gridcolor\":\"white\",\"gridwidth\":2,\"linecolor\":\"white\",\"showbackground\":true,\"ticks\":\"\",\"zerolinecolor\":\"white\"},\"yaxis\":{\"backgroundcolor\":\"#E5ECF6\",\"gridcolor\":\"white\",\"gridwidth\":2,\"linecolor\":\"white\",\"showbackground\":true,\"ticks\":\"\",\"zerolinecolor\":\"white\"},\"zaxis\":{\"backgroundcolor\":\"#E5ECF6\",\"gridcolor\":\"white\",\"gridwidth\":2,\"linecolor\":\"white\",\"showbackground\":true,\"ticks\":\"\",\"zerolinecolor\":\"white\"}},\"shapedefaults\":{\"line\":{\"color\":\"#2a3f5f\"}},\"ternary\":{\"aaxis\":{\"gridcolor\":\"white\",\"linecolor\":\"white\",\"ticks\":\"\"},\"baxis\":{\"gridcolor\":\"white\",\"linecolor\":\"white\",\"ticks\":\"\"},\"bgcolor\":\"#E5ECF6\",\"caxis\":{\"gridcolor\":\"white\",\"linecolor\":\"white\",\"ticks\":\"\"}},\"title\":{\"x\":0.05},\"xaxis\":{\"automargin\":true,\"gridcolor\":\"white\",\"linecolor\":\"white\",\"ticks\":\"\",\"title\":{\"standoff\":15},\"zerolinecolor\":\"white\",\"zerolinewidth\":2},\"yaxis\":{\"automargin\":true,\"gridcolor\":\"white\",\"linecolor\":\"white\",\"ticks\":\"\",\"title\":{\"standoff\":15},\"zerolinecolor\":\"white\",\"zerolinewidth\":2}}},\"xaxis\":{\"anchor\":\"y\",\"domain\":[0.0,1.0],\"title\":{\"text\":\"Date Joined\"}},\"yaxis\":{\"anchor\":\"x\",\"domain\":[0.0,1.0],\"title\":{\"text\":\"Valuation ($B)\"}},\"legend\":{\"title\":{\"text\":\"Industry\"},\"tracegroupgap\":0},\"margin\":{\"t\":60},\"barmode\":\"relative\"},                        {\"responsive\": true}                    ).then(function(){\n",
       "                            \n",
       "var gd = document.getElementById('72796eec-ae77-4804-934b-e14bc75eb9fa');\n",
       "var x = new MutationObserver(function (mutations, observer) {{\n",
       "        var display = window.getComputedStyle(gd).display;\n",
       "        if (!display || display === 'none') {{\n",
       "            console.log([gd, 'removed!']);\n",
       "            Plotly.purge(gd);\n",
       "            observer.disconnect();\n",
       "        }}\n",
       "}});\n",
       "\n",
       "// Listen for the removal of the full notebook cells\n",
       "var notebookContainer = gd.closest('#notebook-container');\n",
       "if (notebookContainer) {{\n",
       "    x.observe(notebookContainer, {childList: true});\n",
       "}}\n",
       "\n",
       "// Listen for the clearing of the current output cell\n",
       "var outputEl = gd.closest('.output');\n",
       "if (outputEl) {{\n",
       "    x.observe(outputEl, {childList: true});\n",
       "}}\n",
       "\n",
       "                        })                };                });            </script>        </div>"
      ]
     },
     "metadata": {},
     "output_type": "display_data"
    }
   ],
   "source": [
    "import plotly.express as px\n",
    "px.bar(dates, x='Date Joined', y='Valuation ($B)', color='Industry',\n",
    "      hover_data={'Company',\n",
    "                  'Date Joined',\n",
    "                  'Valuation ($B)',\n",
    "                  'Industry'})"
   ]
  }
 ],
 "metadata": {
  "kernelspec": {
   "display_name": "Python 3",
   "language": "python",
   "name": "python3"
  },
  "language_info": {
   "codemirror_mode": {
    "name": "ipython",
    "version": 3
   },
   "file_extension": ".py",
   "mimetype": "text/x-python",
   "name": "python",
   "nbconvert_exporter": "python",
   "pygments_lexer": "ipython3",
   "version": "3.8.8"
  }
 },
 "nbformat": 4,
 "nbformat_minor": 5
}
